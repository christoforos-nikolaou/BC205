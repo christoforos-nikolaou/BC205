{
 "cells": [
  {
   "cell_type": "markdown",
   "metadata": {},
   "source": [
    "# BC205: Algorithms for Bioinformatics.\n",
    "\n",
    "## All Exercises (2020-)\n",
    "\n",
    "## Exercise I. Iteration vs Recursion\n",
    "\n",
    "#### 1. Factorial Calculation Iteration vs Recursion\n",
    "Your exercise is this:\n",
    "* Write **two versions** of program that will calculate the Factorial of (n) given n as input. These should be:  \n",
    "  a. An iterative approach\n",
    "  b. A recursive approach\n",
    "* Try to estimate the number of calculations involved in each of the two approaches. Which one is faster?\n",
    "\n",
    "## Exercise II. Recursion, initial sequence analysis\n",
    "\n",
    "#### 2. Finding palindromes in a sequence using recursion\n",
    "There is an easy way to define a palindrome sequence _S_ of length _l_ if we consider its indices _1:l_. This is:\n",
    "```\n",
    "S is a palindrome if S[1:l]==S[l:1]\n",
    "```\n",
    "* Write a function **using recursion** that will examine:\n",
    "a. whether a sequence contains a palindrome in the middle (or not).\n",
    "b. will return the longest possible palindrome \n"
   ]
  },
  {
   "cell_type": "code",
   "execution_count": 2,
   "metadata": {},
   "outputs": [
    {
     "output_type": "stream",
     "name": "stdout",
     "text": [
      "TTTTTTTCGACCAAAGGTAACGAGGTAACAACCATGCGAGTGTTGAAGTTCGGCGGTACATCAGTGGCAAATGCAGAACGTTTTCTGCGGGTTGCCGAT\n"
     ]
    }
   ],
   "source": [
    "# Function to read a fasta file sequence\n",
    "\n",
    "def readfasta(fastafile):\n",
    "    import regex as re\n",
    "    f=open(fastafile, 'r')\n",
    "    seq = \"\"\n",
    "    total = 0\n",
    "    for line in f:\n",
    "        x=re.match(\">\", line)\n",
    "        if x == None:\n",
    "            length=len(line)\n",
    "            total=total+length\n",
    "            seq=seq+line[0:length-1]\n",
    "    f.close()\n",
    "    return(seq)\n",
    "\n",
    "ecoliseq=readfasta(\"files/ecoli.fa\")\n",
    "print(ecoliseq[1:100])\n"
   ]
  },
  {
   "cell_type": "code",
   "execution_count": 5,
   "metadata": {
    "tags": []
   },
   "outputs": [
    {
     "output_type": "execute_result",
     "data": {
      "text/plain": [
       "[129087,\n",
       " 142321,\n",
       " 321233,\n",
       " 439785,\n",
       " 503735,\n",
       " 524537,\n",
       " 576359,\n",
       " 649008,\n",
       " 1114247,\n",
       " 1193976,\n",
       " 1359191,\n",
       " 1581527,\n",
       " 1584297,\n",
       " 1653680,\n",
       " 1893885,\n",
       " 1899458,\n",
       " 2015213,\n",
       " 2062687,\n",
       " 2124348,\n",
       " 2160790,\n",
       " 2247475,\n",
       " 2266779,\n",
       " 2268601,\n",
       " 2398182,\n",
       " 2501599,\n",
       " 2640588,\n",
       " 2841966,\n",
       " 2896367,\n",
       " 2923341]"
      ]
     },
     "metadata": {},
     "execution_count": 5
    }
   ],
   "source": [
    " \n",
    "# function to find fixed elements in string\n",
    "\n",
    "def findoccurrence(sequence, pattern):\n",
    "    position=0\n",
    "    i=0\n",
    "    occurrences=list()\n",
    "    while(len(sequence)>=len(pattern)):\n",
    "        if(sequence.find(pattern)!=-1):\n",
    "            i=sequence.index(pattern)+1\n",
    "            position=position+i\n",
    "            occurrences.append(position-1)\n",
    "            sequence=sequence[i:]\n",
    "        else:\n",
    "            break\n",
    "    return(occurrences)\n",
    "\n",
    "findoccurrence(ecoliseq, \"GATAGATA\")"
   ]
  },
  {
   "cell_type": "code",
   "execution_count": 26,
   "metadata": {},
   "outputs": [
    {
     "output_type": "execute_result",
     "data": {
      "text/plain": [
       "'GCGGCGGCGGTTTTGGCGGCGGCG'"
      ]
     },
     "metadata": {},
     "execution_count": 26
    }
   ],
   "source": [
    "# Aimilios Iterative Palindrome\n",
    "def longestpalindrome(s):\n",
    "  s=s.replace('','#')[1:-1]\n",
    "  palindromes=[]\n",
    "  for i in range(1,len(s)):\n",
    "    try:\n",
    "        m=1 \n",
    "        while s[i-m]==s[i+m]:\n",
    "            palindromes.append(s[i-m:i+m+1])\n",
    "            m+=1\n",
    "    except:\n",
    "        pass\n",
    "  return max(palindromes, key=len).replace('#','')\n",
    "\n",
    "ecoliseq=ecoliseq.replace('N','')\n",
    "longestpalindrome(ecoliseq)\n",
    "  "
   ]
  },
  {
   "cell_type": "code",
   "execution_count": 34,
   "metadata": {},
   "outputs": [
    {
     "output_type": "stream",
     "name": "stdout",
     "text": [
      "--- 2.46209979057312 seconds ---\n"
     ]
    }
   ],
   "source": [
    "import time\n",
    "start_time = time.time()\n",
    "ecoliseq=ecoliseq.replace('N','')\n",
    "longestpalindrome(ecoliseq)\n",
    "print(\"--- %s seconds ---\" % (time.time() - start_time))\n"
   ]
  },
  {
   "cell_type": "code",
   "execution_count": 31,
   "metadata": {},
   "outputs": [
    {
     "output_type": "execute_result",
     "data": {
      "text/plain": [
       "'GCTTTCGCGTCAGACTGCGCTTTCG'"
      ]
     },
     "metadata": {},
     "execution_count": 31
    }
   ],
   "source": [
    "# Aimilios Recursive Palindrome\n",
    "def expansion(s,i,m):\n",
    "  try:\n",
    "    if s[i-m]!=s[i+m]:\n",
    "      prol_pal=s[i-m+1:i+m]\n",
    "      if prol_pal==prol_pal[::-1]:\n",
    "       return( s[i-m+1:i+m])\n",
    "      else:\n",
    "        pass\n",
    "    else:\n",
    "      m+=1\n",
    "      return expansion(s,i,m)\n",
    "  except:\n",
    "      pass\n",
    "  \n",
    "def theLongestPalindrome(s):\n",
    "  if len(s)==1:\n",
    "    return s\n",
    "  else:\n",
    "    palindromes=[]\n",
    "    s=s.replace('','#')[1:-1] #Making the string of odd length \n",
    "    for x in range(1,len(s)+1):\n",
    "      palindromes.append(expansion(s,x,1))\n",
    "    res=list(filter(None,palindromes ))#Removing the Nones\n",
    "    return(max(res,key=len)).replace('#',\"\")\n",
    "\n",
    "ecoliseq=ecoliseq.replace('N','')\n",
    "theLongestPalindrome(ecoliseq)   "
   ]
  },
  {
   "cell_type": "code",
   "execution_count": 35,
   "metadata": {},
   "outputs": [
    {
     "output_type": "stream",
     "name": "stdout",
     "text": [
      "--- 3.980158567428589 seconds ---\n"
     ]
    }
   ],
   "source": [
    "import time\n",
    "start_time = time.time()\n",
    "ecoliseq=ecoliseq.replace('N','')\n",
    "theLongestPalindrome(ecoliseq)  \n",
    "print(\"--- %s seconds ---\" % (time.time() - start_time))\n"
   ]
  },
  {
   "cell_type": "code",
   "execution_count": 19,
   "metadata": {
    "tags": []
   },
   "outputs": [
    {
     "output_type": "stream",
     "name": "stdout",
     "text": [
      "TT : 227028\nTC : 178890\nCG : 225469\nGA : 178026\nAC : 171423\nCC : 183927\nCA : 219211\nAA : 225283\nAG : 159161\nGG : 183357\nGT : 172809\nTA : 140154\nAT : 206806\nTG : 218828\nGC : 252623\nCT : 158256\n"
     ]
    }
   ],
   "source": [
    "\n",
    "sequence=ecoliseq\n",
    "sequence=sequence.replace('N','')\n",
    "k=2\n",
    "freq={}\n",
    "for i in range(len(sequence)-1):\n",
    "    kmer=sequence[i:(i+k)]\n",
    "    freq[kmer] = freq.get(kmer, 0) + 1 # get allows you to create a value when it doesn't exist\n",
    "\n",
    "for key in freq:\n",
    "    print(key,\":\",freq[key])"
   ]
  },
  {
   "cell_type": "code",
   "execution_count": null,
   "metadata": {},
   "outputs": [],
   "source": []
  }
 ],
 "metadata": {
  "kernelspec": {
   "name": "python3",
   "display_name": "Python 3.8.5 64-bit ('base': conda)",
   "metadata": {
    "interpreter": {
     "hash": "c72a629dba5ae9edebcad565c17c3988d814021371aabb3db62cb04d2b10dbfe"
    }
   }
  },
  "language_info": {
   "codemirror_mode": {
    "name": "ipython",
    "version": 3
   },
   "file_extension": ".py",
   "mimetype": "text/x-python",
   "name": "python",
   "nbconvert_exporter": "python",
   "pygments_lexer": "ipython3",
   "version": "3.8.5"
  },
  "metadata": {
   "interpreter": {
    "hash": "916dbcbb3f70747c44a77c7bcd40155683ae19c65e1c03b4aa3499c5328201f1"
   }
  }
 },
 "nbformat": 4,
 "nbformat_minor": 4
}