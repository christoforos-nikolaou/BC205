{
 "metadata": {
  "language_info": {
   "codemirror_mode": {
    "name": "ipython",
    "version": 3
   },
   "file_extension": ".py",
   "mimetype": "text/x-python",
   "name": "python",
   "nbconvert_exporter": "python",
   "pygments_lexer": "ipython3",
   "version": "3.8.5"
  },
  "orig_nbformat": 2,
  "kernelspec": {
   "name": "python3",
   "display_name": "Python 3.8.5 64-bit ('base': conda)",
   "metadata": {
    "interpreter": {
     "hash": "c72a629dba5ae9edebcad565c17c3988d814021371aabb3db62cb04d2b10dbfe"
    }
   }
  }
 },
 "nbformat": 4,
 "nbformat_minor": 2,
 "cells": [
  {
   "source": [
    "# BC205: Algorithms for Bioinformatics.\n",
    "\n",
    "## All Exercises (2020-)\n",
    "\n",
    "## Exercise I. Iteration vs Recursion\n",
    "\n",
    "#### 1. Factorial Calculation Iteration vs Recursion\n",
    "Your exercise is this:\n",
    "* Write **two versions** of program that will calculate the Factorial of (n) given n as input. These should be:  \n",
    "  a. An iterative approach\n",
    "  b. A recursive approach\n",
    "* Try to estimate the number of calculations involved in each of the two approaches. Which one is faster?\n",
    "\n",
    "## Exercise II. Recursion, initial sequence analysis\n",
    "\n",
    "#### 2. Finding palindromes in a sequence using recursion\n",
    "There is an easy way to define a palindrome sequence _S_ of length _l_ if we consider its indices _1:l_. This is:\n",
    "```\n",
    "S is a palindrome if S[1:l]==S[l:1]\n",
    "```\n",
    "* Write a function **using recursion** that will examine:\n",
    "a. whether a sequence contains a palindrome in the middle (or not).\n",
    "b. will return the longest possible palindrome \n"
   ],
   "cell_type": "markdown",
   "metadata": {}
  },
  {
   "cell_type": "code",
   "execution_count": 5,
   "metadata": {},
   "outputs": [
    {
     "output_type": "stream",
     "name": "stdout",
     "text": [
      "gcgagcg\n"
     ]
    }
   ],
   "source": [
    "string_for_function = \"gcgatcgcgagcgtacccc\"\n",
    "\n",
    "string_for_function = string_for_function.lower()\n",
    "string_for_function = ''.join(i for i in string_for_function if i.isalnum())\n",
    "\n",
    "def is_palindrome(s):\n",
    "  return s == s[::-1]\n",
    "\n",
    "def palindrome_search(string):\n",
    "  if is_palindrome(string):\n",
    "    return string\n",
    "\n",
    "  x = palindrome_search(string[:-1])\n",
    "  y = palindrome_search(string[1:])\n",
    "\n",
    "  if len(x) > len(y):\n",
    "    return x\n",
    "  else:\n",
    "    return y\n",
    "\n",
    "\n",
    "print(palindrome_search(string_for_function))\n",
    "\n",
    "\n",
    "# setting central element\n",
    "#for i in range(len(sequence)):\n",
    "#    for k in \n",
    "#    if(sequence[0:i]==s[])\n",
    "#    print(sequence[i])"
   ]
  },
  {
   "cell_type": "code",
   "execution_count": null,
   "metadata": {},
   "outputs": [],
   "source": []
  }
 ]
}