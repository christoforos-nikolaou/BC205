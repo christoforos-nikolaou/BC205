{
 "cells": [
  {
   "cell_type": "markdown",
   "metadata": {},
   "source": [
    "# BC205: Algorithms for Bioinformatics.\n",
    "## IV. Motif Discovery\n",
    "\n",
    "### Christoforos Nikolaou\n",
    "\n",
    "### Up to now we have seen how:\n",
    "* We define a sequence motif\n",
    "* We can search for known short motifs with a determined degree\n",
    "of ambiguity\n",
    "* We can estimate the existence of a motif in a sequence\n",
    "* We can define the strength of the motif in the sequence in an\n",
    "Entropy-based score\n",
    "\n",
    "### Recap of results in code:\n",
    "a. Creating of a PWM from a given sequnce"
   ]
  },
  {
   "cell_type": "code",
   "execution_count": 1,
   "metadata": {},
   "outputs": [],
   "source": [
    "# Code here\n",
    "import regex as re\n",
    "f=open(\"files/gata.fa\", 'r')\n",
    "seqs = []\n",
    "for line in f:\n",
    "    x=re.match(\">\", line)\n",
    "    if x == None:\n",
    "        seqs.append(line.rstrip())\n",
    "#\n",
    "def pwm(sequences):\n",
    "    nuc = ['A', 'C', 'G', 'T']\n",
    "    profile=[[0 for i in range(len(sequences[0]))] for j in range(len(nuc))]\n",
    "    #\n",
    "    for instance in sequences:\n",
    "        for j in range(len(instance)):\n",
    "            residue=instance[j]\n",
    "            profile[nuc.index(residue)][j]+=1\n",
    "            profile[nuc.index(residue)][j]=float(profile[nuc.index(residue)][j])\n",
    "    import numpy as np\n",
    "    pwm = np.array(profile)\n",
    "    pwm = pwm/len(sequences)\n",
    "    return(pwm)\n",
    "\n",
    "mypwm=pwm(seqs)\n"
   ]
  },
  {
   "cell_type": "code",
   "execution_count": 2,
   "metadata": {},
   "outputs": [
    {
     "name": "stdout",
     "output_type": "stream",
     "text": [
      "[[0.6  0.02 0.96 0.02 0.72 0.44]\n",
      " [0.04 0.02 0.02 0.   0.06 0.06]\n",
      " [0.02 0.9  0.02 0.04 0.04 0.4 ]\n",
      " [0.34 0.06 0.   0.94 0.18 0.1 ]]\n"
     ]
    }
   ],
   "source": [
    "print(mypwm)\n"
   ]
  },
  {
   "cell_type": "markdown",
   "metadata": {},
   "source": [
    "b. Transformation of PWM into PSSM on the basis of a given sequence\n",
    "\n",
    "We can transform this table by applying a normalization and log-transformation against nucleotide occurrences from a given sequence.\n",
    "\n",
    "We shall first write a function to read the sequence in fasta format"
   ]
  },
  {
   "cell_type": "code",
   "execution_count": 3,
   "metadata": {},
   "outputs": [],
   "source": [
    "def readfasta(fastafile):\n",
    "    import regex as re\n",
    "    f=open(fastafile, 'r')\n",
    "    seq = \"\"\n",
    "    total = 0\n",
    "    for line in f:\n",
    "        x=re.match(\">\", line)\n",
    "        if x == None:\n",
    "            length=len(line)\n",
    "            total=total+length\n",
    "            seq=seq+line[0:length-1]\n",
    "    seq=seq.replace('N','')\n",
    "    f.close()\n",
    "    return(seq)\n",
    "\n",
    "targetsequence=readfasta(\"files/ecoli.fa\")\n"
   ]
  },
  {
   "cell_type": "markdown",
   "metadata": {},
   "source": [
    "And then write another function to calculate nucleotide frequencies"
   ]
  },
  {
   "cell_type": "code",
   "execution_count": 4,
   "metadata": {},
   "outputs": [],
   "source": [
    "\n",
    "def nuccomp(sequence):\n",
    "    import numpy as np\n",
    "    nucfreq = [0, 0, 0, 0]\n",
    "    nuc = ['A', 'C', 'G', 'T']\n",
    "    for i in range(len(nuc)):\n",
    "        nucfreq[i]=sequence.count(nuc[i])\n",
    "    nucfreq=np.array(nucfreq)/len(sequence)\n",
    "    return(nucfreq)\n",
    "\n",
    "nucfreqs=nuccomp(targetsequence)"
   ]
  },
  {
   "cell_type": "code",
   "execution_count": 5,
   "metadata": {},
   "outputs": [
    {
     "name": "stdout",
     "output_type": "stream",
     "text": [
      "[0.24592455 0.2537243  0.25370882 0.24664232]\n"
     ]
    }
   ],
   "source": [
    "print(nucfreqs)"
   ]
  },
  {
   "cell_type": "markdown",
   "metadata": {},
   "source": [
    "Τhe next obvious step is to combine the PWM with the Array of the nucleotide composition of the target sequnce and log-transform the resulting table into a PSSM"
   ]
  },
  {
   "cell_type": "code",
   "execution_count": 7,
   "metadata": {},
   "outputs": [],
   "source": [
    "# Creation of a PSSM\n",
    "def pssm(pwm, nucfreqs):\n",
    "    import numpy as np\n",
    "    import math\n",
    "    pseudocount=0.01\n",
    "    pssm=[[0 for i in range(len(pwm[0]))] for j in range(len(nucfreqs))]\n",
    "    for i in range(len(nucfreqs)):\n",
    "        pssm[i]=(np.array(pwm[i])+pseudocount)/nucfreqs[i]\n",
    "    for i in range(len(pssm)):\n",
    "        for k in range(len(pssm[0])):\n",
    "            pssm[i][k]=math.log(pssm[i][k])/math.log(2)\n",
    "    return(pssm)\n",
    "\n",
    "mypssm=pssm(mypwm, nucfreqs)"
   ]
  },
  {
   "cell_type": "code",
   "execution_count": 8,
   "metadata": {},
   "outputs": [
    {
     "name": "stdout",
     "output_type": "stream",
     "text": [
      "[array([ 1.31059348, -3.03518135,  1.97976899, -3.03518135,  1.56968071,\n",
      "        0.87170924]), array([-2.34326171, -3.0802273 , -3.0802273 , -4.66518981, -1.85783488,\n",
      "       -1.85783488]), array([-3.0801393 ,  1.84269284, -3.0801393 , -2.3431737 , -2.3431737 ,\n",
      "        0.69245021]), array([ 0.50493453, -1.81699356, -4.62434848,  1.94550713, -0.37642097,\n",
      "       -1.16491686])]\n"
     ]
    }
   ],
   "source": [
    "print(mypssm)"
   ]
  },
  {
   "cell_type": "code",
   "execution_count": null,
   "metadata": {},
   "outputs": [],
   "source": [
    "c. Searching a sequence with a PWM/PSSM or with Hamming Distance "
   ]
  },
  {
   "cell_type": "code",
   "execution_count": 9,
   "metadata": {
    "tags": []
   },
   "outputs": [],
   "source": [
    "def pssmSearch(pssm, sequence, threshold):\n",
    "    nuc = ['A', 'C', 'G', 'T']\n",
    "    hits = []\n",
    "    instances = []\n",
    "    for i in range(len(sequence)-len(pssm[0])):\n",
    "        instance=sequence[i:i+len(pssm[0])]\n",
    "        score=0\n",
    "        for l in range(len(instance)):\n",
    "            score=score+pssm[nuc.index(instance[l])][l]\n",
    "        if (score > threshold):\n",
    "            hits.append(i)\n",
    "            instances.append(instance) \n",
    "    return(hits, instances)\n",
    "\n",
    "out=pssmSearch(mypssm, targetsequence, 9)"
   ]
  },
  {
   "cell_type": "code",
   "execution_count": 10,
   "metadata": {},
   "outputs": [
    {
     "name": "stdout",
     "output_type": "stream",
     "text": [
      "([5034, 6229, 8707, 9759, 9781, 17600, 21827, 37967, 38567, 39228, 39335, 40623, 41571, 45665, 47187, 50637, 53835, 56483, 58430, 59521, 62109, 62143, 62232, 64327, 64958, 66241, 66563, 66696, 69201, 73270, 73645, 73911, 75670, 77388, 84571, 87243, 92861, 92932, 108733, 117334, 119995, 120562, 120841, 122402, 123009, 123867, 126036, 126332, 126726, 127030, 127424, 127499, 127521, 129086, 129090, 131742, 133150, 133862, 136502, 140160, 142042, 142324, 142987, 145864, 148276, 148634, 153116, 153691, 153868, 154195, 156270, 156975, 159698, 159848, 160010, 162919, 166958, 170267, 179495, 180542, 181354, 182337, 182477, 183366, 191531, 191553, 191921, 194536, 198077, 199955, 200188, 203448, 208649, 210955, 218953, 221807, 226138, 231284, 233221, 234455, 234617, 236376, 237312, 238629, 239360, 241473, 242954, 243866, 244828, 247126, 248401, 252575, 253838, 253847, 255585, 256199, 257930, 258174, 258455, 258862, 258881, 259957, 260524, 261664, 263094, 266041, 267657, 268151, 268363, 268690, 268902, 269869, 270598, 272191, 272608, 275649, 277023, 280753, 281104, 284606, 286634, 290587, 290846, 292809, 292979, 293488, 297082, 298596, 302021, 307817, 309127, 312587, 313764, 315534, 316937, 317111, 321236, 326638, 328143, 330474, 330731, 337542, 339935, 340966, 344203, 344474, 344753, 345123, 347206, 349533, 349850, 354893, 357472, 361636, 361677, 361758, 362133, 367136, 369008, 370137, 376989, 377225, 379095, 379581, 383230, 385587, 385731, 389159, 389255, 389966, 390024, 392840, 393132, 395155, 399710, 404042, 404674, 404997, 406341, 408140, 408388, 408459, 415241, 415825, 419955, 421718, 422122, 423616, 423903, 427105, 428478, 429605, 430785, 433449, 433555, 433974, 434282, 439284, 439784, 439788, 439938, 445116, 451997, 463529, 464782, 466580, 467922, 468306, 468783, 468916, 469255, 470587, 472040, 472819, 473018, 473110, 477418, 478152, 483898, 485640, 486281, 487489, 488536, 489121, 493703, 494306, 496171, 498089, 499414, 499559, 500586, 501074, 503341, 503473, 503738, 505515, 520563, 522080, 524540, 524562, 524866, 529731, 535721, 536807, 537308, 537593, 537806, 542963, 543995, 547936, 548609, 557811, 557949, 575134, 575718, 576465, 577486, 577825, 578090, 580257, 580264, 580321, 582052, 582809, 585332, 585921, 588230, 589731, 593813, 595132, 596121, 597148, 597820, 599735, 603141, 625199, 625870, 626467, 626923, 626985, 628225, 628394, 631149, 632989, 633872, 638151, 638513, 640954, 642452, 642507, 643263, 644263, 650436, 652067, 652627, 652754, 654508, 654550, 655607, 656607, 657168, 658703, 662185, 664016, 665219, 667188, 667360, 669138, 669565, 671553, 673420, 677581, 678914, 680032, 680245, 680701, 681803, 684391, 684883, 689464, 689913, 691251, 695648, 697179, 699043, 706078, 706371, 706677, 709208, 710180, 710387, 719287, 722501, 726246, 728618, 729999, 734851, 737264, 741169, 741899, 743279, 744591, 745901, 746762, 750690, 767653, 769138, 770926, 772141, 776074, 779767, 780577, 780811, 780973, 781059, 781667, 781850, 782364, 783353, 783740, 785199, 787213, 789025, 795314, 795713, 796451, 799393, 800712, 802449, 803244, 804132, 805002, 805375, 808308, 808317, 809906, 811201, 811991, 817635, 826407, 830018, 830024, 830571, 830847, 831374, 833434, 833821, 834625, 835396, 836703, 837277, 839907, 839984, 841892, 843267, 843303, 844970, 845361, 845706, 848188, 858568, 858814, 859778, 860538, 864473, 865800, 866640, 868629, 872929, 874311, 879062, 882727, 885558, 885901, 887826, 893795, 893922, 894112, 895425, 896092, 896484, 897799, 899003, 899910, 906896, 931160, 931795, 935407, 937600, 939374, 941896, 943354, 943489, 943525, 945612, 948854, 950052, 954444, 957626, 958815, 964463, 974812, 980840, 984235, 985462, 988712, 991508, 991886, 992315, 993588, 994466, 998564, 1000258, 1000300, 1000671, 1000762, 1003149, 1007243, 1011117, 1012639, 1017303, 1020542, 1023776, 1024271, 1024974, 1025863, 1027618, 1027705, 1027819, 1028327, 1028388, 1029469, 1030246, 1030369, 1033155, 1034038, 1035657, 1036555, 1037115, 1038152, 1041481, 1045302, 1045647, 1051094, 1053828, 1056893, 1066045, 1067095, 1070590, 1070869, 1071634, 1073734, 1074362, 1075147, 1081859, 1085672, 1086856, 1087687, 1087955, 1092747, 1094954, 1101760, 1108750, 1110599, 1121813, 1126840, 1129189, 1129483, 1133499, 1133938, 1135739, 1139753, 1140425, 1140638, 1141084, 1141250, 1142517, 1144789, 1145221, 1146213, 1146879, 1146965, 1147294, 1148778, 1149021, 1154021, 1155581, 1156766, 1156946, 1162248, 1162430, 1162674, 1164397, 1166046, 1167018, 1169981, 1172016, 1173933, 1175211, 1176111, 1181155, 1189730, 1190981, 1193975, 1193979, 1195743, 1196508, 1196684, 1201519, 1202453, 1203364, 1204700, 1205344, 1205380, 1207057, 1214218, 1218524, 1226008, 1229969, 1240700, 1241643, 1242362, 1250941, 1254095, 1257517, 1258687, 1259696, 1260321, 1260966, 1261256, 1265605, 1266028, 1267631, 1268648, 1269562, 1270070, 1275172, 1275776, 1276006, 1276313, 1278642, 1279117, 1282816, 1283400, 1284020, 1290817, 1292021, 1292054, 1293090, 1293598, 1294066, 1295297, 1298445, 1301751, 1303466, 1303589, 1303736, 1304766, 1304942, 1306545, 1312632, 1315952, 1316735, 1317098, 1320933, 1323037, 1326593, 1327167, 1334479, 1334941, 1340995, 1342147, 1342698, 1351812, 1353559, 1355521, 1356409, 1356840, 1358432, 1359194, 1371249, 1375156, 1378883, 1379446, 1379858, 1379900, 1380607, 1389422, 1391402, 1393892, 1396046, 1396729, 1397099, 1397448, 1398032, 1399396, 1404201, 1404651, 1404826, 1404967, 1408799, 1410301, 1420306, 1421688, 1423747, 1424767, 1426506, 1426609, 1426938, 1427311, 1428022, 1429471, 1431884, 1432163, 1435560, 1436235, 1436675, 1437112, 1439755, 1440913, 1442760, 1444575, 1447016, 1450038, 1453111, 1456203, 1458937, 1459495, 1461397, 1461508, 1465092, 1466924, 1468472, 1469874, 1470523, 1471433, 1471743, 1472981, 1475230, 1483008, 1483759, 1486465, 1486708, 1487027, 1490279, 1495297, 1498895, 1504144, 1511409, 1512169, 1514988, 1515251, 1516494, 1517026, 1517841, 1521713, 1524407, 1525113, 1527137, 1529312, 1530523, 1530884, 1532698, 1534980, 1535406, 1537874, 1540562, 1541102, 1542586, 1542743, 1543240, 1543681, 1543975, 1544269, 1545275, 1545731, 1547882, 1551014, 1560803, 1565379, 1568989, 1572141, 1575752, 1581381, 1581526, 1581530, 1583020, 1583581, 1584296, 1587490, 1591911, 1593436, 1594069, 1595127, 1596107, 1598904, 1600167, 1601483, 1602471, 1603885, 1604766, 1605203, 1605953, 1606102, 1606637, 1606840, 1607021, 1613445, 1615396, 1615865, 1620342, 1620378, 1622170, 1622770, 1623016, 1623804, 1623997, 1626674, 1629464, 1630254, 1632251, 1633687, 1633932, 1634174, 1634980, 1637657, 1637956, 1649541, 1650347, 1651552, 1651583, 1652155, 1653679, 1654272, 1656622, 1659212, 1659640, 1659793, 1660464, 1666415, 1670993, 1671140, 1684663, 1685284, 1689460, 1693604, 1694502, 1694824, 1707597, 1708777, 1711857, 1715808, 1717013, 1719854, 1722328, 1722845, 1724166, 1725327, 1729020, 1730410, 1732496, 1733192, 1734186, 1737907, 1738342, 1739531, 1741524, 1747892, 1749402, 1750620, 1753839, 1754890, 1758192, 1758457, 1759775, 1760757, 1763119, 1768460, 1773408, 1774961, 1775308, 1777296, 1778058, 1778830, 1780113, 1780689, 1780931, 1781185, 1783819, 1783840, 1789382, 1789538, 1790360, 1791245, 1794156, 1794535, 1797521, 1807815, 1809955, 1812061, 1813549, 1814015, 1827121, 1827137, 1827637, 1829434, 1837937, 1838161, 1840383, 1842058, 1842134, 1842344, 1842669, 1854313, 1854897, 1856520, 1856833, 1857871, 1858725, 1859340, 1866677, 1868922, 1871422, 1872293, 1872755, 1872782, 1874079, 1875390, 1882542, 1892374, 1892637, 1893488, 1893888, 1894147, 1895331, 1895915, 1896234, 1897568, 1897810, 1898256, 1899461, 1900946, 1902184, 1903227, 1905207, 1914788, 1916922, 1918138, 1920999, 1927325, 1930818, 1931108, 1931184, 1932821, 1933205, 1935612, 1936178, 1936385, 1940077, 1946557, 1947640, 1948957, 1953088, 1953787, 1955251, 1955275, 1955386, 1955479, 1958474, 1962229, 1963345, 1964857, 1967795, 1976339, 1976427, 1976680, 1981283, 1981481, 1982049, 1983330, 1984522, 1985494, 1985581, 1992021, 1992299, 1996511, 1997186, 1997745, 1997918, 2004594, 2004963, 2006624, 2015184, 2017346, 2020977, 2031751, 2031898, 2037795, 2041266, 2042027, 2042988, 2048248, 2049316, 2050046, 2051146, 2056088, 2061246, 2062586, 2062590, 2066023, 2066187, 2075991, 2081192, 2082193, 2084591, 2085794, 2087000, 2089417, 2093255, 2093898, 2094277, 2095817, 2097602, 2097664, 2101127, 2102588, 2103182, 2103766, 2108037, 2109883, 2110785, 2111533, 2111755, 2116531, 2118123, 2121734, 2129542, 2129548, 2129919, 2130628, 2131732, 2131899, 2132026, 2133041, 2137486, 2138099, 2141971, 2145924, 2150247, 2152978, 2153079, 2155310, 2155921, 2156271, 2156439, 2156616, 2157962, 2158139, 2158581, 2159151, 2160689, 2160693, 2161057, 2162290, 2162880, 2167777, 2170020, 2171395, 2172023, 2189056, 2192289, 2195363, 2197959, 2200816, 2201420, 2212025, 2213366, 2215126, 2216745, 2217599, 2217917, 2218020, 2218510, 2218909, 2219449, 2220731, 2221682, 2222969, 2224311, 2225466, 2227779, 2233954, 2236496, 2236813, 2237156, 2241037, 2241823, 2245374, 2246550, 2247239, 2249166, 2249845, 2250722, 2254879, 2255363, 2255678, 2260085, 2260190, 2260660, 2260669, 2260995, 2261289, 2261396, 2261831, 2262086, 2264825, 2265182, 2265478, 2265724, 2266419, 2266562, 2266682, 2268500, 2268504, 2270479, 2272941, 2274632, 2274744, 2274940, 2275426, 2278353, 2283852, 2284757, 2288824, 2293687, 2296595, 2297377, 2298835, 2304451, 2305436, 2307930, 2308412, 2309202, 2311187, 2312253, 2313237, 2313288, 2313432, 2313528, 2314124, 2314766, 2315231, 2315626, 2316091, 2318248, 2319532, 2319782, 2321409, 2322960, 2323201, 2325960, 2328160, 2328304, 2331984, 2332731, 2335860, 2339372, 2346723, 2350468, 2350883, 2355746, 2358628, 2358904, 2359222, 2362776, 2363347, 2369403, 2372072, 2375674, 2376130, 2376458, 2378015, 2378226, 2379466, 2381680, 2386578, 2388090, 2388462, 2390066, 2391128, 2391636, 2393570, 2394559, 2395096, 2396466, 2396941, 2398457, 2399041, 2400865, 2407451, 2409060, 2410401, 2410651, 2410751, 2410828, 2410979, 2412264, 2412632, 2412731, 2413307, 2417899, 2418832, 2424449, 2424957, 2427460, 2429986, 2431662, 2432055, 2432723, 2434714, 2440686, 2445248, 2445395, 2458918, 2459539, 2463715, 2467859, 2468757, 2469079, 2473648, 2477744, 2478613, 2481488, 2487316, 2487418, 2489291, 2489483, 2492030, 2494198, 2494589, 2495575, 2496085, 2496374, 2497063, 2501010, 2501276, 2501840, 2507117, 2511863, 2513044, 2518673, 2520417, 2520995, 2521533, 2521853, 2522467, 2524015, 2524754, 2525535, 2525660, 2526179, 2526497, 2531737, 2532636, 2534974, 2538703, 2538747, 2538765, 2539483, 2544339, 2549502, 2550084, 2551306, 2551751, 2553494, 2562555, 2565364, 2565918, 2565996, 2566086, 2566834, 2568012, 2574096, 2575233, 2575549, 2576171, 2576729, 2576965, 2582898, 2583867, 2587088, 2587801, 2591819, 2593233, 2594067, 2598524, 2599486, 2601286, 2604026, 2604961, 2607213, 2607239, 2608311, 2608942, 2608989, 2609517, 2612188, 2621845, 2621931, 2625001, 2625327, 2627388, 2629640, 2630664, 2632109, 2632757, 2633120, 2634126, 2634436, 2634459, 2640751, 2640811, 2641071, 2641520, 2641559, 2642195, 2646571, 2649446, 2649802, 2651543, 2652469, 2653552, 2655075, 2655117, 2660718, 2663619, 2667823, 2669552, 2671235, 2673598, 2676659, 2676734, 2676750, 2676909, 2677923, 2678205, 2679429, 2680071, 2680746, 2682486, 2684822, 2688249, 2690877, 2690995, 2691018, 2691172, 2693476, 2695936, 2697154, 2711465, 2711760, 2714099, 2716462, 2719128, 2720645, 2723065, 2724244, 2725407, 2725710, 2726817, 2730559, 2730889, 2731594, 2734844, 2736434, 2739099, 2739603, 2739930, 2740719, 2741594, 2743802, 2747366, 2747551, 2748416, 2748827, 2754164, 2755339, 2762578, 2766102, 2767226, 2768277, 2774279, 2777265, 2777809, 2778435, 2779208, 2779671, 2781426, 2783923, 2786519, 2787470, 2790568, 2792217, 2794323, 2794347, 2795070, 2797636, 2798221, 2798946, 2804717, 2805642, 2806726, 2808647, 2815273, 2818197, 2818440, 2821609, 2822881, 2824280, 2826951, 2828610, 2831497, 2831814, 2832359, 2837928, 2839200, 2841563, 2841869, 2844504, 2849037, 2850271, 2851058, 2855226, 2858511, 2858726, 2860261, 2864456, 2865732, 2866132, 2868981, 2869086, 2870302, 2871330, 2872329, 2873918, 2875620, 2877109, 2878378, 2879143, 2881247, 2882912, 2883507, 2886319, 2886903, 2892725, 2896270, 2897841, 2898049, 2898565, 2898988, 2899888, 2900307, 2900451, 2902581, 2906175, 2908255, 2913148, 2923244, 2923753, 2924176, 2924248, 2925629, 2929146, 2931484, 2931708, 2932465, 2933640, 2933721, 2933753, 2934021, 2935759, 2936841, 2937381, 2938332, 2946259, 2947232, 2948387, 2948400, 2955533, 2960465, 2961334, 2962903, 2963439, 2964312, 2965292, 2968962, 2972163, 2980419, 2982679, 2983263, 2985749, 2986798, 2992341, 2994007, 2995359, 2996471, 3001033, 3003755, 3005232, 3011610, 3014862, 3016400, 3020556, 3022755, 3023399, 3025678, 3027545, 3027656, 3027899, 3031381, 3032616, 3035582, 3036870, 3043225, 3044362, 3044833, 3045168, 3045426, 3045508, 3046092, 3046863, 3048286, 3050460, 3050726, 3050811, 3056555, 3058941, 3060751, 3078818, 3080464, 3083182, 3086444, 3086528, 3086780, 3088728, 3095914, 3096751, 3099734], ['AGATAG', 'AGATAA', 'AGATAA', 'AGATAG', 'AGATAA', 'AGATAA', 'AGATAG', 'AGATAA', 'AGATAA', 'AGATAA', 'AGATAA', 'AGATAA', 'AGATAA', 'AGATAA', 'AGATAA', 'AGATAA', 'AGATAG', 'AGATAA', 'AGATAG', 'AGATAG', 'AGATAG', 'AGATAG', 'AGATAA', 'AGATAG', 'AGATAA', 'AGATAG', 'AGATAA', 'AGATAG', 'AGATAG', 'AGATAA', 'AGATAA', 'AGATAA', 'AGATAA', 'AGATAG', 'AGATAG', 'AGATAA', 'AGATAA', 'AGATAG', 'AGATAA', 'AGATAG', 'AGATAA', 'AGATAA', 'AGATAG', 'AGATAG', 'AGATAA', 'AGATAA', 'AGATAA', 'AGATAA', 'AGATAG', 'AGATAA', 'AGATAA', 'AGATAG', 'AGATAA', 'AGATAG', 'AGATAA', 'AGATAA', 'AGATAA', 'AGATAA', 'AGATAA', 'AGATAA', 'AGATAA', 'AGATAA', 'AGATAA', 'AGATAG', 'AGATAA', 'AGATAA', 'AGATAA', 'AGATAG', 'AGATAA', 'AGATAG', 'AGATAA', 'AGATAA', 'AGATAA', 'AGATAA', 'AGATAG', 'AGATAA', 'AGATAA', 'AGATAA', 'AGATAA', 'AGATAA', 'AGATAG', 'AGATAA', 'AGATAA', 'AGATAG', 'AGATAG', 'AGATAA', 'AGATAG', 'AGATAG', 'AGATAA', 'AGATAG', 'AGATAG', 'AGATAA', 'AGATAA', 'AGATAA', 'AGATAA', 'AGATAA', 'AGATAA', 'AGATAG', 'AGATAA', 'AGATAA', 'AGATAA', 'AGATAG', 'AGATAA', 'AGATAG', 'AGATAA', 'AGATAA', 'AGATAG', 'AGATAG', 'AGATAA', 'AGATAA', 'AGATAA', 'AGATAA', 'AGATAA', 'AGATAA', 'AGATAA', 'AGATAA', 'AGATAA', 'AGATAA', 'AGATAA', 'AGATAA', 'AGATAA', 'AGATAA', 'AGATAA', 'AGATAA', 'AGATAA', 'AGATAA', 'AGATAA', 'AGATAA', 'AGATAA', 'AGATAA', 'AGATAA', 'AGATAG', 'AGATAG', 'AGATAA', 'AGATAA', 'AGATAA', 'AGATAG', 'AGATAA', 'AGATAG', 'AGATAA', 'AGATAA', 'AGATAA', 'AGATAA', 'AGATAA', 'AGATAA', 'AGATAA', 'AGATAA', 'AGATAA', 'AGATAA', 'AGATAA', 'AGATAA', 'AGATAA', 'AGATAG', 'AGATAA', 'AGATAG', 'AGATAG', 'AGATAA', 'AGATAG', 'AGATAA', 'AGATAA', 'AGATAA', 'AGATAA', 'AGATAA', 'AGATAG', 'AGATAA', 'AGATAA', 'AGATAG', 'AGATAG', 'AGATAA', 'AGATAG', 'AGATAA', 'AGATAA', 'AGATAA', 'AGATAG', 'AGATAA', 'AGATAA', 'AGATAA', 'AGATAA', 'AGATAA', 'AGATAA', 'AGATAA', 'AGATAA', 'AGATAA', 'AGATAA', 'AGATAA', 'AGATAA', 'AGATAA', 'AGATAA', 'AGATAA', 'AGATAA', 'AGATAA', 'AGATAA', 'AGATAG', 'AGATAA', 'AGATAA', 'AGATAA', 'AGATAG', 'AGATAG', 'AGATAG', 'AGATAG', 'AGATAA', 'AGATAA', 'AGATAA', 'AGATAG', 'AGATAA', 'AGATAA', 'AGATAA', 'AGATAA', 'AGATAG', 'AGATAG', 'AGATAA', 'AGATAA', 'AGATAA', 'AGATAA', 'AGATAA', 'AGATAG', 'AGATAA', 'AGATAA', 'AGATAG', 'AGATAA', 'AGATAA', 'AGATAA', 'AGATAA', 'AGATAA', 'AGATAA', 'AGATAA', 'AGATAG', 'AGATAA', 'AGATAA', 'AGATAA', 'AGATAG', 'AGATAG', 'AGATAG', 'AGATAA', 'AGATAA', 'AGATAG', 'AGATAA', 'AGATAA', 'AGATAA', 'AGATAA', 'AGATAA', 'AGATAA', 'AGATAA', 'AGATAA', 'AGATAG', 'AGATAG', 'AGATAA', 'AGATAA', 'AGATAA', 'AGATAG', 'AGATAA', 'AGATAA', 'AGATAG', 'AGATAG', 'AGATAG', 'AGATAG', 'AGATAA', 'AGATAA', 'AGATAA', 'AGATAA', 'AGATAG', 'AGATAA', 'AGATAG', 'AGATAA', 'AGATAA', 'AGATAA', 'AGATAA', 'AGATAG', 'AGATAG', 'AGATAA', 'AGATAA', 'AGATAG', 'AGATAA', 'AGATAA', 'AGATAG', 'AGATAA', 'AGATAA', 'AGATAG', 'AGATAA', 'AGATAA', 'AGATAG', 'AGATAA', 'AGATAG', 'AGATAG', 'AGATAG', 'AGATAA', 'AGATAA', 'AGATAG', 'AGATAG', 'AGATAA', 'AGATAA', 'AGATAG', 'AGATAA', 'AGATAG', 'AGATAA', 'AGATAG', 'AGATAA', 'AGATAG', 'AGATAG', 'AGATAA', 'AGATAA', 'AGATAA', 'AGATAA', 'AGATAA', 'AGATAA', 'AGATAG', 'AGATAA', 'AGATAA', 'AGATAA', 'AGATAG', 'AGATAA', 'AGATAA', 'AGATAA', 'AGATAA', 'AGATAG', 'AGATAA', 'AGATAG', 'AGATAA', 'AGATAA', 'AGATAA', 'AGATAA', 'AGATAA', 'AGATAA', 'AGATAA', 'AGATAG', 'AGATAG', 'AGATAA', 'AGATAG', 'AGATAA', 'AGATAA', 'AGATAA', 'AGATAA', 'AGATAA', 'AGATAG', 'AGATAA', 'AGATAG', 'AGATAG', 'AGATAA', 'AGATAA', 'AGATAG', 'AGATAA', 'AGATAG', 'AGATAA', 'AGATAA', 'AGATAA', 'AGATAG', 'AGATAA', 'AGATAA', 'AGATAG', 'AGATAG', 'AGATAG', 'AGATAA', 'AGATAA', 'AGATAA', 'AGATAA', 'AGATAA', 'AGATAA', 'AGATAA', 'AGATAA', 'AGATAA', 'AGATAA', 'AGATAA', 'AGATAA', 'AGATAA', 'AGATAA', 'AGATAG', 'AGATAA', 'AGATAA', 'AGATAA', 'AGATAG', 'AGATAA', 'AGATAA', 'AGATAA', 'AGATAA', 'AGATAA', 'AGATAG', 'AGATAG', 'AGATAA', 'AGATAA', 'AGATAA', 'AGATAA', 'AGATAG', 'AGATAA', 'AGATAA', 'AGATAA', 'AGATAA', 'AGATAA', 'AGATAA', 'AGATAG', 'AGATAA', 'AGATAA', 'AGATAG', 'AGATAA', 'AGATAA', 'AGATAA', 'AGATAG', 'AGATAG', 'AGATAG', 'AGATAG', 'AGATAA', 'AGATAA', 'AGATAA', 'AGATAA', 'AGATAA', 'AGATAG', 'AGATAA', 'AGATAA', 'AGATAG', 'AGATAA', 'AGATAA', 'AGATAG', 'AGATAA', 'AGATAA', 'AGATAA', 'AGATAG', 'AGATAA', 'AGATAA', 'AGATAA', 'AGATAA', 'AGATAA', 'AGATAG', 'AGATAA', 'AGATAG', 'AGATAG', 'AGATAG', 'AGATAG', 'AGATAA', 'AGATAA', 'AGATAA', 'AGATAG', 'AGATAA', 'AGATAA', 'AGATAG', 'AGATAA', 'AGATAG', 'AGATAA', 'AGATAA', 'AGATAA', 'AGATAA', 'AGATAA', 'AGATAG', 'AGATAG', 'AGATAG', 'AGATAG', 'AGATAA', 'AGATAA', 'AGATAA', 'AGATAA', 'AGATAA', 'AGATAG', 'AGATAG', 'AGATAA', 'AGATAA', 'AGATAA', 'AGATAA', 'AGATAA', 'AGATAA', 'AGATAG', 'AGATAG', 'AGATAG', 'AGATAA', 'AGATAA', 'AGATAG', 'AGATAA', 'AGATAA', 'AGATAA', 'AGATAA', 'AGATAA', 'AGATAA', 'AGATAG', 'AGATAG', 'AGATAA', 'AGATAA', 'AGATAA', 'AGATAA', 'AGATAG', 'AGATAA', 'AGATAA', 'AGATAG', 'AGATAA', 'AGATAA', 'AGATAA', 'AGATAA', 'AGATAA', 'AGATAG', 'AGATAA', 'AGATAG', 'AGATAG', 'AGATAG', 'AGATAG', 'AGATAA', 'AGATAG', 'AGATAG', 'AGATAG', 'AGATAA', 'AGATAA', 'AGATAA', 'AGATAA', 'AGATAA', 'AGATAA', 'AGATAG', 'AGATAG', 'AGATAA', 'AGATAA', 'AGATAA', 'AGATAG', 'AGATAA', 'AGATAA', 'AGATAA', 'AGATAG', 'AGATAA', 'AGATAA', 'AGATAA', 'AGATAA', 'AGATAA', 'AGATAA', 'AGATAA', 'AGATAA', 'AGATAG', 'AGATAA', 'AGATAA', 'AGATAA', 'AGATAA', 'AGATAA', 'AGATAA', 'AGATAA', 'AGATAA', 'AGATAA', 'AGATAA', 'AGATAG', 'AGATAG', 'AGATAA', 'AGATAA', 'AGATAG', 'AGATAA', 'AGATAG', 'AGATAA', 'AGATAG', 'AGATAA', 'AGATAA', 'AGATAA', 'AGATAA', 'AGATAA', 'AGATAA', 'AGATAA', 'AGATAA', 'AGATAA', 'AGATAA', 'AGATAA', 'AGATAA', 'AGATAA', 'AGATAG', 'AGATAA', 'AGATAA', 'AGATAG', 'AGATAG', 'AGATAG', 'AGATAA', 'AGATAA', 'AGATAA', 'AGATAA', 'AGATAA', 'AGATAA', 'AGATAG', 'AGATAA', 'AGATAA', 'AGATAA', 'AGATAG', 'AGATAA', 'AGATAA', 'AGATAA', 'AGATAG', 'AGATAA', 'AGATAG', 'AGATAA', 'AGATAA', 'AGATAA', 'AGATAA', 'AGATAG', 'AGATAA', 'AGATAA', 'AGATAA', 'AGATAA', 'AGATAG', 'AGATAA', 'AGATAA', 'AGATAA', 'AGATAG', 'AGATAA', 'AGATAA', 'AGATAA', 'AGATAA', 'AGATAA', 'AGATAA', 'AGATAG', 'AGATAG', 'AGATAA', 'AGATAG', 'AGATAA', 'AGATAA', 'AGATAA', 'AGATAA', 'AGATAA', 'AGATAG', 'AGATAA', 'AGATAG', 'AGATAA', 'AGATAA', 'AGATAG', 'AGATAG', 'AGATAA', 'AGATAA', 'AGATAA', 'AGATAA', 'AGATAA', 'AGATAA', 'AGATAA', 'AGATAA', 'AGATAA', 'AGATAA', 'AGATAA', 'AGATAA', 'AGATAA', 'AGATAA', 'AGATAA', 'AGATAA', 'AGATAA', 'AGATAA', 'AGATAA', 'AGATAA', 'AGATAA', 'AGATAG', 'AGATAA', 'AGATAA', 'AGATAA', 'AGATAA', 'AGATAA', 'AGATAG', 'AGATAA', 'AGATAA', 'AGATAA', 'AGATAA', 'AGATAG', 'AGATAG', 'AGATAA', 'AGATAG', 'AGATAA', 'AGATAG', 'AGATAA', 'AGATAG', 'AGATAA', 'AGATAA', 'AGATAA', 'AGATAA', 'AGATAG', 'AGATAG', 'AGATAA', 'AGATAG', 'AGATAA', 'AGATAA', 'AGATAA', 'AGATAA', 'AGATAA', 'AGATAG', 'AGATAA', 'AGATAA', 'AGATAG', 'AGATAA', 'AGATAA', 'AGATAA', 'AGATAA', 'AGATAA', 'AGATAA', 'AGATAG', 'AGATAA', 'AGATAA', 'AGATAA', 'AGATAG', 'AGATAG', 'AGATAA', 'AGATAA', 'AGATAA', 'AGATAG', 'AGATAA', 'AGATAA', 'AGATAA', 'AGATAA', 'AGATAA', 'AGATAA', 'AGATAA', 'AGATAG', 'AGATAG', 'AGATAG', 'AGATAA', 'AGATAA', 'AGATAA', 'AGATAA', 'AGATAA', 'AGATAA', 'AGATAA', 'AGATAG', 'AGATAA', 'AGATAA', 'AGATAG', 'AGATAA', 'AGATAA', 'AGATAG', 'AGATAA', 'AGATAG', 'AGATAG', 'AGATAA', 'AGATAA', 'AGATAA', 'AGATAG', 'AGATAA', 'AGATAG', 'AGATAA', 'AGATAA', 'AGATAA', 'AGATAG', 'AGATAG', 'AGATAA', 'AGATAA', 'AGATAA', 'AGATAG', 'AGATAA', 'AGATAA', 'AGATAA', 'AGATAA', 'AGATAG', 'AGATAA', 'AGATAA', 'AGATAG', 'AGATAG', 'AGATAA', 'AGATAG', 'AGATAA', 'AGATAG', 'AGATAG', 'AGATAA', 'AGATAA', 'AGATAA', 'AGATAA', 'AGATAA', 'AGATAG', 'AGATAA', 'AGATAG', 'AGATAA', 'AGATAG', 'AGATAG', 'AGATAA', 'AGATAG', 'AGATAA', 'AGATAA', 'AGATAA', 'AGATAA', 'AGATAG', 'AGATAA', 'AGATAA', 'AGATAG', 'AGATAA', 'AGATAA', 'AGATAA', 'AGATAA', 'AGATAA', 'AGATAG', 'AGATAG', 'AGATAG', 'AGATAA', 'AGATAA', 'AGATAG', 'AGATAG', 'AGATAA', 'AGATAA', 'AGATAG', 'AGATAA', 'AGATAA', 'AGATAG', 'AGATAG', 'AGATAA', 'AGATAA', 'AGATAA', 'AGATAA', 'AGATAA', 'AGATAG', 'AGATAA', 'AGATAA', 'AGATAA', 'AGATAA', 'AGATAA', 'AGATAA', 'AGATAA', 'AGATAG', 'AGATAA', 'AGATAG', 'AGATAA', 'AGATAG', 'AGATAA', 'AGATAA', 'AGATAG', 'AGATAG', 'AGATAA', 'AGATAA', 'AGATAA', 'AGATAA', 'AGATAA', 'AGATAA', 'AGATAA', 'AGATAG', 'AGATAA', 'AGATAA', 'AGATAA', 'AGATAA', 'AGATAA', 'AGATAA', 'AGATAA', 'AGATAA', 'AGATAA', 'AGATAA', 'AGATAA', 'AGATAA', 'AGATAG', 'AGATAG', 'AGATAA', 'AGATAA', 'AGATAG', 'AGATAG', 'AGATAG', 'AGATAG', 'AGATAG', 'AGATAG', 'AGATAA', 'AGATAG', 'AGATAA', 'AGATAA', 'AGATAA', 'AGATAA', 'AGATAG', 'AGATAA', 'AGATAA', 'AGATAA', 'AGATAA', 'AGATAA', 'AGATAA', 'AGATAA', 'AGATAA', 'AGATAA', 'AGATAA', 'AGATAA', 'AGATAA', 'AGATAA', 'AGATAA', 'AGATAA', 'AGATAA', 'AGATAA', 'AGATAG', 'AGATAG', 'AGATAA', 'AGATAA', 'AGATAA', 'AGATAA', 'AGATAG', 'AGATAA', 'AGATAA', 'AGATAA', 'AGATAA', 'AGATAA', 'AGATAA', 'AGATAA', 'AGATAA', 'AGATAG', 'AGATAG', 'AGATAA', 'AGATAA', 'AGATAG', 'AGATAG', 'AGATAG', 'AGATAG', 'AGATAA', 'AGATAA', 'AGATAA', 'AGATAA', 'AGATAG', 'AGATAA', 'AGATAG', 'AGATAA', 'AGATAA', 'AGATAG', 'AGATAA', 'AGATAA', 'AGATAA', 'AGATAG', 'AGATAA', 'AGATAA', 'AGATAA', 'AGATAA', 'AGATAG', 'AGATAA', 'AGATAA', 'AGATAA', 'AGATAA', 'AGATAA', 'AGATAG', 'AGATAA', 'AGATAA', 'AGATAA', 'AGATAA', 'AGATAA', 'AGATAG', 'AGATAA', 'AGATAG', 'AGATAA', 'AGATAA', 'AGATAA', 'AGATAG', 'AGATAG', 'AGATAA', 'AGATAA', 'AGATAA', 'AGATAA', 'AGATAA', 'AGATAG', 'AGATAA', 'AGATAA', 'AGATAG', 'AGATAA', 'AGATAA', 'AGATAG', 'AGATAG', 'AGATAA', 'AGATAA', 'AGATAG', 'AGATAA', 'AGATAA', 'AGATAG', 'AGATAA', 'AGATAA', 'AGATAG', 'AGATAA', 'AGATAG', 'AGATAA', 'AGATAA', 'AGATAA', 'AGATAA', 'AGATAA', 'AGATAA', 'AGATAA', 'AGATAG', 'AGATAG', 'AGATAG', 'AGATAG', 'AGATAA', 'AGATAA', 'AGATAG', 'AGATAA', 'AGATAG', 'AGATAA', 'AGATAA', 'AGATAA', 'AGATAA', 'AGATAA', 'AGATAA', 'AGATAA', 'AGATAA', 'AGATAA', 'AGATAA', 'AGATAA', 'AGATAG', 'AGATAA', 'AGATAA', 'AGATAA', 'AGATAG', 'AGATAA', 'AGATAG', 'AGATAA', 'AGATAA', 'AGATAA', 'AGATAA', 'AGATAG', 'AGATAA', 'AGATAA', 'AGATAA', 'AGATAA', 'AGATAG', 'AGATAG', 'AGATAA', 'AGATAA', 'AGATAG', 'AGATAG', 'AGATAA', 'AGATAA', 'AGATAA', 'AGATAA', 'AGATAA', 'AGATAG', 'AGATAA', 'AGATAA', 'AGATAG', 'AGATAG', 'AGATAA', 'AGATAG', 'AGATAA', 'AGATAA', 'AGATAA', 'AGATAA', 'AGATAA', 'AGATAG', 'AGATAA', 'AGATAG', 'AGATAA', 'AGATAA', 'AGATAA', 'AGATAG', 'AGATAG', 'AGATAG', 'AGATAA', 'AGATAA', 'AGATAA', 'AGATAA', 'AGATAA', 'AGATAG', 'AGATAA', 'AGATAA', 'AGATAA', 'AGATAA', 'AGATAG', 'AGATAA', 'AGATAA', 'AGATAA', 'AGATAA', 'AGATAG', 'AGATAA', 'AGATAA', 'AGATAA', 'AGATAA', 'AGATAA', 'AGATAA', 'AGATAG', 'AGATAA', 'AGATAG', 'AGATAA', 'AGATAG', 'AGATAA', 'AGATAG', 'AGATAA', 'AGATAA', 'AGATAA', 'AGATAG', 'AGATAA', 'AGATAA', 'AGATAA', 'AGATAA', 'AGATAA', 'AGATAA', 'AGATAG', 'AGATAA', 'AGATAG', 'AGATAG', 'AGATAA', 'AGATAA', 'AGATAG', 'AGATAA', 'AGATAA', 'AGATAA', 'AGATAG', 'AGATAA', 'AGATAA', 'AGATAA', 'AGATAG', 'AGATAA', 'AGATAA', 'AGATAG', 'AGATAA', 'AGATAA', 'AGATAG', 'AGATAA', 'AGATAA', 'AGATAA', 'AGATAA', 'AGATAA', 'AGATAA', 'AGATAA', 'AGATAG', 'AGATAA', 'AGATAA', 'AGATAA', 'AGATAA', 'AGATAA', 'AGATAA', 'AGATAA', 'AGATAA', 'AGATAG', 'AGATAA', 'AGATAA', 'AGATAA', 'AGATAG', 'AGATAA', 'AGATAG', 'AGATAA', 'AGATAA', 'AGATAA', 'AGATAG', 'AGATAA', 'AGATAG', 'AGATAA', 'AGATAA', 'AGATAA', 'AGATAA', 'AGATAA', 'AGATAA', 'AGATAA', 'AGATAG', 'AGATAG', 'AGATAG', 'AGATAA', 'AGATAA', 'AGATAA', 'AGATAG', 'AGATAA', 'AGATAG', 'AGATAA', 'AGATAG', 'AGATAA', 'AGATAA', 'AGATAG', 'AGATAG', 'AGATAA', 'AGATAA', 'AGATAA', 'AGATAG', 'AGATAA', 'AGATAG', 'AGATAA', 'AGATAA', 'AGATAA', 'AGATAA', 'AGATAA', 'AGATAA', 'AGATAG', 'AGATAA', 'AGATAA', 'AGATAA', 'AGATAA', 'AGATAA', 'AGATAA', 'AGATAA', 'AGATAA', 'AGATAA', 'AGATAG', 'AGATAA', 'AGATAA', 'AGATAG', 'AGATAA', 'AGATAA', 'AGATAA', 'AGATAA', 'AGATAA', 'AGATAG', 'AGATAA', 'AGATAA', 'AGATAG', 'AGATAA', 'AGATAA', 'AGATAG', 'AGATAA', 'AGATAA', 'AGATAG', 'AGATAG', 'AGATAA', 'AGATAA', 'AGATAA', 'AGATAA', 'AGATAA', 'AGATAA', 'AGATAG', 'AGATAA', 'AGATAA', 'AGATAA', 'AGATAA', 'AGATAA', 'AGATAG', 'AGATAG', 'AGATAA', 'AGATAA', 'AGATAA', 'AGATAA', 'AGATAA', 'AGATAA', 'AGATAA', 'AGATAA', 'AGATAA', 'AGATAG', 'AGATAG', 'AGATAG', 'AGATAA', 'AGATAA', 'AGATAA', 'AGATAA', 'AGATAA', 'AGATAA', 'AGATAA', 'AGATAA', 'AGATAA', 'AGATAG', 'AGATAG', 'AGATAA', 'AGATAA', 'AGATAG', 'AGATAA', 'AGATAA', 'AGATAA', 'AGATAA', 'AGATAG', 'AGATAA', 'AGATAG', 'AGATAA', 'AGATAA', 'AGATAA', 'AGATAA', 'AGATAG', 'AGATAA', 'AGATAA', 'AGATAA', 'AGATAA', 'AGATAA', 'AGATAA', 'AGATAG', 'AGATAA', 'AGATAA', 'AGATAA', 'AGATAA', 'AGATAA', 'AGATAA', 'AGATAG', 'AGATAA', 'AGATAG', 'AGATAA', 'AGATAG', 'AGATAA', 'AGATAG', 'AGATAA', 'AGATAA', 'AGATAA', 'AGATAA', 'AGATAG', 'AGATAA', 'AGATAA', 'AGATAA', 'AGATAA', 'AGATAA', 'AGATAA', 'AGATAA', 'AGATAG', 'AGATAG', 'AGATAA', 'AGATAG', 'AGATAA', 'AGATAG', 'AGATAA', 'AGATAG', 'AGATAA', 'AGATAA', 'AGATAA', 'AGATAA', 'AGATAG', 'AGATAA', 'AGATAA', 'AGATAA', 'AGATAA', 'AGATAA', 'AGATAA', 'AGATAA', 'AGATAG', 'AGATAA', 'AGATAA', 'AGATAA', 'AGATAG', 'AGATAG', 'AGATAA', 'AGATAA', 'AGATAA', 'AGATAA', 'AGATAA', 'AGATAA', 'AGATAA', 'AGATAA', 'AGATAG', 'AGATAA', 'AGATAA', 'AGATAA', 'AGATAA', 'AGATAA', 'AGATAA', 'AGATAA', 'AGATAA', 'AGATAA', 'AGATAG', 'AGATAG', 'AGATAA', 'AGATAG', 'AGATAA', 'AGATAG', 'AGATAG', 'AGATAG', 'AGATAA', 'AGATAG', 'AGATAA', 'AGATAA', 'AGATAG', 'AGATAG', 'AGATAA', 'AGATAA', 'AGATAA', 'AGATAA', 'AGATAA', 'AGATAG', 'AGATAA', 'AGATAA', 'AGATAG', 'AGATAA', 'AGATAA', 'AGATAG', 'AGATAA', 'AGATAA', 'AGATAA', 'AGATAG', 'AGATAA', 'AGATAA', 'AGATAA', 'AGATAG', 'AGATAA', 'AGATAG', 'AGATAG', 'AGATAA', 'AGATAA', 'AGATAG', 'AGATAA', 'AGATAG', 'AGATAA', 'AGATAG', 'AGATAG', 'AGATAA', 'AGATAG', 'AGATAA', 'AGATAA', 'AGATAG', 'AGATAA', 'AGATAG', 'AGATAA', 'AGATAA', 'AGATAA', 'AGATAA', 'AGATAA', 'AGATAA', 'AGATAA', 'AGATAA', 'AGATAG', 'AGATAG', 'AGATAA', 'AGATAA', 'AGATAG', 'AGATAG', 'AGATAA', 'AGATAG', 'AGATAA', 'AGATAG', 'AGATAG', 'AGATAA', 'AGATAA', 'AGATAG', 'AGATAG', 'AGATAA', 'AGATAA', 'AGATAG', 'AGATAA', 'AGATAG', 'AGATAA', 'AGATAA', 'AGATAG', 'AGATAA', 'AGATAA', 'AGATAG', 'AGATAA', 'AGATAA', 'AGATAA', 'AGATAA', 'AGATAA', 'AGATAA', 'AGATAA', 'AGATAA', 'AGATAG', 'AGATAA', 'AGATAA', 'AGATAG', 'AGATAA', 'AGATAA', 'AGATAA', 'AGATAG', 'AGATAA', 'AGATAG', 'AGATAA', 'AGATAA', 'AGATAA', 'AGATAA', 'AGATAA', 'AGATAA', 'AGATAA', 'AGATAA', 'AGATAA', 'AGATAA', 'AGATAA', 'AGATAG', 'AGATAA', 'AGATAG', 'AGATAG', 'AGATAA', 'AGATAG', 'AGATAA', 'AGATAA', 'AGATAA', 'AGATAA', 'AGATAA', 'AGATAG', 'AGATAA', 'AGATAA', 'AGATAA', 'AGATAG', 'AGATAA', 'AGATAA', 'AGATAA', 'AGATAA', 'AGATAA', 'AGATAA', 'AGATAG', 'AGATAA', 'AGATAG', 'AGATAA', 'AGATAA', 'AGATAA', 'AGATAA', 'AGATAA', 'AGATAA', 'AGATAA', 'AGATAG', 'AGATAG', 'AGATAA', 'AGATAA', 'AGATAA', 'AGATAG', 'AGATAA', 'AGATAG', 'AGATAA', 'AGATAG', 'AGATAA', 'AGATAA', 'AGATAA', 'AGATAA', 'AGATAA', 'AGATAA', 'AGATAG', 'AGATAA', 'AGATAG', 'AGATAG', 'AGATAA', 'AGATAA', 'AGATAA', 'AGATAG', 'AGATAA', 'AGATAA', 'AGATAG', 'AGATAG', 'AGATAA', 'AGATAG', 'AGATAG', 'AGATAA', 'AGATAA', 'AGATAG', 'AGATAG', 'AGATAA', 'AGATAA', 'AGATAA', 'AGATAA', 'AGATAG', 'AGATAA', 'AGATAA', 'AGATAA', 'AGATAG', 'AGATAA', 'AGATAA', 'AGATAG', 'AGATAA', 'AGATAA', 'AGATAA', 'AGATAA', 'AGATAA', 'AGATAG', 'AGATAA', 'AGATAA', 'AGATAG', 'AGATAA', 'AGATAG', 'AGATAA', 'AGATAG', 'AGATAG', 'AGATAA', 'AGATAG', 'AGATAA', 'AGATAA'])\n"
     ]
    }
   ],
   "source": [
    "print(out)"
   ]
  },
  {
   "cell_type": "markdown",
   "metadata": {},
   "source": [
    "d. Entropy calculations\n",
    "\n",
    "We can then apply Entropy and Information Content calculations on the resulting hits/matches"
   ]
  },
  {
   "cell_type": "code",
   "execution_count": null,
   "metadata": {},
   "outputs": [],
   "source": [
    "# code to be added"
   ]
  },
  {
   "cell_type": "markdown",
   "metadata": {},
   "source": [
    "### The next problem. Discover a new motif from a given set of sequences\n",
    "\n",
    "#### Part 1. Formulating the problem\n",
    "1. Given a set of sequences that each contains an instance of the motif, find the motif.\n",
    "\n",
    "#### A first approach \n",
    "\n",
    "Assuming we have a way to \n"
   ]
  },
  {
   "cell_type": "code",
   "execution_count": null,
   "metadata": {},
   "outputs": [],
   "source": [
    "# code here"
   ]
  },
  {
   "cell_type": "markdown",
   "metadata": {},
   "source": [
    "1. Given a set of s sequences: Find a set of k-mers (for a given\n",
    "length k, one from each sequence) that maximizes the score (or\n",
    "minimizes the distance) of each (one) k-mer with its sequence\n",
    "2. Collect k-mers\n",
    "3. Create a motif from them\n"
   ]
  },
  {
   "cell_type": "code",
   "execution_count": null,
   "metadata": {},
   "outputs": [],
   "source": [
    "# code"
   ]
  },
  {
   "cell_type": "markdown",
   "metadata": {},
   "source": [
    "### Brute Force Approach\n",
    "\n",
    "What is the complexity of the BFA?\n",
    "1. Number of k-mers 4k\n",
    "2. Number of k-mers in each sequence: (n − k + 1)\n",
    "3. Number of calculations for each k-mer given s sequences of\n",
    "length n: (n − k + 1)s\n",
    "4. Total number of calculations 4k (n − k + 1)s\n",
    "\n",
    "The complexity of the algorithm is at least O(ns ).\n",
    "\n",
    "We need something faster!\n"
   ]
  },
  {
   "cell_type": "code",
   "execution_count": null,
   "metadata": {},
   "outputs": [],
   "source": [
    "# code"
   ]
  },
  {
   "cell_type": "markdown",
   "metadata": {},
   "source": [
    "* Assuming we have a way to calculate the distance of a k-mer k\n",
    "\n",
    "```\n",
    "from a given sequence seq  \n",
    "    for k in kmers:  \n",
    "        for seq in sequences:  \n",
    "            if distance(k, seq)<min_distance:  \n",
    "                min_distance<-distance(k,seq)  \n",
    "                motif[seq]<-k\n",
    "```\n",
    "\n",
    "* Because each k-mer needs to pass only once through each\n",
    "sequence, the median string has O(4k ) complexity because k is\n",
    "(usually) much shorter than the length of the sequence.\n",
    "\n",
    "* However, it is still quite slow and for k>10 its implementation\n",
    "is still unapplicable.\n"
   ]
  },
  {
   "cell_type": "code",
   "execution_count": null,
   "metadata": {},
   "outputs": [],
   "source": [
    "# code"
   ]
  },
  {
   "cell_type": "markdown",
   "metadata": {},
   "source": [
    "### An alternative\n",
    "\n",
    "* Assume a greedy approach to go through all sequences\n",
    "updating a motif every time\n",
    "\n",
    "* Starting from sequence i:\n",
    "\n",
    "1. find the most common k-mer\n",
    "2. create a profile from it (adding pseudocounts to all 0-values)\n",
    "3. go to the next sequence\n",
    "4. choose the k-mer that best fits the profile\n",
    "5. store that k-mer in the collection and update profile\n",
    "6. iterate steps 3->5.\n",
    "\n",
    "* We’ ve just described a Greedy approach for discovering a\n",
    "motif p of a given length k among t sequences.\n"
   ]
  },
  {
   "cell_type": "code",
   "execution_count": null,
   "metadata": {},
   "outputs": [],
   "source": [
    "# code"
   ]
  },
  {
   "cell_type": "markdown",
   "metadata": {},
   "source": [
    "### A greedy Approach\n",
    "\n",
    "* Assuming a set of s sequences and a given consensus k-mer k:\n",
    "\n",
    "* We will construct a PWM “on the go” as we move from one\n",
    "sequence to the next.\n",
    "1. For i=1 :\n",
    "2. For each k in seq_i:  \n",
    "    2.1 For i = 2 to i = s:  \n",
    "    2.2 Find the best (smallest distance) kmer in seq_i  \n",
    "    2.3 Build a profile  \n",
    "    2.4 If the score(profile) is better than all previous update profile  \n",
    "3. Repeat\n"
   ]
  },
  {
   "cell_type": "markdown",
   "metadata": {},
   "source": [
    "### Analysis. Greedy Approach\n",
    "\n",
    "1. Why Greedy: It takes kmers from the first sequence only to\n",
    "scan in the following. Thus it doesn’t go through all\n",
    "combinations of sequences and k-mers. As we’ve seen above\n",
    "the trade-off is speed.\n",
    "2. KEY: It assumes that all sequences contain the motif. If the\n",
    "first sequence doesn’t contain the motif (in any variation) then\n",
    "we are doomed in looking for something that is non-sensical.\n",
    "3. A way to go around this is to sample a small percentage of\n",
    "sequences randomly, which brings us to the next-to-last chapter\n",
    "of the motif finding problem\n"
   ]
  },
  {
   "cell_type": "markdown",
   "metadata": {},
   "source": [
    "### A randomized approach\n",
    "\n",
    "* In the Greedy Approach we take the kmers from the first\n",
    "sequence and scan over the rest. In this way an initial wrong\n",
    "choice may lead you to disastrous results.\n",
    "* In a Randomized Approach we start, instead with a\n",
    "collection of s k-mers, one from each sequence, build a profile,\n",
    "scan the sequences with that profile, update it and repeat until\n",
    "the k-mer set is good enough match for the updated profile.\n",
    "* Stop and think of the problems we get rid of with this\n",
    "approach.\n"
   ]
  },
  {
   "cell_type": "markdown",
   "metadata": {},
   "source": [
    "### Pseudocode\n",
    "\n",
    "```\n",
    "for seq in sequences:  \n",
    "    profile[seq]<-random(k, seq)  \n",
    "    while distance(profile, sequences)>threshold  \n",
    "        for seq in sequences:  \n",
    "        profile[seq]<-max(k, profile, seq)  \n",
    "```"
   ]
  },
  {
   "cell_type": "code",
   "execution_count": 11,
   "metadata": {},
   "outputs": [
    {
     "name": "stdout",
     "output_type": "stream",
     "text": [
      "\n",
      "The information content of the motif divided by it's length is: 2.0\n",
      "The pwm of the motif is:\n",
      " [[0. 1. 0.]\n",
      " [0. 0. 1.]\n",
      " [0. 0. 0.]\n",
      " [1. 0. 0.]]\n",
      "The motif is: GAT\n",
      "\n",
      "The information content of the motif divided by it's length is: 1.9294269527293963\n",
      "The pwm of the motif is:\n",
      " [[0.02 1.   0.   1.  ]\n",
      " [0.   0.   1.   0.  ]\n",
      " [0.02 0.   0.   0.  ]\n",
      " [0.96 0.   0.   0.  ]]\n",
      "The motif is: GATA\n",
      "\n",
      "The information content of the motif divided by it's length is: 1.600816685265535\n",
      "The pwm of the motif is:\n",
      " [[0.52 0.   0.98 0.   0.92]\n",
      " [0.4  0.   0.   0.98 0.08]\n",
      " [0.08 0.   0.02 0.   0.  ]\n",
      " [0.   1.   0.   0.02 0.  ]]\n",
      "The motif is: AGATA\n",
      "\n",
      "The information content of the motif divided by it's length is: 1.4418722646853723\n",
      "The pwm of the motif is:\n",
      " [[0.6  0.   1.   0.   0.92 0.52]\n",
      " [0.36 0.02 0.   1.   0.02 0.14]\n",
      " [0.04 0.   0.   0.   0.02 0.02]\n",
      " [0.   0.98 0.   0.   0.04 0.32]]\n",
      "The motif is: AGATAA\n",
      "\n",
      "The information content of the motif divided by it's length is: 1.2317978680328203\n",
      "The pwm of the motif is:\n",
      " [[0.1  0.64 0.04 1.   0.   0.94 0.46]\n",
      " [0.54 0.26 0.   0.   1.   0.04 0.08]\n",
      " [0.18 0.04 0.   0.   0.   0.   0.12]\n",
      " [0.18 0.06 0.96 0.   0.   0.02 0.34]]\n",
      "The motif is: TAGATAA\n"
     ]
    }
   ],
   "source": [
    "# Gibbs Sampling to locate a motif in a set of sequences\n",
    "# code\n",
    "sequences = []\n",
    "with open ('files/motifs_in_sequence.fa') as file:\n",
    "    for line in file:\n",
    "        sequences.append(line.strip()) # 50 sequences as elements of a list. 100 bases each sequence\n",
    "    \n",
    "\n",
    "##Gibbs sampler##\n",
    "import random\n",
    "import numpy as np\n",
    "\n",
    "def Gibbs_sampler(sequences,k): #k is the length of the motif, sequence is a list with the sequences\n",
    "    \n",
    "    dictionary = {'A':0,\n",
    "                  'T':1,\n",
    "                  'C':2,\n",
    "                  'G':3}\n",
    "    \n",
    "    column_sum = len(sequences) #number of rows (50) or number of sequences\n",
    "    length = len(sequences[0]) #number of columns or number of nucleotides in seq\n",
    "    Imax = 1.8*k #threshold of I\n",
    "    \n",
    "    pwm = np.zeros([4,k]) # A,T,C,G X len(motif)\n",
    "    \n",
    "    for seq in sequences:\n",
    "        rand_start = random.randint(0, length-k) #pick a random nucleotide from each sequence\n",
    "        motif = seq[rand_start:rand_start+k] #and take substring as the motif\n",
    "       \n",
    "        lst = enumerate(motif) #finding the index of each nucleotide in the motif to access the correct column\n",
    "                               #and using the dictionary to access the correct row \n",
    "        for i in lst: #making the first random pwm\n",
    "            pwm[dictionary[i[1]],i[0]]+=1\n",
    "            \n",
    "    pwm = pwm/column_sum\n",
    "    \n",
    "    information = np.zeros([1,k])\n",
    "    count=0\n",
    "    while (np.sum(information)) < Imax: #while information_content of the pwm \n",
    "        motives=[]                      #is less than the threshold\n",
    "        \n",
    "        information_old = np.sum(information) #keeping the previous value of information contect\n",
    "                                             #to check convergence in case the theshold \n",
    "        for row in range (column_sum):                #is never reached\n",
    "            maxx=0\n",
    "            rand_seq = random.randint(0, column_sum-1) #pick a random index - sequence\n",
    "            seq = sequences[rand_seq]               \n",
    "            for i in range(len(seq)-k):   #take each k-mer from the sequence \n",
    "                score = 0\n",
    "                substring = seq[i:i+k]\n",
    "                lst = enumerate(substring)\n",
    "                \n",
    "                for j in lst:                         #scoring each k-mer based on the pwm\n",
    "                    score+=pwm[dictionary[j[1]],j[0]]   #keeping the motif with the highest score\n",
    "                                                         #from each sequence\n",
    "                if score > maxx:  \n",
    "                    maxx = score\n",
    "                    motif = substring\n",
    "                    \n",
    "            motives += [motif] #keep all the motifs with the highest score in the list motives\n",
    "        \n",
    "        pwm = np.zeros([4,k]) # A,T,C,G X len(motif) \n",
    "        \n",
    "        for elem in motives: \n",
    "            lst = enumerate(elem)\n",
    "            for i in lst:         #making the new pwm\n",
    "                pwm[dictionary[i[1]],i[0]]+=1\n",
    "                 \n",
    "        pwm = pwm/column_sum\n",
    "        \n",
    "        information = np.zeros([1,k]) #computing the information of each position\n",
    "        for i in range(k):\n",
    "            information[0,i] = 2-abs(sum([elem*np.log2(elem) for elem in pwm[:,i] if elem > 0]))\n",
    "            \n",
    "\n",
    "        if abs(information_old - np.sum(information)) <= 0.5: #ckecking convergence \n",
    "            count+=1\n",
    "            if count == 10: #if the difference of the information content is less or equal to 0.5\n",
    "                break       #for consecutive 10 iterations then break\n",
    "        else:\n",
    "            count=0\n",
    "    \n",
    "    max_index_col = np.argmax(pwm, axis=0) #extracting the motif according to the   \n",
    "                                           #highest frequency of each nucleotide in each position\n",
    "    motif=''\n",
    "    for values in max_index_col:\n",
    "        for keys in dictionary.keys():\n",
    "            if values == dictionary[keys]:\n",
    "                motif+= keys\n",
    "        \n",
    "    return pwm,information,motif\n",
    "\n",
    "\n",
    "#repeat the algorithmm 100 times for each k (3 to 7) and keep the pwm and motif with the highest infromation_content\n",
    "#this process takes approximately 4min (in my computer)\n",
    "    \n",
    "####100-cycled GIbbs#####\n",
    "for k in range (3,8):\n",
    "    highest_info = 0\n",
    "    for i in range (100):\n",
    "        summ=0\n",
    "        pwm, information_content,motif = Gibbs_sampler(sequences,k)\n",
    "        summ+=np.sum(information_content)\n",
    "        if summ > highest_info:\n",
    "            highest_info = summ\n",
    "            pwm_ret = pwm\n",
    "            motif_ret = motif\n",
    "        \n",
    "    print('\\nThe information content of the motif divided by it\\'s length is:',highest_info/k) #divide by length to normalize and compare among other k\n",
    "    print('The pwm of the motif is:\\n',pwm_ret)\n",
    "    print('The motif is:',motif_ret)\n",
    "\n",
    "\n",
    "\n",
    "#To find the motifs for each k with the highest information content i have to repeat gibbs sampler many times because of the randomness that takes place\n",
    "#The motif that returns the highest scaled information content is GAT (k = 3, I/k = 1.9528 or 2!) but i think that the motif that we are looking for\n",
    "#is the motif GATA (k=4, I/k = 1.857) which contains GAT and is contained in all the longer found motifs.\n",
    "#(Also we know the existence of the GATA transcription factors and indeed GATA is part of these binding sites)\n",
    "#Sometimes the algorithm returns other 3-mers (eg ATG,GGC,AAG) with high information content as well but it\n",
    "#is noted that GATA is returned almost in every repetition of the 100-cycled Gibbs which means that it may be the only 4-mer motif with so high information content.\n",
    "#Finally i have to report that the threshold that i chose for checking convergence may not be the best choice and should be stricter\n",
    "#Either way i kept this threshold because otherwise i would have made the algorithm a lot slower (is already slow though :P)."
   ]
  }
 ],
 "metadata": {
  "kernelspec": {
   "display_name": "base",
   "language": "python",
   "name": "python3"
  },
  "language_info": {
   "codemirror_mode": {
    "name": "ipython",
    "version": 3
   },
   "file_extension": ".py",
   "mimetype": "text/x-python",
   "name": "python",
   "nbconvert_exporter": "python",
   "pygments_lexer": "ipython3",
   "version": "3.8.5"
  },
  "orig_nbformat": 2
 },
 "nbformat": 4,
 "nbformat_minor": 2
}
