{
 "cells": [
  {
   "cell_type": "markdown",
   "metadata": {},
   "source": [
    "## Code for exercises, small projects or variations"
   ]
  },
  {
   "cell_type": "code",
   "execution_count": 103,
   "metadata": {},
   "outputs": [
    {
     "name": "stdout",
     "output_type": "stream",
     "text": [
      "[9]\n",
      "Pattern matched  1  times GACCAAAGGT\n",
      "--- 0.0 seconds ---\n"
     ]
    }
   ],
   "source": [
    "# Dichotomous search with indexing (Chapter 1)\n",
    "\n",
    "## Part 1. Indexing ecoli genome\n",
    "\n",
    "### reading of file\n",
    "file = open('files/ecoli.fa', 'r')\n",
    "ecoli = ''\n",
    "count = 0\n",
    "for line in file:\n",
    "    count += 1\n",
    "    if (count > 1): # the first line contains the non-sequence header so we discard it \n",
    "        ecoli += line.replace(\"\\n\", \"\") # we string the newline character from the end of each line\n",
    "\n",
    "ecoli = ecoli[:1000]\n",
    "\n",
    "### Creating a sort list of all k-mers in the genome\n",
    "k = 10\n",
    "kmers = [ecoli[i:i+k] for i in range(len(ecoli)-k+1)]\n",
    "kmers.sort()\n",
    "\n",
    "import re\n",
    "import regex\n",
    "\n",
    "dictkmers = {}\n",
    "for i in range(len(ecoli)-k+1):\n",
    "    keystring = ecoli[i:i+k]\n",
    "    dictkmers[keystring] = [m.start() for m in re.finditer(f'(?={keystring})', ecoli)]\n",
    "\n",
    "sorted_dictkmers = {key: value for key, value in sorted(dictkmers.items())}\n",
    "\n",
    "## Part 2. Dichotomous Search for k-mers\n",
    "\n",
    "### Using time to measure time of execution\n",
    "import time\n",
    "start_time = time.time()\n",
    "\n",
    "### Pattern search\n",
    "\n",
    "# pattern = 'GTTATTGCCT' # non-mer\n",
    "pattern = 'AAAAAAAAAC' # existing\n",
    "pattern = 'GACCAAAGGT'\n",
    "\n",
    "print(dictkmers[pattern])\n",
    "\n",
    "matches = 0\n",
    "\n",
    "list_of_kmers = kmers # full list\n",
    "\n",
    "iter = 0\n",
    "min = 1\n",
    "max = len(list_of_kmers)\n",
    "\n",
    "midpoint = int((max+min)/2)\n",
    "\n",
    "import math \n",
    "\n",
    "while iter <= math.log2(len(list_of_kmers)):\n",
    "    kmer = list_of_kmers[midpoint]\n",
    "    iter += 1\n",
    "    if (pattern == kmer): # case is a success         \n",
    "        matches = list_of_kmers.count(kmer)\n",
    "        print(\"Pattern matched \", matches, \" times\", kmer)\n",
    "        break\n",
    "    if (pattern > kmer):\n",
    "        min = midpoint\n",
    "        midpoint = int((max+min)/2)\n",
    "    if (pattern < kmer ):\n",
    "        max = midpoint\n",
    "        midpoint = int((max+min)/2)\n",
    "if (matches == 0):\n",
    "    print(\"No matches found\")\n",
    "\n",
    "print(\"--- %s seconds ---\" % (time.time() - start_time))\n"
   ]
  },
  {
   "cell_type": "code",
   "execution_count": 98,
   "metadata": {},
   "outputs": [
    {
     "name": "stdout",
     "output_type": "stream",
     "text": [
      "['AAAAAAAAAC', 'AAAAAAAAAC', 'AAAAAAAAAC', 'AAAAAAAAAC', 'AAAAAAAAAC', 'AAAAAAAAAG', 'AAAAAAAAAG', 'AAAAAAAAAG', 'AAAAAAAAAT', 'AAAAAAAACA']\n",
      "TTTTTTTTCGACCAAAGGTAACGAGGTAACAACCATGCGAGTGTTGAAGTTCGGCGGTACATCAGTGGCAAATGCAGAACGTTTTCTGCGGGTTGCCGATATTCTGGAAAGCAATGCCAGGCAGGGGCAGGTGGCCACCGTCCTCTCTGCCCCCGCCAAAATCACCAACCATCTGGTAGCGATGATTGAAAAAACCATTAGCGGCCAGGATGCTTTACCCAATATCAGCGATGCCGAACGTATTTTTGCCGAACTTCTGACGGGACTCGCCGCCGCCCAGCCGGGATTTCCGCTGGCACAATTGAAAACTTTCGTCGACCAGGAATTTGCCCAAATAAAACATGTCCTGCATGGCATCAGTTTGTTGGGGCAGTGCCCGGATAGCATCAACGCTGCGCTGATTTGCCGTGGCGAGAAAATGTCGATCGCCATTATGGCCGGCGTGTTAGAAGCGCGTGGTCACAACGTTACCGTTATCGATCCGGTCGAAAAACTGCTGGCAGTGGGTCATTACCTCGAATCTACCGTTGATATTGCTGAATCCACCCGCCGTATTGCGGCAAGCCGCATTCCGGCTGACCACATGGTGCTGATGGCTGGTTTCACTGCCGGTAATGAAAAAGGCGAGCTGGTGGTTCTGGGACGCAACGGTTCCGACTACTCCGCTGCGGTGCTGGCGGCCTGTTTACGCGCCGATTGTTGCGAGATCTGGACGGATGTTGACGGTGTTTATACCTGCGATCCGCGTCAGGTGCCCGATGCGAGGTTGTTGAAGTCGATGTCCTATCAGGAAGCGATGGAGCTTTCTTACTTCGGCGCTAAAGTTCTTCACCCCCGCACCATTACCCCCATCGCCCAGTTCCAGATCCCTTGCCTGATTAAAAATACCGGAAATCCCCAAGCACCAGGTACGCTCATTGGTGCCAGCCGTGATGAAGACGAATTACCGGTCAAGGGCATTTCCAATCTGAATAACATGGCAATGTTCAGCGTTTCCGGC\n",
      "['AAAAAAAAAC', 'AAAAAAAAAC', 'AAAAAAAAAC', 'AAAAAAAAAC', 'AAAAAAAAAC']\n",
      "[607194, 698465, 1016169, 1034770, 1650415]\n"
     ]
    }
   ],
   "source": [
    "print(kmers[0:10])\n",
    "list_of_kmers.count('AAAAAAAAAC')\n",
    "\n",
    "\n",
    "print(ecoli[:1000])\n",
    "\n",
    "keystring = 'AAAAAAAAAC'\n",
    "matches = re.findall(keystring, str(ecoli))\n",
    "print(matches)\n",
    "\n",
    "positions = [m.start() for m in re.finditer(f'(?={keystring})', ecoli)]\n",
    "print(positions)\n",
    "\n",
    "#string='atha'\n",
    "#[m.start() for m in re.finditer(f'(?={string})', 'athathaathan')]\n",
    "\n",
    "    "
   ]
  }
 ],
 "metadata": {
  "kernelspec": {
   "display_name": "Python 3.8.5 ('base')",
   "language": "python",
   "name": "python3"
  },
  "language_info": {
   "codemirror_mode": {
    "name": "ipython",
    "version": 3
   },
   "file_extension": ".py",
   "mimetype": "text/x-python",
   "name": "python",
   "nbconvert_exporter": "python",
   "pygments_lexer": "ipython3",
   "version": "3.8.5"
  },
  "orig_nbformat": 4,
  "vscode": {
   "interpreter": {
    "hash": "fb833273add3e7c60eb33c0608260b79a61e072ade6f02cc8d07b0a26eef8ab8"
   }
  }
 },
 "nbformat": 4,
 "nbformat_minor": 2
}
