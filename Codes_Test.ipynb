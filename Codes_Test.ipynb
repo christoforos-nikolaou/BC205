{
 "cells": [
  {
   "cell_type": "markdown",
   "metadata": {},
   "source": [
    "## Code for exercises, small projects or variations"
   ]
  },
  {
   "cell_type": "code",
   "execution_count": 38,
   "metadata": {},
   "outputs": [],
   "source": [
    "# Dichotomous search with indexing (Chapter 1) [Correct, as of 8.3.2023]\n",
    "\n",
    "## Part 1. Indexing ecoli genome\n",
    "\n",
    "### reading of file\n",
    "file = open('files/ecoli.fa', 'r')\n",
    "ecoli = ''\n",
    "count = 0\n",
    "for line in file:\n",
    "    count += 1\n",
    "    if (count > 1): # the first line contains the non-sequence header so we discard it \n",
    "        ecoli += line.replace(\"\\n\", \"\") # we string the newline character from the end of each line\n",
    "\n",
    "\n",
    "### Creating a sort list of all k-mers in the genome \n",
    "k = 10\n",
    "# note that position i is attached to kmer\n",
    "kmers = [ecoli[i:i+k]+\":\"+str(i) for i in range(len(ecoli)-k+1)] \n",
    "\n",
    "dictkmers = {}\n",
    "\n",
    "for k in kmers:\n",
    "    kstring = k.split(\":\")[0]\n",
    "    dictkmers[kstring] = \"\"\n",
    "\n",
    "### Recasting the kmer list to a dictionary with kmers as keys and position list as values\n",
    "for k in kmers:\n",
    "    kstring = k.split(\":\")[0]\n",
    "    dictkmers[kstring] = dictkmers[kstring]+\",\"+str(k.split(\":\")[1])\n",
    "\n",
    "list_of_kmers = list(dictkmers.keys()) # full list\n",
    "list_of_kmers.sort()\n"
   ]
  },
  {
   "cell_type": "code",
   "execution_count": 39,
   "metadata": {},
   "outputs": [
    {
     "name": "stdout",
     "output_type": "stream",
     "text": [
      "Pattern ATGCACGACC  matched  1  times in position(s): ['1826110']\n",
      "--- 0.0010075569152832031 seconds ---\n"
     ]
    }
   ],
   "source": [
    "## Part 2. Dichotomous Search for k-mers [Correct, as of 8.3.2023]\n",
    "\n",
    "### Using time to measure time of execution\n",
    "import time\n",
    "start_time = time.time()\n",
    "\n",
    "### Pattern search\n",
    "\n",
    "pattern = 'AAAAAACGAG' # non-mer\n",
    "pattern = 'ATGCACGACC' # existing\n",
    "\n",
    "matches = 0\n",
    "\n",
    "iter = 0\n",
    "min = 1\n",
    "max = len(list_of_kmers)\n",
    "\n",
    "midpoint = int((max+min)/2)\n",
    "\n",
    "import math \n",
    "\n",
    "while iter <= math.log2(len(list_of_kmers)) + 1:\n",
    "    kmer = list_of_kmers[midpoint]\n",
    "    iter += 1\n",
    "    if (pattern == kmer): # case is a success\n",
    "        matches = len(dictkmers[kmer][1:].split(\",\")) # number of matches equals length of positions\n",
    "        positions = dictkmers[kmer][1:].split(\",\")\n",
    "        print(\"Pattern\", pattern,\" matched \", matches, \" times in position(s):\", positions)\n",
    "        break\n",
    "    if (pattern > kmer):\n",
    "        min = midpoint\n",
    "        midpoint = int((max+min)/2)\n",
    "    if (pattern < kmer ):\n",
    "        max = midpoint\n",
    "        midpoint = int((max+min)/2)\n",
    "if (matches == 0):\n",
    "    if (pattern == list_of_kmers[0]):\n",
    "        kmer = list_of_kmers[0]\n",
    "        matches = len(dictkmers[kmer][1:].split(\",\")) # number of matches equals length of positions\n",
    "        positions = dictkmers[kmer][1:].split(\",\")         \n",
    "        print(\"Pattern\", pattern,\" matched \", matches, \" times in position(s):\", positions)\n",
    "    if (pattern == list_of_kmers[-1]):\n",
    "        kmer = list_of_kmers[-1]\n",
    "        matches = len(dictkmers[kmer][1:].split(\",\")) # number of matches equals length of positions\n",
    "        positions = dictkmers[kmer][1:].split(\",\")         \n",
    "        print(\"Pattern\", pattern,\" matched \", matches, \" times in position(s):\", positions)\n",
    "    else:\n",
    "        print(\"No matches found\")\n",
    "\n",
    "print(\"--- %s seconds ---\" % (time.time() - start_time))\n"
   ]
  },
  {
   "cell_type": "markdown",
   "metadata": {},
   "source": [
    "Notice how the above strategy of _dichotomous search_ is actually one order of magnitude faster than a regular expression search performed with a python generator function"
   ]
  },
  {
   "cell_type": "code",
   "execution_count": 42,
   "metadata": {},
   "outputs": [
    {
     "name": "stdout",
     "output_type": "stream",
     "text": [
      "ATGCACGACC  was found  1  times at positions: [1826110]\n",
      "--- 0.06594705581665039 seconds ---\n"
     ]
    }
   ],
   "source": [
    "# Pattern search with a generator function\n",
    "import re\n",
    "import regex\n",
    "\n",
    "import time\n",
    "start_time = time.time()\n",
    "\n",
    "keystring = 'ATGCACGACC'\n",
    "# generator function with re.finditer()\n",
    "dictkmers[keystring] = [m.start() for m in re.finditer(f'(?={keystring})', ecoli)]\n",
    "\n",
    "matches = len(dictkmers[keystring]) \n",
    "print(keystring, \" was found \", matches, \" times at positions:\", dictkmers[keystring])\n",
    "print(\"--- %s seconds ---\" % (time.time() - start_time))\n"
   ]
  },
  {
   "cell_type": "markdown",
   "metadata": {},
   "source": [
    "### Scrapbook\n",
    "#### Bits of code to use for help"
   ]
  },
  {
   "cell_type": "code",
   "execution_count": 27,
   "metadata": {},
   "outputs": [
    {
     "name": "stdout",
     "output_type": "stream",
     "text": [
      "['AAAAAAAAAG', 'AAAAAAAAAT', 'AAAAAAAACA', 'AAAAAAAACC', 'AAAAAAAACG', 'AAAAAAAACT', 'AAAAAAAAGA', 'AAAAAAAAGC', 'AAAAAAAAGG', 'AAAAAAAAGT', 'AAAAAAAATA', 'AAAAAAAATC', 'AAAAAAAATG', 'AAAAAAAATT', 'AAAAAAACAA', 'AAAAAAACAC', 'AAAAAAACAG', 'AAAAAAACAT', 'AAAAAAACCA', 'AAAAAAACCC', 'AAAAAAACCG', 'AAAAAAACCT', 'AAAAAAACGA', 'AAAAAAACGC', 'AAAAAAACGG', 'AAAAAAACGT', 'AAAAAAACTA', 'AAAAAAACTC', 'AAAAAAACTG', 'AAAAAAACTT', 'AAAAAAAGAA', 'AAAAAAAGAC', 'AAAAAAAGAG', 'AAAAAAAGAT', 'AAAAAAAGCA', 'AAAAAAAGCC', 'AAAAAAAGCG', 'AAAAAAAGCT', 'AAAAAAAGGA', 'AAAAAAAGGC', 'AAAAAAAGGG', 'AAAAAAAGGT', 'AAAAAAAGTA', 'AAAAAAAGTC', 'AAAAAAAGTG', 'AAAAAAAGTT', 'AAAAAAATAA', 'AAAAAAATAC', 'AAAAAAATAG', 'AAAAAAATAT', 'AAAAAAATCA', 'AAAAAAATCC', 'AAAAAAATCG', 'AAAAAAATCT', 'AAAAAAATGA', 'AAAAAAATGC', 'AAAAAAATGG', 'AAAAAAATGT', 'AAAAAAATTA', 'AAAAAAATTC', 'AAAAAAATTG', 'AAAAAAATTT', 'AAAAAACAAA', 'AAAAAACAAC', 'AAAAAACAAG', 'AAAAAACAAT', 'AAAAAACACA', 'AAAAAACACC', 'AAAAAACACG', 'AAAAAACACT', 'AAAAAACAGA', 'AAAAAACAGC', 'AAAAAACAGG', 'AAAAAACAGT', 'AAAAAACATA', 'AAAAAACATC', 'AAAAAACATG', 'AAAAAACATT', 'AAAAAACCAA', 'AAAAAACCAC', 'AAAAAACCAG', 'AAAAAACCAT', 'AAAAAACCCA', 'AAAAAACCCC', 'AAAAAACCCG', 'AAAAAACCCT', 'AAAAAACCGA', 'AAAAAACCGC', 'AAAAAACCGG', 'AAAAAACCGT', 'AAAAAACCTA', 'AAAAAACCTC', 'AAAAAACCTG', 'AAAAAACCTT', 'AAAAAACGAA', 'AAAAAACGAC', 'AAAAAACGAT', 'AAAAAACGCA', 'AAAAAACGCC']\n"
     ]
    }
   ],
   "source": [
    "print(list_of_kmers[1:100])"
   ]
  },
  {
   "cell_type": "code",
   "execution_count": 98,
   "metadata": {},
   "outputs": [
    {
     "name": "stdout",
     "output_type": "stream",
     "text": [
      "['AAAAAAAAAC', 'AAAAAAAAAC', 'AAAAAAAAAC', 'AAAAAAAAAC', 'AAAAAAAAAC', 'AAAAAAAAAG', 'AAAAAAAAAG', 'AAAAAAAAAG', 'AAAAAAAAAT', 'AAAAAAAACA']\n",
      "TTTTTTTTCGACCAAAGGTAACGAGGTAACAACCATGCGAGTGTTGAAGTTCGGCGGTACATCAGTGGCAAATGCAGAACGTTTTCTGCGGGTTGCCGATATTCTGGAAAGCAATGCCAGGCAGGGGCAGGTGGCCACCGTCCTCTCTGCCCCCGCCAAAATCACCAACCATCTGGTAGCGATGATTGAAAAAACCATTAGCGGCCAGGATGCTTTACCCAATATCAGCGATGCCGAACGTATTTTTGCCGAACTTCTGACGGGACTCGCCGCCGCCCAGCCGGGATTTCCGCTGGCACAATTGAAAACTTTCGTCGACCAGGAATTTGCCCAAATAAAACATGTCCTGCATGGCATCAGTTTGTTGGGGCAGTGCCCGGATAGCATCAACGCTGCGCTGATTTGCCGTGGCGAGAAAATGTCGATCGCCATTATGGCCGGCGTGTTAGAAGCGCGTGGTCACAACGTTACCGTTATCGATCCGGTCGAAAAACTGCTGGCAGTGGGTCATTACCTCGAATCTACCGTTGATATTGCTGAATCCACCCGCCGTATTGCGGCAAGCCGCATTCCGGCTGACCACATGGTGCTGATGGCTGGTTTCACTGCCGGTAATGAAAAAGGCGAGCTGGTGGTTCTGGGACGCAACGGTTCCGACTACTCCGCTGCGGTGCTGGCGGCCTGTTTACGCGCCGATTGTTGCGAGATCTGGACGGATGTTGACGGTGTTTATACCTGCGATCCGCGTCAGGTGCCCGATGCGAGGTTGTTGAAGTCGATGTCCTATCAGGAAGCGATGGAGCTTTCTTACTTCGGCGCTAAAGTTCTTCACCCCCGCACCATTACCCCCATCGCCCAGTTCCAGATCCCTTGCCTGATTAAAAATACCGGAAATCCCCAAGCACCAGGTACGCTCATTGGTGCCAGCCGTGATGAAGACGAATTACCGGTCAAGGGCATTTCCAATCTGAATAACATGGCAATGTTCAGCGTTTCCGGC\n",
      "['AAAAAAAAAC', 'AAAAAAAAAC', 'AAAAAAAAAC', 'AAAAAAAAAC', 'AAAAAAAAAC']\n",
      "[607194, 698465, 1016169, 1034770, 1650415]\n"
     ]
    }
   ],
   "source": [
    "print(kmers[0:10])\n",
    "list_of_kmers.count('AAAAAAAAAC')\n",
    "\n",
    "print(ecoli[:1000])\n",
    "\n",
    "keystring = 'AAAAAAAAAC'\n",
    "matches = re.findall(keystring, str(ecoli))\n",
    "print(matches)\n",
    "\n",
    "positions = [m.start() for m in re.finditer(f'(?={keystring})', ecoli)]\n",
    "print(positions)\n",
    "\n",
    "#string='atha'\n",
    "#[m.start() for m in re.finditer(f'(?={string})', 'athathaathan')]\n",
    "\n",
    "    "
   ]
  },
  {
   "cell_type": "markdown",
   "metadata": {},
   "source": [
    "### Appendix\n",
    "#### Bits of code that can be useful"
   ]
  },
  {
   "cell_type": "code",
   "execution_count": 40,
   "metadata": {},
   "outputs": [
    {
     "name": "stdout",
     "output_type": "stream",
     "text": [
      "ATGCACGACC [1826110]\n",
      "--- 0.05128931999206543 seconds ---\n"
     ]
    }
   ],
   "source": [
    "# the following line searches a substring on a longer string and records ALL positions where it is found\n",
    "# and stores them in a list\n",
    "import re\n",
    "import regex\n",
    "\n",
    "import time\n",
    "start_time = time.time()\n",
    "\n",
    "keystring = 'ATGCACGACC'\n",
    "dictkmers[keystring] = [m.start() for m in re.finditer(f'(?={keystring})', ecoli)]\n",
    "\n",
    "print(keystring, dictkmers[keystring])\n",
    "print(\"--- %s seconds ---\" % (time.time() - start_time))\n",
    "\n",
    "# Sorting a dictionary by key value\n",
    "#sorted_dictkmers = {key: value for key, value in sorted(dictkmers.items())}\n"
   ]
  }
 ],
 "metadata": {
  "kernelspec": {
   "display_name": "Python 3.8.5 ('base')",
   "language": "python",
   "name": "python3"
  },
  "language_info": {
   "codemirror_mode": {
    "name": "ipython",
    "version": 3
   },
   "file_extension": ".py",
   "mimetype": "text/x-python",
   "name": "python",
   "nbconvert_exporter": "python",
   "pygments_lexer": "ipython3",
   "version": "3.8.5"
  },
  "orig_nbformat": 4,
  "vscode": {
   "interpreter": {
    "hash": "fb833273add3e7c60eb33c0608260b79a61e072ade6f02cc8d07b0a26eef8ab8"
   }
  }
 },
 "nbformat": 4,
 "nbformat_minor": 2
}
