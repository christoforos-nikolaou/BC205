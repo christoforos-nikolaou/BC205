{
 "cells": [
  {
   "cell_type": "markdown",
   "metadata": {},
   "source": [
    "## Code for exercises, small projects or variations"
   ]
  },
  {
   "cell_type": "code",
   "execution_count": 38,
   "metadata": {},
   "outputs": [],
   "source": [
    "# Dichotomous search with indexing (Chapter 1) [Correct, as of 8.3.2023]\n",
    "\n",
    "## Part 1. Indexing ecoli genome\n",
    "\n",
    "### reading of file\n",
    "file = open('files/ecoli.fa', 'r')\n",
    "ecoli = ''\n",
    "count = 0\n",
    "for line in file:\n",
    "    count += 1\n",
    "    if (count > 1): # the first line contains the non-sequence header so we discard it \n",
    "        ecoli += line.replace(\"\\n\", \"\") # we string the newline character from the end of each line\n",
    "\n",
    "\n",
    "### Creating a sort list of all k-mers in the genome \n",
    "k = 10\n",
    "# note that position i is attached to kmer\n",
    "kmers = [ecoli[i:i+k]+\":\"+str(i) for i in range(len(ecoli)-k+1)] \n",
    "\n",
    "dictkmers = {}\n",
    "\n",
    "for k in kmers:\n",
    "    kstring = k.split(\":\")[0]\n",
    "    dictkmers[kstring] = \"\"\n",
    "\n",
    "### Recasting the kmer list to a dictionary with kmers as keys and position list as values\n",
    "for k in kmers:\n",
    "    kstring = k.split(\":\")[0]\n",
    "    dictkmers[kstring] = dictkmers[kstring]+\",\"+str(k.split(\":\")[1])\n",
    "\n",
    "list_of_kmers = list(dictkmers.keys()) # full list\n",
    "list_of_kmers.sort()\n"
   ]
  },
  {
   "cell_type": "code",
   "execution_count": 39,
   "metadata": {},
   "outputs": [
    {
     "name": "stdout",
     "output_type": "stream",
     "text": [
      "Pattern ATGCACGACC  matched  1  times in position(s): ['1826110']\n",
      "--- 0.0010075569152832031 seconds ---\n"
     ]
    }
   ],
   "source": [
    "## Part 2. Dichotomous Search for k-mers [Correct, as of 8.3.2023]\n",
    "\n",
    "### Using time to measure time of execution\n",
    "import time\n",
    "start_time = time.time()\n",
    "\n",
    "### Pattern search\n",
    "\n",
    "pattern = 'AAAAAACGAG' # non-mer\n",
    "pattern = 'ATGCACGACC' # existing\n",
    "\n",
    "matches = 0\n",
    "\n",
    "iter = 0\n",
    "min = 1\n",
    "max = len(list_of_kmers)\n",
    "\n",
    "midpoint = int((max+min)/2)\n",
    "\n",
    "import math \n",
    "\n",
    "while iter <= math.log2(len(list_of_kmers)) + 1:\n",
    "    kmer = list_of_kmers[midpoint]\n",
    "    iter += 1\n",
    "    if (pattern == kmer): # case is a success\n",
    "        matches = len(dictkmers[kmer][1:].split(\",\")) # number of matches equals length of positions\n",
    "        positions = dictkmers[kmer][1:].split(\",\")\n",
    "        print(\"Pattern\", pattern,\" matched \", matches, \" times in position(s):\", positions)\n",
    "        break\n",
    "    if (pattern > kmer):\n",
    "        min = midpoint\n",
    "        midpoint = int((max+min)/2)\n",
    "    if (pattern < kmer ):\n",
    "        max = midpoint\n",
    "        midpoint = int((max+min)/2)\n",
    "if (matches == 0):\n",
    "    if (pattern == list_of_kmers[0]):\n",
    "        kmer = list_of_kmers[0]\n",
    "        matches = len(dictkmers[kmer][1:].split(\",\")) # number of matches equals length of positions\n",
    "        positions = dictkmers[kmer][1:].split(\",\")         \n",
    "        print(\"Pattern\", pattern,\" matched \", matches, \" times in position(s):\", positions)\n",
    "    if (pattern == list_of_kmers[-1]):\n",
    "        kmer = list_of_kmers[-1]\n",
    "        matches = len(dictkmers[kmer][1:].split(\",\")) # number of matches equals length of positions\n",
    "        positions = dictkmers[kmer][1:].split(\",\")         \n",
    "        print(\"Pattern\", pattern,\" matched \", matches, \" times in position(s):\", positions)\n",
    "    else:\n",
    "        print(\"No matches found\")\n",
    "\n",
    "print(\"--- %s seconds ---\" % (time.time() - start_time))\n"
   ]
  },
  {
   "cell_type": "markdown",
   "metadata": {},
   "source": [
    "Notice how the above strategy of _dichotomous search_ is actually one order of magnitude faster than a regular expression search performed with a python generator function"
   ]
  },
  {
   "cell_type": "code",
   "execution_count": 42,
   "metadata": {},
   "outputs": [
    {
     "name": "stdout",
     "output_type": "stream",
     "text": [
      "ATGCACGACC  was found  1  times at positions: [1826110]\n",
      "--- 0.06594705581665039 seconds ---\n"
     ]
    }
   ],
   "source": [
    "# Pattern search with a generator function\n",
    "import re\n",
    "import regex\n",
    "\n",
    "import time\n",
    "start_time = time.time()\n",
    "\n",
    "keystring = 'ATGCACGACC'\n",
    "# generator function with re.finditer()\n",
    "dictkmers[keystring] = [m.start() for m in re.finditer(f'(?={keystring})', ecoli)]\n",
    "\n",
    "matches = len(dictkmers[keystring]) \n",
    "print(keystring, \" was found \", matches, \" times at positions:\", dictkmers[keystring])\n",
    "print(\"--- %s seconds ---\" % (time.time() - start_time))\n"
   ]
  },
  {
   "cell_type": "code",
   "execution_count": 67,
   "metadata": {},
   "outputs": [
    {
     "name": "stdout",
     "output_type": "stream",
     "text": [
      "[[0.    0.261 0.334 0.075 0.207 0.018 0.02  0.084 0.1   0.293]\n",
      " [0.261 0.    0.073 0.186 0.054 0.243 0.241 0.177 0.161 0.032]\n",
      " [0.334 0.073 0.    0.259 0.127 0.316 0.314 0.25  0.234 0.041]\n",
      " [0.075 0.186 0.259 0.    0.132 0.057 0.055 0.009 0.025 0.218]\n",
      " [0.207 0.054 0.127 0.132 0.    0.189 0.187 0.123 0.107 0.086]\n",
      " [0.018 0.243 0.316 0.057 0.189 0.    0.002 0.066 0.082 0.275]\n",
      " [0.02  0.241 0.314 0.055 0.187 0.002 0.    0.064 0.08  0.273]\n",
      " [0.084 0.177 0.25  0.009 0.123 0.066 0.064 0.    0.016 0.209]\n",
      " [0.1   0.161 0.234 0.025 0.107 0.082 0.08  0.016 0.    0.193]\n",
      " [0.293 0.032 0.041 0.218 0.086 0.275 0.273 0.209 0.193 0.   ]]\n",
      "[[5.00000000e+00 6.00000000e+00 6.32455532e-03 2.00000000e+00]\n",
      " [3.00000000e+00 7.00000000e+00 2.84604989e-02 2.00000000e+00]\n",
      " [0.00000000e+00 1.00000000e+01 6.86828460e-02 3.00000000e+00]\n",
      " [8.00000000e+00 1.10000000e+01 7.22449537e-02 3.00000000e+00]\n",
      " [1.00000000e+00 9.00000000e+00 1.01192885e-01 2.00000000e+00]\n",
      " [2.00000000e+00 1.40000000e+01 1.99552833e-01 3.00000000e+00]\n",
      " [4.00000000e+00 1.50000000e+01 3.18272944e-01 4.00000000e+00]\n",
      " [1.20000000e+01 1.30000000e+01 3.73153230e-01 6.00000000e+00]\n",
      " [1.60000000e+01 1.70000000e+01 1.27447362e+00 1.00000000e+01]]\n"
     ]
    },
    {
     "name": "stderr",
     "output_type": "stream",
     "text": [
      "/tmp/ipykernel_416382/3984561989.py:22: ClusterWarning: scipy.cluster: The symmetric non-negative hollow observation matrix looks suspiciously like an uncondensed distance matrix\n",
      "  linkage_matrix = linkage(distance_matrix, method='ward')\n"
     ]
    },
    {
     "ename": "ValueError",
     "evalue": "Dimensions of Z and labels must be consistent.",
     "output_type": "error",
     "traceback": [
      "\u001b[0;31m---------------------------------------------------------------------------\u001b[0m",
      "\u001b[0;31mValueError\u001b[0m                                Traceback (most recent call last)",
      "\u001b[1;32m/home/christoforos/Dropbox/github/BC205/Codes_Test.ipynb Cell 6\u001b[0m in \u001b[0;36m<cell line: 27>\u001b[0;34m()\u001b[0m\n\u001b[1;32m     <a href='vscode-notebook-cell:/home/christoforos/Dropbox/github/BC205/Codes_Test.ipynb#X14sZmlsZQ%3D%3D?line=24'>25</a>\u001b[0m \u001b[39m# Plot the dendrogram\u001b[39;00m\n\u001b[1;32m     <a href='vscode-notebook-cell:/home/christoforos/Dropbox/github/BC205/Codes_Test.ipynb#X14sZmlsZQ%3D%3D?line=25'>26</a>\u001b[0m sns\u001b[39m.\u001b[39mset_style(\u001b[39m'\u001b[39m\u001b[39mwhite\u001b[39m\u001b[39m'\u001b[39m)\n\u001b[0;32m---> <a href='vscode-notebook-cell:/home/christoforos/Dropbox/github/BC205/Codes_Test.ipynb#X14sZmlsZQ%3D%3D?line=26'>27</a>\u001b[0m dendrogram(distance_matrix, labels\u001b[39m=\u001b[39;49mdlabels, color_threshold\u001b[39m=\u001b[39;49m\u001b[39m0\u001b[39;49m, orientation\u001b[39m=\u001b[39;49m\u001b[39m'\u001b[39;49m\u001b[39mleft\u001b[39;49m\u001b[39m'\u001b[39;49m)\n\u001b[1;32m     <a href='vscode-notebook-cell:/home/christoforos/Dropbox/github/BC205/Codes_Test.ipynb#X14sZmlsZQ%3D%3D?line=28'>29</a>\u001b[0m \u001b[39m# Show the plot\u001b[39;00m\n\u001b[1;32m     <a href='vscode-notebook-cell:/home/christoforos/Dropbox/github/BC205/Codes_Test.ipynb#X14sZmlsZQ%3D%3D?line=29'>30</a>\u001b[0m plt\u001b[39m.\u001b[39mshow()\n",
      "File \u001b[0;32m~/.local/lib/python3.8/site-packages/scipy/cluster/hierarchy.py:3305\u001b[0m, in \u001b[0;36mdendrogram\u001b[0;34m(Z, p, truncate_mode, color_threshold, get_leaves, orientation, labels, count_sort, distance_sort, show_leaf_counts, no_plot, no_labels, leaf_font_size, leaf_rotation, leaf_label_func, show_contracted, link_color_func, ax, above_threshold_color)\u001b[0m\n\u001b[1;32m   3301\u001b[0m     \u001b[39mraise\u001b[39;00m \u001b[39mValueError\u001b[39;00m(\u001b[39m\"\u001b[39m\u001b[39morientation must be one of \u001b[39m\u001b[39m'\u001b[39m\u001b[39mtop\u001b[39m\u001b[39m'\u001b[39m\u001b[39m, \u001b[39m\u001b[39m'\u001b[39m\u001b[39mleft\u001b[39m\u001b[39m'\u001b[39m\u001b[39m, \u001b[39m\u001b[39m\"\u001b[39m\n\u001b[1;32m   3302\u001b[0m                      \u001b[39m\"\u001b[39m\u001b[39m'\u001b[39m\u001b[39mbottom\u001b[39m\u001b[39m'\u001b[39m\u001b[39m, or \u001b[39m\u001b[39m'\u001b[39m\u001b[39mright\u001b[39m\u001b[39m'\u001b[39m\u001b[39m\"\u001b[39m)\n\u001b[1;32m   3304\u001b[0m \u001b[39mif\u001b[39;00m labels \u001b[39mis\u001b[39;00m \u001b[39mnot\u001b[39;00m \u001b[39mNone\u001b[39;00m \u001b[39mand\u001b[39;00m Z\u001b[39m.\u001b[39mshape[\u001b[39m0\u001b[39m] \u001b[39m+\u001b[39m \u001b[39m1\u001b[39m \u001b[39m!=\u001b[39m \u001b[39mlen\u001b[39m(labels):\n\u001b[0;32m-> 3305\u001b[0m     \u001b[39mraise\u001b[39;00m \u001b[39mValueError\u001b[39;00m(\u001b[39m\"\u001b[39m\u001b[39mDimensions of Z and labels must be consistent.\u001b[39m\u001b[39m\"\u001b[39m)\n\u001b[1;32m   3307\u001b[0m is_valid_linkage(Z, throw\u001b[39m=\u001b[39m\u001b[39mTrue\u001b[39;00m, name\u001b[39m=\u001b[39m\u001b[39m'\u001b[39m\u001b[39mZ\u001b[39m\u001b[39m'\u001b[39m)\n\u001b[1;32m   3308\u001b[0m Zs \u001b[39m=\u001b[39m Z\u001b[39m.\u001b[39mshape\n",
      "\u001b[0;31mValueError\u001b[0m: Dimensions of Z and labels must be consistent."
     ]
    }
   ],
   "source": [
    "## Clustering of a dataset \n",
    "\n",
    "import pandas as pd\n",
    "import seaborn as sns\n",
    "import matplotlib.pyplot as plt\n",
    "from scipy.spatial.distance import pdist, squareform\n",
    "from scipy.cluster.hierarchy import linkage, dendrogram\n",
    "\n",
    "# Load the dataframe and assign values/labels\n",
    "df = pd.read_csv('files/GCContent_simple.csv')\n",
    "dvalues = df['GCContent'].values.reshape(-1,1)\n",
    "dlabels = list(df['Genome'])\n",
    "\n",
    "# Calculate the distances\n",
    "distances = pdist(dvalues)\n",
    "\n",
    "# Convert the pairwise distances into a square distance matrix\n",
    "distance_matrix = squareform(distances)\n",
    "print(distance_matrix)\n",
    "\n",
    "# Calculate the linkage matrix using Ward's method\n",
    "linkage_matrix = linkage(distance_matrix, method='ward')\n",
    "print(linkage_matrix)\n",
    "\n",
    "# Plot the dendrogram\n",
    "sns.set_style('white')\n",
    "dendrogram(linkage_matrix, labels=dlabels, color_threshold=0, orientation='left')\n",
    "\n",
    "# Show the plot\n",
    "plt.show()"
   ]
  },
  {
   "cell_type": "markdown",
   "metadata": {},
   "source": [
    "### Scrapbook\n",
    "#### Bits of code to use for help"
   ]
  },
  {
   "cell_type": "code",
   "execution_count": 27,
   "metadata": {},
   "outputs": [
    {
     "name": "stdout",
     "output_type": "stream",
     "text": [
      "['AAAAAAAAAG', 'AAAAAAAAAT', 'AAAAAAAACA', 'AAAAAAAACC', 'AAAAAAAACG', 'AAAAAAAACT', 'AAAAAAAAGA', 'AAAAAAAAGC', 'AAAAAAAAGG', 'AAAAAAAAGT', 'AAAAAAAATA', 'AAAAAAAATC', 'AAAAAAAATG', 'AAAAAAAATT', 'AAAAAAACAA', 'AAAAAAACAC', 'AAAAAAACAG', 'AAAAAAACAT', 'AAAAAAACCA', 'AAAAAAACCC', 'AAAAAAACCG', 'AAAAAAACCT', 'AAAAAAACGA', 'AAAAAAACGC', 'AAAAAAACGG', 'AAAAAAACGT', 'AAAAAAACTA', 'AAAAAAACTC', 'AAAAAAACTG', 'AAAAAAACTT', 'AAAAAAAGAA', 'AAAAAAAGAC', 'AAAAAAAGAG', 'AAAAAAAGAT', 'AAAAAAAGCA', 'AAAAAAAGCC', 'AAAAAAAGCG', 'AAAAAAAGCT', 'AAAAAAAGGA', 'AAAAAAAGGC', 'AAAAAAAGGG', 'AAAAAAAGGT', 'AAAAAAAGTA', 'AAAAAAAGTC', 'AAAAAAAGTG', 'AAAAAAAGTT', 'AAAAAAATAA', 'AAAAAAATAC', 'AAAAAAATAG', 'AAAAAAATAT', 'AAAAAAATCA', 'AAAAAAATCC', 'AAAAAAATCG', 'AAAAAAATCT', 'AAAAAAATGA', 'AAAAAAATGC', 'AAAAAAATGG', 'AAAAAAATGT', 'AAAAAAATTA', 'AAAAAAATTC', 'AAAAAAATTG', 'AAAAAAATTT', 'AAAAAACAAA', 'AAAAAACAAC', 'AAAAAACAAG', 'AAAAAACAAT', 'AAAAAACACA', 'AAAAAACACC', 'AAAAAACACG', 'AAAAAACACT', 'AAAAAACAGA', 'AAAAAACAGC', 'AAAAAACAGG', 'AAAAAACAGT', 'AAAAAACATA', 'AAAAAACATC', 'AAAAAACATG', 'AAAAAACATT', 'AAAAAACCAA', 'AAAAAACCAC', 'AAAAAACCAG', 'AAAAAACCAT', 'AAAAAACCCA', 'AAAAAACCCC', 'AAAAAACCCG', 'AAAAAACCCT', 'AAAAAACCGA', 'AAAAAACCGC', 'AAAAAACCGG', 'AAAAAACCGT', 'AAAAAACCTA', 'AAAAAACCTC', 'AAAAAACCTG', 'AAAAAACCTT', 'AAAAAACGAA', 'AAAAAACGAC', 'AAAAAACGAT', 'AAAAAACGCA', 'AAAAAACGCC']\n"
     ]
    }
   ],
   "source": [
    "print(list_of_kmers[1:100])"
   ]
  },
  {
   "cell_type": "code",
   "execution_count": 98,
   "metadata": {},
   "outputs": [
    {
     "name": "stdout",
     "output_type": "stream",
     "text": [
      "['AAAAAAAAAC', 'AAAAAAAAAC', 'AAAAAAAAAC', 'AAAAAAAAAC', 'AAAAAAAAAC', 'AAAAAAAAAG', 'AAAAAAAAAG', 'AAAAAAAAAG', 'AAAAAAAAAT', 'AAAAAAAACA']\n",
      "TTTTTTTTCGACCAAAGGTAACGAGGTAACAACCATGCGAGTGTTGAAGTTCGGCGGTACATCAGTGGCAAATGCAGAACGTTTTCTGCGGGTTGCCGATATTCTGGAAAGCAATGCCAGGCAGGGGCAGGTGGCCACCGTCCTCTCTGCCCCCGCCAAAATCACCAACCATCTGGTAGCGATGATTGAAAAAACCATTAGCGGCCAGGATGCTTTACCCAATATCAGCGATGCCGAACGTATTTTTGCCGAACTTCTGACGGGACTCGCCGCCGCCCAGCCGGGATTTCCGCTGGCACAATTGAAAACTTTCGTCGACCAGGAATTTGCCCAAATAAAACATGTCCTGCATGGCATCAGTTTGTTGGGGCAGTGCCCGGATAGCATCAACGCTGCGCTGATTTGCCGTGGCGAGAAAATGTCGATCGCCATTATGGCCGGCGTGTTAGAAGCGCGTGGTCACAACGTTACCGTTATCGATCCGGTCGAAAAACTGCTGGCAGTGGGTCATTACCTCGAATCTACCGTTGATATTGCTGAATCCACCCGCCGTATTGCGGCAAGCCGCATTCCGGCTGACCACATGGTGCTGATGGCTGGTTTCACTGCCGGTAATGAAAAAGGCGAGCTGGTGGTTCTGGGACGCAACGGTTCCGACTACTCCGCTGCGGTGCTGGCGGCCTGTTTACGCGCCGATTGTTGCGAGATCTGGACGGATGTTGACGGTGTTTATACCTGCGATCCGCGTCAGGTGCCCGATGCGAGGTTGTTGAAGTCGATGTCCTATCAGGAAGCGATGGAGCTTTCTTACTTCGGCGCTAAAGTTCTTCACCCCCGCACCATTACCCCCATCGCCCAGTTCCAGATCCCTTGCCTGATTAAAAATACCGGAAATCCCCAAGCACCAGGTACGCTCATTGGTGCCAGCCGTGATGAAGACGAATTACCGGTCAAGGGCATTTCCAATCTGAATAACATGGCAATGTTCAGCGTTTCCGGC\n",
      "['AAAAAAAAAC', 'AAAAAAAAAC', 'AAAAAAAAAC', 'AAAAAAAAAC', 'AAAAAAAAAC']\n",
      "[607194, 698465, 1016169, 1034770, 1650415]\n"
     ]
    }
   ],
   "source": [
    "print(kmers[0:10])\n",
    "list_of_kmers.count('AAAAAAAAAC')\n",
    "\n",
    "print(ecoli[:1000])\n",
    "\n",
    "keystring = 'AAAAAAAAAC'\n",
    "matches = re.findall(keystring, str(ecoli))\n",
    "print(matches)\n",
    "\n",
    "positions = [m.start() for m in re.finditer(f'(?={keystring})', ecoli)]\n",
    "print(positions)\n",
    "\n",
    "#string='atha'\n",
    "#[m.start() for m in re.finditer(f'(?={string})', 'athathaathan')]\n",
    "\n",
    "    "
   ]
  },
  {
   "cell_type": "markdown",
   "metadata": {},
   "source": [
    "### Appendix\n",
    "#### Bits of code that can be useful"
   ]
  },
  {
   "cell_type": "code",
   "execution_count": 40,
   "metadata": {},
   "outputs": [
    {
     "name": "stdout",
     "output_type": "stream",
     "text": [
      "ATGCACGACC [1826110]\n",
      "--- 0.05128931999206543 seconds ---\n"
     ]
    }
   ],
   "source": [
    "# the following line searches a substring on a longer string and records ALL positions where it is found\n",
    "# and stores them in a list\n",
    "import re\n",
    "import regex\n",
    "\n",
    "import time\n",
    "start_time = time.time()\n",
    "\n",
    "keystring = 'ATGCACGACC'\n",
    "dictkmers[keystring] = [m.start() for m in re.finditer(f'(?={keystring})', ecoli)]\n",
    "\n",
    "print(keystring, dictkmers[keystring])\n",
    "print(\"--- %s seconds ---\" % (time.time() - start_time))\n",
    "\n",
    "# Sorting a dictionary by key value\n",
    "#sorted_dictkmers = {key: value for key, value in sorted(dictkmers.items())}\n"
   ]
  }
 ],
 "metadata": {
  "kernelspec": {
   "display_name": "Python 3.8.5 ('base')",
   "language": "python",
   "name": "python3"
  },
  "language_info": {
   "codemirror_mode": {
    "name": "ipython",
    "version": 3
   },
   "file_extension": ".py",
   "mimetype": "text/x-python",
   "name": "python",
   "nbconvert_exporter": "python",
   "pygments_lexer": "ipython3",
   "version": "3.8.5"
  },
  "orig_nbformat": 4,
  "vscode": {
   "interpreter": {
    "hash": "fb833273add3e7c60eb33c0608260b79a61e072ade6f02cc8d07b0a26eef8ab8"
   }
  }
 },
 "nbformat": 4,
 "nbformat_minor": 2
}
