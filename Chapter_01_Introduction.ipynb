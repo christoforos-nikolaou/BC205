{
 "cells": [
  {
   "cell_type": "markdown",
   "metadata": {},
   "source": [
    "# BC205: Algorithms for Bioinformatics.\n",
    "## I. An Introduction\n",
    "### Christoforos Nikolaou\n",
    "\n",
    "## Algorithms in Bioinformatics\n",
    "\n",
    "The course will cover:\n",
    "\n",
    "- An introduction to the concept of Algorithms\n",
    "- A listing of *some* of the major problems of Bioinformatics\n",
    "- A detailed description of algorithmic approaches to these problems\n",
    "\n",
    "## Evaluation\n",
    "- Assignments (50%)\n",
    "- Final Project (50%)\n",
    "\n",
    "## Reading\n",
    "- **Υπολογιστική Βιολογία. Χριστόφορος Νικολάου [http://computational-genomics.weebly.com/computational-biology-book.html]**\n",
    "- **Introduction to Algorithms. (Cormen, Leiserson, Rivest and Stein)** _for a general intro, but may be rather tecnhical for biologists_\n",
    "- **Introduction to Bioinformatics Algorithms. (Pevzner and Jones)** _covers basic Bioinformatics algorithms with a right balance between CS and Biology_\n",
    "- **Bioinformatics Algorithms. A practical approach (Pevzner and Compeau) [https://www.bioinformaticsalgorithms.org/read-the-book]** _very good choice for both disciplines, with a lot of practicals_\n",
    "- **Genome-scale Algorithm desing (Tomescu, Bellazzougui, Cunial and Makinen)** _NGS-related but quite tecnhincal_\n",
    "\n",
    "\n",
    "## Course Outline\n",
    "\n",
    "- Introduction, concepts and algorithmic \"warm-up\"\n",
    "- Analyzing Sequence Composition\n",
    "- Motifs: Search, Evaluation and Discovery\n",
    "- Sequence Alignment\n",
    "- Data structures for NGS applications\n",
    "- Algorithms inspired by NGS problems (mapping, peak finding and differential expression)\n",
    "- Graph Algorithms\n",
    "\n",
    "## What is an Algorithm\n",
    "\n",
    "**Formally**  \n",
    "\n",
    "> **Algorithm**: A systematic and _well-defined_ procedure that produces, _in a finite number of steps_, the answer to a question or the solution of a problem.  \n",
    "[Encyclopaedia Britannica]\n",
    "\n",
    "**Informally**  \n",
    "\n",
    "> **Algorithm:** \"Any well-defined computational procedure that takes some value, or sets of values as input and produces some value, or sets of values as output.\"\n",
    "[Cormen, Leiserson, Rivest & Stein]\n",
    "\n",
    "\n",
    "## Problems of Bioinformatics *(that we will be discussing)*\n",
    "\n",
    "- Analyzing Sequence Composition (Algorithmic Introduction)\n",
    "- Data Structures (Arrays, Hashes, Trees)\n",
    "- Searching/Matching/Extracting Motifs in Sequences (Randomized Algorithms)\n",
    "- Comparing Sequences through Alignments (Dynamic Programing)\n",
    "- Next-generation Sequencing Analysis (Branch and Bound)\n",
    "- Biological Networks (Graph Algorithms)\n",
    "\n",
    "## Some (Simple) Problems\n",
    "1. Finding the largest common divisor of two numbers\n",
    "2. Sorting a set of integers\n",
    "3. Calculating the Fibonacci series for up to a number N\n",
    "4. Find the positive root of a quadratic equation\n",
    "\n",
    "## And some not so simple ones\n",
    "1. Ηow many TATA-boxes exist in a DNA sequence?\n",
    "2. Where lies the origin of replication in a bacterial genome?\n",
    "3. How similar are two genomic sequences?\n",
    "\n",
    "## Step 1. Thinking the problem through\n",
    "* The hardest part:\n",
    "    * What is the input?\n",
    "    * What is the (expected) output?\n",
    "    * How can we do it?\n",
    "    * How can we do it faster?\n",
    "\n",
    "## Step 2. Formulate the problem\n",
    "* Break the problem into pieces\n",
    "* Identify (in detail) a process of simpler problems\n",
    "* Work out the simpler problems in order\n",
    "\n",
    "## Case 1: The Largest Common Divisor Problem  \n",
    "* Given two integer numbers _a_ and _b_\n",
    "* Find an integer _lcd_ that:\n",
    "  - divides both _a_ and _b_ with 0 remainder\n",
    "  - is the largest possible number\n",
    "\n",
    "## A solution: Euclid's Algorithm for LCD\n",
    "\n",
    "* Euclid is said to have proposed an elegant solution.\n",
    "\n",
    "* The basis of the solution is both _a_ and _b_ should be able to be represented as products of _lcd_\n",
    "\n",
    "* In this sense, the best case scenario for _lcd_ is that _mod(a/b)=0, lcd=a/b_, which means that the smaller of the two numbers is actually the _lcd_\n",
    "\n",
    "* If this is not the case and _mod(a/b)=c_ then _lcd_ should be smaller or equal to the remainder of the division. The problem now is to find the _lcd_ of the remainder _c_ and the smaller number _b_. It is basically **the same problem**.\n",
    "\n",
    "* Through a repetitive process in which _a, b_ are substituted by _b, mod(a/b)_ in each step we stop when _mod(a/b)=0_, declaring _b_ as the _lcd_.\n",
    "\n",
    "\n",
    "## Euclid's Algorithm (Process)\n",
    "\n",
    "1. Start with two numbers a, b (a > b)\n",
    "2. Divide a/b and keep the remainder c\n",
    "3. Now, divide b/c and keep the remainder d\n",
    "4. Repeat the division until there is no remainder\n",
    "5. Report the last divisor as the LCD of a and b.\n",
    "\n",
    "## Let's make it more formal. Pseudocode\n",
    "\n",
    "```\n",
    "Input: A, B  \n",
    "\n",
    "    # C=remainder(A/B)  \n",
    "\n",
    "      if (C is greater than 0) {B->A; C->B; goto #}  \n",
    "\n",
    "      if (C equals 0) {print LCD=C; end}  \n",
    "```\n",
    "\n",
    "## Writing the damn thing: Programming\n",
    "* You can choose your language of choice.\n",
    "* Our focus will not be so much on coding as on the design and the general approach\n",
    "\n",
    "## LCD Take#1\n",
    "(Python Implementation)\n"
   ]
  },
  {
   "cell_type": "code",
   "execution_count": 5,
   "metadata": {},
   "outputs": [],
   "source": [
    "def simple_euclid(a,b):\n",
    "  while (b > 0): # as long as the smallest of the two (or the remainder) is not zero\n",
    "    a, b = b, a%b # switch a and b to b and mod(a/b)\n",
    "  print(a) # print the last a (since b is now 0)"
   ]
  },
  {
   "cell_type": "code",
   "execution_count": 6,
   "metadata": {},
   "outputs": [
    {
     "name": "stdout",
     "output_type": "stream",
     "text": [
      "54\n"
     ]
    }
   ],
   "source": [
    "simple_euclid(1080, 54)"
   ]
  },
  {
   "cell_type": "markdown",
   "metadata": {},
   "source": [
    "## What does it do?\n",
    "The solution above goes through a simple (but clever) iteration just as Euclid suggested\n"
   ]
  },
  {
   "cell_type": "code",
   "execution_count": null,
   "metadata": {},
   "outputs": [],
   "source": [
    "# enters an iterative process if b > 0\n",
    "while (b > 0): # Checks if the smallest of the numbers is > 0\n",
    "               # it's basically the remainder of the division\n",
    "\n",
    "\t# swaps a and b with b and the remainder of the division\n",
    "\ta, b = b, a%b\n",
    "\t      # Calculates the division\n",
    "\t      # Extracts the remainder\n",
    "\t      # Makes the swap\n",
    "\n",
    "print a # returns the result as the last divisor that (gave 0 remainder)"
   ]
  },
  {
   "cell_type": "markdown",
   "metadata": {},
   "source": [
    "## LCD Take#2"
   ]
  },
  {
   "cell_type": "code",
   "execution_count": null,
   "metadata": {},
   "outputs": [],
   "source": [
    "def rec_euclid(a,b):\n",
    "\n",
    "# check if a>b, else reverse order\n",
    "    if b>a:\n",
    "        a,b=b,a\n",
    "\n",
    "    if a>b:\n",
    "        # best case scenario, b is lcd\n",
    "        if a%b==0:\n",
    "            lcd=b\n",
    "            return(lcd)\n",
    "\n",
    "        if a%b>0:\n",
    "        # implement Euclid: b becomes a and mod(a/b) becomes b\n",
    "            a,b=b,a%b            \n",
    "            return(euclid(a,b)) # <---what happens here?"
   ]
  },
  {
   "cell_type": "markdown",
   "metadata": {},
   "source": [
    "## What does it do?\n",
    "\n",
    "* The most interesting part is the place where the function calls itself"
   ]
  },
  {
   "cell_type": "code",
   "execution_count": null,
   "metadata": {},
   "outputs": [],
   "source": [
    "        if a%b>0:\n",
    "            a,b=b,a%b            \n",
    "            return(euclid(a,b)) # <-HERE "
   ]
  },
  {
   "cell_type": "markdown",
   "metadata": {},
   "source": [
    "* This is a nice example of **recursion**, a process through which we take advantage of our algorithmic process by **calling it** from within itself.\n",
    "* While very useful it is not always the best way to proceed (as for instance in this case)\n",
    "\n",
    "## Iteration vs Recursion\n",
    "\n",
    "* In iteration control is performed by the value of b, while in recursion it is a more general control statement (_mod(a/b)>0_)\n",
    "* Infinite iteration means waiting forever but infinite recursion means trouble, so **be careful!**\n",
    "* In many cases (not this one) recursion appears to be more elegant, however iteration is always simpler, easier to follow and with smaller burden on the system\n",
    "\n",
    "\n",
    "## Case 2: Sorting a series of integers\n",
    "Starting with N integers, order them from the smallest to the largest\n",
    "\n",
    "## Sorting Take #1: Simple Sort (Pseudocode)\n",
    "\n",
    "```\n",
    "Input N[i] list of numbers\n",
    "Output S[i] list of sorted N\n",
    "\n",
    "while(there is a list)\n",
    "for i in 1:l # l is the size of the list\n",
    "  minimum<-N[i] # assign an initial minimum value  \n",
    "    for j in 1:l # loop over all elements\n",
    "      if (minimum >= N[j]) # check for minimum constraint\n",
    "        minimum <- N[j]\n",
    "      else\n",
    "        continue\n",
    "    remove minimum from N\n",
    "    append minimum to S\n",
    "return(S)    \n",
    "\n",
    "```\n",
    "\n",
    "## Simple Sort\n",
    "(Python Implementation)\n"
   ]
  },
  {
   "cell_type": "code",
   "execution_count": 3,
   "metadata": {},
   "outputs": [
    {
     "data": {
      "text/plain": [
       "[-1, 2, 3, 4, 7, 8, 16]"
      ]
     },
     "execution_count": 3,
     "metadata": {},
     "output_type": "execute_result"
    }
   ],
   "source": [
    "def SimpleSort(N):\n",
    "\n",
    "    i=0\n",
    "    S=[]\n",
    "    minind=0\n",
    "    while (i < len(N)):\n",
    "        minimum = N[i]\n",
    "        j = i\n",
    "        while (j < len(N)):\n",
    "            if minimum >= N[j]:\n",
    "                minimum = N[j]\n",
    "                minind = j\n",
    "                j = j + 1\n",
    "            else:\n",
    "                j = j + 1\n",
    "        S.append(N[minind])\n",
    "        N.remove(N[minind])\n",
    "    return(S)\n",
    "\n",
    "SimpleSort([8,16,7,3,4,2,-1])"
   ]
  },
  {
   "cell_type": "markdown",
   "metadata": {},
   "source": [
    "## Step 3. Evaluating the Complexity\n",
    "Pause and think:\n",
    "* How many calculations did SimpleSort require?\n",
    "* How does the number of calculations scale with the size of the list N?\n",
    "  - For each element in the list we need N-1 comparisons\n",
    "  - We then shorten the list by -1 and repeat\n",
    "  - We thus need (N-1)+(N-2)+(N-3)...+1 calculations\n",
    "  - This is the sum of a series with period=1 and is equal to:((N-1)(N-2))/2\n",
    "* This means that as N increases, the number of calculations increases by N^2.\n",
    "\n",
    "## Brute Force Approaches\n",
    "* SimpleSort belongs to a type of algorithms that are called \"Exhaustive\" or \"Brute Force\".\n",
    "* This means that they proceed with a simple \"all out\" approach that attacks the problem directly, in the hope that it is not too complex and expecting that the mere \"force\" of computation can solve it.\n",
    "* Brute Force approaches work in a satisfactory way if the problem is not very complex.\n",
    "* However they can be problematic if the problem is not simple as we will see in the following.\n",
    "\n",
    "## Big-O, O() notation\n",
    "* O()-notation is a means to express the complexity of an algorithm, in particular the way with which the number of calculation increases with the size of the input\n",
    "* O() is shown as a function of input size (n) depending on the way processing time scales with n.\n",
    "* For example SimpleSort is O(n^2) because as we saw it scales with n-quadratic\n",
    "\n",
    "\n",
    "## Sorting Take #2: MergeSort\n",
    "* Instead of taking each element and checking if it is the smallest in a list of gradually decreasing length, MergeSort implements a different (and faster strategy)\n",
    "* It starts by **dividing** the list of numbers into two sublists and trying to sort these smaller lists before joining them back to the full list.\n",
    "* You can imagine consecutive splits that come down to sublists of (N=2) in which the sorting is trivial: We basically need to check which is the greater of two numbers.\n",
    "* The key in the process is to carefully implement the consecutive splits and then merging of the sublists (which gives the algorithm its name)\n",
    "* This is done with a clever use of **recursion**.\n",
    "\n",
    "## MergeSort. A case of Recursion\n",
    "Pseudocode (Recursion)\n",
    "The pseudocode below shows how the recursive sorting is done\n",
    "\n",
    "```\n",
    "Start with a list of L[N] numbers:\n",
    "    # Split L[N] into two half-lists: A[N/2] and B[N/2]\n",
    "    A[N/2]<- Goto #(A[N/2])\n",
    "    B[N/2]<- Goto #(B[N/2])\n",
    "    for i in 1:length(A) and j in 1:length(B):\n",
    "        if (A[i]<B[j]):\n",
    "          C=C.A[i] # add A[i] to a list C[N]\n",
    "          remove A[i]\n",
    "        if (A[i]>B[j]):\n",
    "          C=C.B[j] # add B[j] to a list C[N]\n",
    "          remove B[j]\n",
    "```\n",
    "## Merge Sort (Merging)\n",
    "The code below describes the merge function that joins the two sublists **once** they have been sorted.\n"
   ]
  },
  {
   "cell_type": "code",
   "execution_count": 8,
   "metadata": {},
   "outputs": [],
   "source": [
    "def merge(a,b):\n",
    "    \"\"\" Function to merge two arrays \"\"\"\n",
    "    c = []\n",
    "    while len(a) != 0 and len(b) != 0:\n",
    "        if a[0] < b[0]:\n",
    "            c.append(a[0])\n",
    "            a.remove(a[0])\n",
    "        else:\n",
    "            c.append(b[0])\n",
    "            b.remove(b[0])\n",
    "    if len(a) == 0:\n",
    "        c += b\n",
    "    else:\n",
    "        c += a\n",
    "    return c"
   ]
  },
  {
   "cell_type": "markdown",
   "metadata": {},
   "source": [
    "## MergeSort (Recursive Call)\n",
    "\n",
    "While the following code shows the recursive call we described in the psuedocode above\n"
   ]
  },
  {
   "cell_type": "code",
   "execution_count": 9,
   "metadata": {},
   "outputs": [
    {
     "data": {
      "text/plain": [
       "[-1, 2, 3, 4, 7, 8, 16]"
      ]
     },
     "execution_count": 9,
     "metadata": {},
     "output_type": "execute_result"
    }
   ],
   "source": [
    "def merge(a,b):\n",
    "    \"\"\" Function to merge two arrays \"\"\"\n",
    "    c = []\n",
    "    while len(a) != 0 and len(b) != 0:\n",
    "        if a[0] < b[0]:\n",
    "            c.append(a[0])\n",
    "            a.remove(a[0])\n",
    "        else:\n",
    "            c.append(b[0])\n",
    "            b.remove(b[0])\n",
    "    if len(a) == 0:\n",
    "        c += b\n",
    "    else:\n",
    "        c += a\n",
    "    return c\n",
    "\n",
    "def mergesort(x):\n",
    "    \"\"\" Function to sort an array using merge sort algorithm \"\"\"\n",
    "    if len(x) == 0 or len(x) == 1:\n",
    "        return x\n",
    "    else:\n",
    "        middle = int(len(x)/2)\n",
    "        a = mergesort(x[:middle])\n",
    "        b = mergesort(x[middle:])\n",
    "        return merge(a,b)\n",
    "\n",
    "MergeSort([8,16,7,3,4,2,-1])"
   ]
  },
  {
   "cell_type": "markdown",
   "metadata": {},
   "source": [
    "## Big-O Notation (Merge Sort)\n",
    "* **MergeSort**: takes an array of N and splits it in half, then sorts each half by recursive calls of the merge function. Let's break this into the two components:\n",
    "    * Splitting is done into halves which means that for a list of N, log2(N) splits will be required\n",
    "    * The merging process is done by parsing the elements of A and B lists one at a time, thus for N values it takes O(n) time.  \n",
    "\n",
    "Combination of the two gives that **MergeSort is O(nlogn)**.\n",
    "\n",
    "* Question: Which is faster? SimpleSort or MergeSort?\n",
    "* Question: Can you figure out the time complexity of Euclid's algorithm?\n",
    "\n",
    "## Divide and Conquer approaches\n",
    "* MergeSort belongs to a different type of approaches that are called \"Divide and Conquer\"\n",
    "* Divide and Conquer approaches proceed (as their name implies) by dividing a complex problem into simpler subproblems and solving them either recursively or iteratively (usually the first)\n",
    "* In many cases they are the only way to go around difficult problems that would require a prohibitive amount of calculations using Brute Force.\n",
    "\n",
    "## Case 3: Fibonacci Series\n",
    "> Calculate a sum of N numbers where each one is produced as the sum of the two that came immediately before it.\n",
    "(the first two numbers are by definition set to 1)  \n",
    "```  \n",
    "  N[1]=1  \n",
    "  N[2]=1  \n",
    "  N[3]=N[2]+N[1]=1+1=2  \n",
    "  N[4]=N[3]+N[2]=2+1=3  \n",
    "  N[5]=N[4]+N[3]=3+2=5  \n",
    "  etc  \n",
    "```\n",
    "\n",
    "*The problem: Calculate the Fibonacci element number N*\n",
    "\n",
    "## Fibonnaci Take #1: Using an Array\n"
   ]
  },
  {
   "cell_type": "code",
   "execution_count": 10,
   "metadata": {},
   "outputs": [],
   "source": [
    "def SimpleFibonacci(N):\n",
    "\tfib=[]\n",
    "\tfib.append(1)\n",
    "\tfib.append(1)\n",
    "\tfor i in range(2,N):\n",
    "\t\tfib.append(fib[i-1]+fib[i-2])\n",
    "\treturn fib[i]\n"
   ]
  },
  {
   "cell_type": "code",
   "execution_count": 11,
   "metadata": {},
   "outputs": [],
   "source": [
    "## Fibonacci Take #2: Using Recursion"
   ]
  },
  {
   "cell_type": "code",
   "execution_count": 12,
   "metadata": {},
   "outputs": [
    {
     "data": {
      "text/plain": [
       "21"
      ]
     },
     "execution_count": 12,
     "metadata": {},
     "output_type": "execute_result"
    }
   ],
   "source": [
    "def RecursiveFibonacci(N):\n",
    "\ta, b = 1, 1\n",
    "\tfor i in range(N-2):\n",
    "\t\ta, b = b, a+b\n",
    "\treturn b\n",
    "\n",
    "RecursiveFibonacci(8)"
   ]
  },
  {
   "cell_type": "markdown",
   "metadata": {},
   "source": [
    "## Fibonacci: Analysis\n",
    "* Take #1\n",
    "    * We create an array of length N\n",
    "    * We go through the array calculating the i-th element with a simple addition of i-1, i-2\n",
    "* Take #2\n",
    "    * We swap the values of a, b with b and the sum of the two\n",
    "    * We recursively call the algorithm for i-1 and i-2\n",
    "\n",
    "## Ask yourself\n",
    "1. How does array-Fibonacci scale with N?\n",
    "2. How does recursive-Fibonacci scale with N?\n",
    "3. What is the Big-O notations of the two\n",
    "4. What do you think about recursion now?\n",
    "\n",
    "## Enough with this. What about Bioinformatics?\n",
    "* What we will be discussing in this class may appear detached from the above but it is _not_ so.\n",
    "* Issues like recursion, time complexity and efficiency will matter\n",
    "* The way we transform the problem into _formal sets_ of questions is crucial.\n",
    "\n",
    "## Some (not so simple) problems\n",
    "- Given a long DNA sequence can you locate a given string of characters within it.\n",
    "- Can you say how many times it is there, and where?\n",
    "- Given two strings of characters can you find the longest common subsequence of a) un-interrupted characters b) characters with gaps c) characters with gaps and also some mismatches?\n"
   ]
  },
  {
   "cell_type": "code",
   "execution_count": null,
   "metadata": {},
   "outputs": [],
   "source": []
  },
  {
   "cell_type": "code",
   "execution_count": null,
   "metadata": {},
   "outputs": [],
   "source": []
  }
 ],
 "metadata": {
  "kernelspec": {
   "display_name": "Python 3",
   "language": "python",
   "name": "python3"
  },
  "language_info": {
   "codemirror_mode": {
    "name": "ipython",
    "version": 3
   },
   "file_extension": ".py",
   "mimetype": "text/x-python",
   "name": "python",
   "nbconvert_exporter": "python",
   "pygments_lexer": "ipython3",
   "version": "3.8.5"
  }
 },
 "nbformat": 4,
 "nbformat_minor": 4
}
