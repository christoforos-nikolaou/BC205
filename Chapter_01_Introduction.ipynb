{
 "cells": [
  {
   "cell_type": "markdown",
   "metadata": {},
   "source": [
    "# BC205: Algorithms for Bioinformatics.\n",
    "## I. An Introduction\n",
    "### Christoforos Nikolaou\n",
    "\n",
    "## Algorithms in Bioinformatics\n",
    "\n",
    "The course will cover:\n",
    "\n",
    "- An introduction to the concept of Algorithms\n",
    "- A listing of *some* of the major problems of Bioinformatics\n",
    "- A detailed description of algorithmic approaches to these problems\n",
    "\n",
    "## Evaluation\n",
    "- Assignments (50%)\n",
    "- Final Project (50%)\n",
    "\n",
    "## Reading\n",
    "- **Computational Biology. Christoforos Nikolaou [http://computational-genomics.weebly.com/computational-biology-book.html]**\n",
    "- **Introduction to Computation and Programming with Python (John V. Guttag)** _general topics on computation but with a lot of useful python code_ \n",
    "- **Introduction to Algorithms. (Cormen, Leiserson, Rivest and Stein)** _for a general intro, but may be rather tecnhical for biologists_\n",
    "- **Introduction to Bioinformatics Algorithms. (Pevzner and Jones)** _covers basic Bioinformatics algorithms with a right balance between CS and Biology_\n",
    "- **Bioinformatics Algorithms. A practical approach (Pevzner and Compeau) [https://www.bioinformaticsalgorithms.org/read-the-book]** _very good choice for both disciplines, with a lot of practicals_\n",
    "- **Genome-scale Algorithm desing (Tomescu, Bellazzougui, Cunial and Makinen)** _NGS-related but quite tecnhincal_\n",
    "\n",
    "\n",
    "## Course Outline\n",
    "\n",
    "- Introduction, concepts and algorithmic \"warm-up\"\n",
    "- Analyzing Sequence Composition\n",
    "- Motifs: Search, Evaluation and Discovery\n",
    "- Sequence Alignment\n",
    "- Data structures for NGS applications\n",
    "- Algorithms inspired by NGS problems (mapping, peak finding and differential expression)\n",
    "- Graph Algorithms\n",
    "- Optional (if we have time). Hidden Markov Models, Clustering Algorithms\n"
   ]
  },
  {
   "cell_type": "markdown",
   "metadata": {},
   "source": [
    "\n",
    "## Part I. Basic Concepts\n",
    "\n",
    "### What is an Algorithm\n",
    "\n",
    "**Formally**  \n",
    "\n",
    "> **Algorithm**: A systematic and _well-defined_ procedure that produces, _in a finite number of steps_, the answer to a question or the solution of a problem.  \n",
    "[Encyclopaedia Britannica]\n",
    "\n",
    "**Informally**  \n",
    "\n",
    "> **Algorithm:** \"Any well-defined computational procedure that takes some value, or sets of values as input and produces some value, or sets of values as output.\"\n",
    "[Cormen, Leiserson, Rivest & Stein]\n",
    "\n",
    "\n",
    "### Problems of Bioinformatics *(that we will be discussing)*\n",
    "\n",
    "- Analyzing Sequence Composition (Algorithmic Introduction)\n",
    "- Data Structures (Arrays, Hashes, Trees)\n",
    "- Searching/Matching/Extracting Motifs in Sequences (Randomized Algorithms)\n",
    "- Comparing Sequences through Alignments (Dynamic Programing)\n",
    "- Next-generation Sequencing Analysis (Branch and Bound)\n",
    "- Biological Networks (Graph Algorithms)\n",
    "\n",
    "### Some (Simple) Problems\n",
    "1. Iteration and Exhaustive Searches (Brute Force Methods)\n",
    "   1. Finding the positive root of a quadratic equation\n",
    "2. Dichotomous (clever) Searches (Divide and Conquer Methods)\n",
    "   1. Finding the square root of a number\n",
    "   2. Finding if a k-mer exists in a sequence\n",
    "3. Iteration vs Recursion\n",
    "   1. Finding the largest common divisor of two numbers\n",
    "   2. Calculating the Fibonacci series for up to a number N \n",
    "4. Randomized Algorithms \n",
    "   1. Estimating the value of $\\pi$ with a randomized process\n",
    "5. Application: Sorting a set of integers\n",
    "\n",
    "\n",
    "### Step 1. Thinking the problem through\n",
    "* The hardest part:\n",
    "    * What is the input?\n",
    "    * What is the (expected) output?\n",
    "    * How can we do it?\n",
    "    * How can we do it faster?\n",
    "\n",
    "### Step 2. Formulate the problem\n",
    "* Break the problem into pieces\n",
    "* Identify (in detail) a process of simpler problems\n",
    "* Work out the simpler problems in order"
   ]
  },
  {
   "cell_type": "markdown",
   "metadata": {},
   "source": [
    "## Types of Algorithms\n",
    "\n",
    "### 1. Simple, exhaustive iteration\n",
    "\n",
    "This is the simplest, more obvious computational approach in which we try to solve a problem by enumerating all possible solutions (or something that is close to all possible solutions) and then **exhaustively search** among them for the best one to our problem.  \n",
    "\n",
    "Consider the following example: Someone gives you a DNA sequence and asks you to report whether a given tetranucleotide is present in the sequence. How do you work?  \n",
    "\n",
    "Lets try with the following sequence:\n",
    "$$S=ACACAGTACACGTATACCCAGTTTGCACAGTTTT$$\n",
    "\n",
    "in which we need to check for the existence of: $$P=AGTT$$\n",
    "\n",
    "Below we see a program that checks every tetranucleotide in $S$ for being a match with $P$"
   ]
  },
  {
   "cell_type": "code",
   "execution_count": 10,
   "metadata": {},
   "outputs": [
    {
     "name": "stdout",
     "output_type": "stream",
     "text": [
      "match found at position 19\n",
      "match found at position 28\n",
      "Pattern was found  2  times.\n"
     ]
    }
   ],
   "source": [
    "sequence = 'ACACAGTACACGTATACCCAGTTTGCACAGTTTT'\n",
    "pattern = 'AGTT'\n",
    "matches = 0\n",
    "for i in range(len(sequence)-3): # consider that any string has n-k+1 substrings of length k\n",
    "    string = sequence[i:i+4]\n",
    "    if (string == pattern):\n",
    "        matches += 1\n",
    "        print(\"match found at position\", i)\n",
    "print(\"Pattern was found \", matches, \" times.\") "
   ]
  },
  {
   "cell_type": "markdown",
   "metadata": {},
   "source": [
    "Lets make this more interesting by checking for a pattern in the entire E. coli genome. And make it a bit more interesting by searching for a 10-mer instead of a simple 4-mer.\n",
    "\n",
    "**Take a pause and think:** What is the probability of finding a given 10-mer in the sequence of the E.coli genome which is ~3.1Mbp long?\n"
   ]
  },
  {
   "cell_type": "code",
   "execution_count": 11,
   "metadata": {},
   "outputs": [
    {
     "name": "stdout",
     "output_type": "stream",
     "text": [
      "Pattern was found  0  times.\n",
      "--- 0.7970407009124756 seconds ---\n"
     ]
    }
   ],
   "source": [
    "# Reading ecoli genome\n",
    "\n",
    "file = open('files/ecoli.fa', 'r')\n",
    "ecoli = ''\n",
    "count = 0\n",
    "\n",
    "for line in file:\n",
    "    count += 1\n",
    "    if (count > 1): # the first line contains the non-sequence header so we discard it \n",
    "        ecoli += line.replace(\"\\n\", \"\") # we string the newline character from the end of each line\n",
    "\n",
    "# Using time to measure time of execution\n",
    "import time\n",
    "start_time = time.time()\n",
    "\n",
    "# Pattern search\n",
    "\n",
    "pattern = 'AGTTAGGCCT'\n",
    "#pattern = 'TCGGCATCAG'\n",
    "matches = 0\n",
    "k = 10\n",
    "\n",
    "for i in range(len(ecoli)- k + 1): # consider that any string has n-k+1 substrings of length k\n",
    "    string = ecoli[i:i+k]\n",
    "    if (string == pattern):\n",
    "        matches += 1\n",
    "print(\"Pattern was found \", matches, \" times.\")\n",
    "\n",
    "print(\"--- %s seconds ---\" % (time.time() - start_time))\n"
   ]
  },
  {
   "cell_type": "markdown",
   "metadata": {},
   "source": [
    "So it takes a bit less than a second to search through the whole genome and report that the given 10-mer doesn't exist in the sequence. This is not bad. But can it be done quicker? \n",
    "\n",
    "### 2. Divide and Conquer. Dichotomous Searches\n",
    "\n",
    "Below we take a slightly different approach. We first split all the k-mers we find in the genome and sort them in a list of kmers."
   ]
  },
  {
   "cell_type": "code",
   "execution_count": 12,
   "metadata": {},
   "outputs": [],
   "source": [
    "# Reading ecoli genome\n",
    "\n",
    "file = open('files/ecoli.fa', 'r')\n",
    "ecoli = ''\n",
    "count = 0\n",
    "k = 10\n",
    "for line in file:\n",
    "    count += 1\n",
    "    if (count > 1): # the first line contains the non-sequence header so we discard it \n",
    "        ecoli += line.replace(\"\\n\", \"\") # we string the newline character from the end of each line\n",
    "\n",
    "# Creating a sort list of all k-mers in the genome\n",
    "kmers = [ecoli[i:i+k] for i in range(len(ecoli)-k+1)]\n",
    "kmers.sort()\n",
    "# or we can create a set of unique kmers instead\n",
    "setkmers = set(kmers)\n",
    "setkmers = list(setkmers)\n",
    "\n"
   ]
  },
  {
   "cell_type": "markdown",
   "metadata": {},
   "source": [
    "This may appear, at first, as unnecessary and basically an overkill that takes up too much time and memory. But sometimes, this sort of data transformations are beneficial because they speed up downstream processess that are expected to be performed many times. \n",
    "\n",
    "We next, want to try to search this list for our desired k-mer. \n",
    "\n",
    "**Take a pause and think!** Does this remind you of the way we look for things in a certain context."
   ]
  },
  {
   "cell_type": "code",
   "execution_count": 13,
   "metadata": {},
   "outputs": [
    {
     "name": "stdout",
     "output_type": "stream",
     "text": [
      "No matches found\n",
      "--- 0.0009846687316894531 seconds ---\n"
     ]
    }
   ],
   "source": [
    "## Dichotomous Search for k-mers\n",
    "\n",
    "# Using time to measure time of execution\n",
    "import time\n",
    "start_time = time.time()\n",
    "\n",
    "# Pattern search\n",
    "\n",
    "pattern = 'AGTTAGGCCT'\n",
    "#pattern = 'TCGGCATCAG'\n",
    "matches = 0\n",
    "\n",
    "# Depending on what we want to search for\n",
    "list_of_kmers = kmers # full list\n",
    "#list_of_kmers = setkmers # set only\n",
    "\n",
    "iter = 0\n",
    "min = 1\n",
    "max = len(list_of_kmers)\n",
    "\n",
    "midpoint = int((max+min)/2)\n",
    "\n",
    "import math \n",
    "\n",
    "while iter <= math.log2(len(list_of_kmers)):\n",
    "    iter += 1\n",
    "    if (pattern == list_of_kmers[midpoint]):\n",
    "        matches = list_of_kmers.count(list_of_kmers[midpoint])\n",
    "        print(\"Pattern matched \", matches, \" times\")\n",
    "        break\n",
    "    if (pattern > list_of_kmers[midpoint]):\n",
    "        min = midpoint\n",
    "        midpoint = int((max+min)/2)\n",
    "    if (pattern < list_of_kmers[midpoint]):\n",
    "        max = midpoint\n",
    "        midpoint = int((max+min)/2)\n",
    "if (matches == 0):\n",
    "    print(\"No matches found\")\n",
    "\n",
    "print(\"--- %s seconds ---\" % (time.time() - start_time))\n",
    "\n"
   ]
  },
  {
   "cell_type": "markdown",
   "metadata": {},
   "source": [
    "This approach, which is called **dichotomous search**, proceeds by splitting the ordered space of kmers in two equal parts, depending on whether the searched string is alphabetically before or after a fixed midpoint.\n",
    "\n",
    "You see that it is somewhat faster than the exhaustive search. Of course there are things we can do to speed up both processes (can you think of which?) and we have to keep in mind that the dichotomous search in this case, works on a precalculated ordered list that has taken more time to be created.   \n",
    "\n",
    "The point that we want to make here is that there is a big difference in the two approaches, which guarantees that even for the worst case scenario (especially for the worst case scenario), the dichotomous search will be much faster.\n",
    "\n",
    "**Take a pause and think!** What makes the dichotomous search faster? "
   ]
  },
  {
   "cell_type": "markdown",
   "metadata": {},
   "source": [
    "### 3. Iteration vs Recursion\n",
    "\n",
    "#### Case 1: The Largest Common Divisor Problem  \n",
    "* Given two integer numbers _a_ and _b_\n",
    "* Find an integer _lcd_ that:\n",
    "  - divides both _a_ and _b_ with 0 remainder\n",
    "  - is the largest possible number\n",
    "\n",
    "![Euclid's Algorithm](https://raw.githubusercontent.com/christoforos-nikolaou/BC205/master/figures/EuclideanAlgorithm.png)\n",
    "\n",
    "#### A solution: Euclid's Algorithm for LCD\n",
    "\n",
    "* Euclid is said to have proposed an elegant solution.\n",
    "\n",
    "* The basis of the solution is both _a_ and _b_ should be able to be represented as products of _lcd_\n",
    "\n",
    "* In this sense, the best case scenario for _lcd_ is that _mod(a/b)=0, lcd=a/b_, which means that the smaller of the two numbers is actually the _lcd_\n",
    "\n",
    "* If this is not the case and _mod(a/b)=c_ then _lcd_ should be smaller or equal to the remainder of the division. The problem now is to find the _lcd_ of the remainder _c_ and the smaller number _b_. It is basically **the same problem**.\n",
    "\n",
    "* Through a repetitive process in which _a, b_ are substituted by _b, mod(a/b)_ in each step we stop when _mod(a/b)=0_, declaring _b_ as the _lcd_.\n",
    "\n",
    "\n",
    "#### Euclid's Algorithm (Process)\n",
    "\n",
    "1. Start with two numbers a, b (a > b)\n",
    "2. Divide a/b and keep the remainder c\n",
    "3. Now, divide b/c and keep the remainder d\n",
    "4. Repeat the division until there is no remainder\n",
    "5. Report the last divisor as the LCD of a and b.\n",
    "\n",
    "Let's make it more formal. Pseudocode\n",
    "\n",
    "```\n",
    "Input: A, B  \n",
    "\n",
    "    # C=remainder(A/B)  \n",
    "\n",
    "      if (C is greater than 0) {B->A; C->B; goto #}  \n",
    "\n",
    "      if (C equals 0) {print LCD=C; end}  \n",
    "```\n",
    "\n",
    "#### LCD Take#1 (with Iteration)\n"
   ]
  },
  {
   "cell_type": "code",
   "execution_count": 1,
   "metadata": {},
   "outputs": [],
   "source": [
    "def simple_euclid(a,b):\n",
    "  while (b > 0): # as long as the smallest of the two (or the remainder) is not zero\n",
    "    a, b = b, a%b # switch a and b to b and mod(a/b)\n",
    "  print(a) # print the last a (since b is now 0)"
   ]
  },
  {
   "cell_type": "code",
   "execution_count": 14,
   "metadata": {},
   "outputs": [
    {
     "name": "stdout",
     "output_type": "stream",
     "text": [
      "120\n"
     ]
    }
   ],
   "source": [
    "x = 1920\n",
    "y = 1080\n",
    "simple_euclid(x, y)"
   ]
  },
  {
   "cell_type": "markdown",
   "metadata": {},
   "source": [
    "#### What does it do?\n",
    "The solution above goes through a simple (but clever) iteration just as Euclid suggested\n"
   ]
  },
  {
   "cell_type": "code",
   "execution_count": 4,
   "metadata": {},
   "outputs": [],
   "source": [
    "def simple_euclid(a,b):\n",
    "\t# enters an iterative process if b > 0\n",
    "\twhile (b > 0): # Checks if the smallest of the numbers is > 0\n",
    "               # it's basically the remainder of the division \n",
    "\t\t\t   # # swaps a and b with b and the remainder of the division\n",
    "\t\t\t   a, b = b, a%b\n",
    "\t      # Calculates the division\n",
    "\t      # Extracts the remainder\n",
    "\t      # Makes the swap\n",
    "\treturn(a) # returns the result as the last divisor that (gave 0 remainder)"
   ]
  },
  {
   "cell_type": "code",
   "execution_count": 5,
   "metadata": {},
   "outputs": [
    {
     "name": "stdout",
     "output_type": "stream",
     "text": [
      "120\n"
     ]
    }
   ],
   "source": [
    "x = 1920\n",
    "y = 1080\n",
    "\n",
    "simple_euclid(x, y)\n"
   ]
  },
  {
   "cell_type": "markdown",
   "metadata": {},
   "source": [
    "#### LCD Take#2 (with Recursion)"
   ]
  },
  {
   "cell_type": "code",
   "execution_count": 6,
   "metadata": {},
   "outputs": [],
   "source": [
    "\n",
    "def rec_euclid(a,b):\n",
    "    if a % b == 0:\n",
    "        return b\n",
    "    else:\n",
    "        return rec_euclid(b, a%b)"
   ]
  },
  {
   "cell_type": "code",
   "execution_count": 15,
   "metadata": {},
   "outputs": [
    {
     "data": {
      "text/plain": [
       "120"
      ]
     },
     "execution_count": 15,
     "metadata": {},
     "output_type": "execute_result"
    }
   ],
   "source": [
    "x = 1920\n",
    "y = 1080\n",
    "rec_euclid(x, y)"
   ]
  },
  {
   "cell_type": "markdown",
   "metadata": {},
   "source": [
    "#### What does it do?\n",
    "\n",
    "* The most interesting part is the place where the function calls itself"
   ]
  },
  {
   "cell_type": "code",
   "execution_count": null,
   "metadata": {},
   "outputs": [],
   "source": [
    "# else:\n",
    "#   rec_euclid(b, a%b)    "
   ]
  },
  {
   "cell_type": "markdown",
   "metadata": {},
   "source": [
    "* This is a nice example of **recursion**, a process through which we take advantage of our algorithmic process by **calling it** from within itself.\n",
    "* While very useful it is not always the best way to proceed (as for instance in this case)\n",
    "\n",
    "#### Differences of Iteration vs Recursion\n",
    "\n",
    "* In iteration control is performed by the value of b, while in recursion it is a more general control statement _(mod(a/b) == 0)_\n",
    "* Infinite iteration means waiting forever but infinite recursion means trouble, so **be careful!**\n",
    "* In many cases (not this one) recursion appears to be more elegant, however iteration is always simpler, easier to follow and with smaller burden on the system"
   ]
  },
  {
   "cell_type": "markdown",
   "metadata": {},
   "source": [
    "#### Case 2: Sorting a series of integers\n",
    "Starting with N integers, order them from the smallest to the largest\n",
    "\n",
    "#### Sorting Take #1: Simple Sort (Pseudocode)\n",
    "\n",
    "```\n",
    "Input N[i] list of numbers\n",
    "Output S[i] list of sorted N\n",
    "\n",
    "while(there is a list)\n",
    "for i in 1:l # l is the size of the list\n",
    "  minimum<-N[i] # assign an initial minimum value  \n",
    "    for j in 1:l # loop over all elements\n",
    "      if (minimum >= N[j]) # check for minimum constraint\n",
    "        minimum <- N[j]\n",
    "      else\n",
    "        continue\n",
    "    remove minimum from N\n",
    "    append minimum to S\n",
    "return(S)    \n",
    "\n",
    "```\n",
    "\n",
    "#### Simple Sort (Iterative)\n"
   ]
  },
  {
   "cell_type": "code",
   "execution_count": 16,
   "metadata": {},
   "outputs": [],
   "source": [
    "def SimpleSort(N):\n",
    "\n",
    "    i=0\n",
    "    S=[]\n",
    "    minind=0\n",
    "    while (i < len(N)):\n",
    "        minimum = N[i]\n",
    "        j = i\n",
    "        while (j < len(N)):\n",
    "            if minimum >= N[j]:\n",
    "                minimum = N[j]\n",
    "                minind = j\n",
    "                j = j + 1\n",
    "            else:\n",
    "                j = j + 1\n",
    "        S.append(N[minind])\n",
    "        N.remove(N[minind])\n",
    "    return(S)\n"
   ]
  },
  {
   "cell_type": "code",
   "execution_count": 17,
   "metadata": {},
   "outputs": [
    {
     "data": {
      "text/plain": [
       "[2, 3, 6, 7, 9, 11, 12, 14]"
      ]
     },
     "execution_count": 17,
     "metadata": {},
     "output_type": "execute_result"
    }
   ],
   "source": [
    "numbers = [14,7,3,12,9,11,6,2] \n",
    "\n",
    "SimpleSort(numbers)"
   ]
  },
  {
   "cell_type": "markdown",
   "metadata": {},
   "source": [
    "Now let's try with a greater set and record how long it takes to sort them out"
   ]
  },
  {
   "cell_type": "code",
   "execution_count": 23,
   "metadata": {},
   "outputs": [],
   "source": [
    "import random\n",
    "\n",
    "N = 100000\n",
    "numbers = []\n",
    "\n",
    "for i in range(N):\n",
    "    numbers.append(random.randint(0,N*10))"
   ]
  },
  {
   "cell_type": "code",
   "execution_count": 26,
   "metadata": {},
   "outputs": [
    {
     "ename": "KeyboardInterrupt",
     "evalue": "",
     "output_type": "error",
     "traceback": [
      "\u001b[1;31m---------------------------------------------------------------------------\u001b[0m",
      "\u001b[1;31mKeyboardInterrupt\u001b[0m                         Traceback (most recent call last)",
      "\u001b[1;32m<ipython-input-26-92fdcc4db0b2>\u001b[0m in \u001b[0;36m<module>\u001b[1;34m\u001b[0m\n\u001b[0;32m      4\u001b[0m \u001b[1;31m# Simple Sort\u001b[0m\u001b[1;33m\u001b[0m\u001b[1;33m\u001b[0m\u001b[1;33m\u001b[0m\u001b[0m\n\u001b[0;32m      5\u001b[0m \u001b[1;33m\u001b[0m\u001b[0m\n\u001b[1;32m----> 6\u001b[1;33m \u001b[0msortedNs\u001b[0m \u001b[1;33m=\u001b[0m \u001b[0mSimpleSort\u001b[0m\u001b[1;33m(\u001b[0m\u001b[0mnumbers\u001b[0m\u001b[1;33m)\u001b[0m\u001b[1;33m\u001b[0m\u001b[1;33m\u001b[0m\u001b[0m\n\u001b[0m\u001b[0;32m      7\u001b[0m \u001b[1;33m\u001b[0m\u001b[0m\n\u001b[0;32m      8\u001b[0m \u001b[0mprint\u001b[0m\u001b[1;33m(\u001b[0m\u001b[1;34m\"--- %s seconds ---\"\u001b[0m \u001b[1;33m%\u001b[0m \u001b[1;33m(\u001b[0m\u001b[0mtime\u001b[0m\u001b[1;33m.\u001b[0m\u001b[0mtime\u001b[0m\u001b[1;33m(\u001b[0m\u001b[1;33m)\u001b[0m \u001b[1;33m-\u001b[0m \u001b[0mstart_time\u001b[0m\u001b[1;33m)\u001b[0m\u001b[1;33m)\u001b[0m\u001b[1;33m\u001b[0m\u001b[1;33m\u001b[0m\u001b[0m\n",
      "\u001b[1;32m<ipython-input-16-e5ee81518c18>\u001b[0m in \u001b[0;36mSimpleSort\u001b[1;34m(N)\u001b[0m\n\u001b[0;32m      8\u001b[0m         \u001b[0mj\u001b[0m \u001b[1;33m=\u001b[0m \u001b[0mi\u001b[0m\u001b[1;33m\u001b[0m\u001b[1;33m\u001b[0m\u001b[0m\n\u001b[0;32m      9\u001b[0m         \u001b[1;32mwhile\u001b[0m \u001b[1;33m(\u001b[0m\u001b[0mj\u001b[0m \u001b[1;33m<\u001b[0m \u001b[0mlen\u001b[0m\u001b[1;33m(\u001b[0m\u001b[0mN\u001b[0m\u001b[1;33m)\u001b[0m\u001b[1;33m)\u001b[0m\u001b[1;33m:\u001b[0m\u001b[1;33m\u001b[0m\u001b[1;33m\u001b[0m\u001b[0m\n\u001b[1;32m---> 10\u001b[1;33m             \u001b[1;32mif\u001b[0m \u001b[0mminimum\u001b[0m \u001b[1;33m>=\u001b[0m \u001b[0mN\u001b[0m\u001b[1;33m[\u001b[0m\u001b[0mj\u001b[0m\u001b[1;33m]\u001b[0m\u001b[1;33m:\u001b[0m\u001b[1;33m\u001b[0m\u001b[1;33m\u001b[0m\u001b[0m\n\u001b[0m\u001b[0;32m     11\u001b[0m                 \u001b[0mminimum\u001b[0m \u001b[1;33m=\u001b[0m \u001b[0mN\u001b[0m\u001b[1;33m[\u001b[0m\u001b[0mj\u001b[0m\u001b[1;33m]\u001b[0m\u001b[1;33m\u001b[0m\u001b[1;33m\u001b[0m\u001b[0m\n\u001b[0;32m     12\u001b[0m                 \u001b[0mminind\u001b[0m \u001b[1;33m=\u001b[0m \u001b[0mj\u001b[0m\u001b[1;33m\u001b[0m\u001b[1;33m\u001b[0m\u001b[0m\n",
      "\u001b[1;31mKeyboardInterrupt\u001b[0m: "
     ]
    }
   ],
   "source": [
    "import time\n",
    "start_time = time.time()\n",
    "\n",
    "# Simple Sort\n",
    "\n",
    "sortedNs = SimpleSort(numbers)\n",
    "\n",
    "print(\"--- %s seconds ---\" % (time.time() - start_time))"
   ]
  },
  {
   "cell_type": "markdown",
   "metadata": {},
   "source": [
    "#### Sorting Take #2: MergeSort\n",
    "* Instead of taking each element and checking if it is the smallest in a list of gradually decreasing length, MergeSort implements a different (and faster strategy)\n",
    "* It starts by **dividing** the list of numbers into two sublists and trying to sort these smaller lists before joining them back to the full list.\n",
    "* You can imagine consecutive splits that come down to sublists of (N=2) in which the sorting is trivial: We basically need to check which is the greater of two numbers.\n",
    "* The key in the process is to carefully implement the consecutive splits and then merging of the sublists (which gives the algorithm its name)\n",
    "* This is done with a clever use of **recursion**.\n",
    "\n",
    "![Merge Sort](https://raw.githubusercontent.com/christoforos-nikolaou/BC205/master/figures/MergeSort.png)\n",
    "\n",
    "\n",
    "#### MergeSort. A case of Recursion\n",
    "Pseudocode (Recursion)\n",
    "The pseudocode below shows how the recursive sorting is done\n",
    "\n",
    "```\n",
    "Start with a list of L[N] numbers:\n",
    "    # Split L[N] into two half-lists: A[N/2] and B[N/2]\n",
    "    A[N/2]<- Goto #(A[N/2])\n",
    "    B[N/2]<- Goto #(B[N/2])\n",
    "    for i in 1:length(A) and j in 1:length(B):\n",
    "        if (A[i]<B[j]):\n",
    "          C=C.A[i] # add A[i] to a list C[N]\n",
    "          remove A[i]\n",
    "        if (A[i]>B[j]):\n",
    "          C=C.B[j] # add B[j] to a list C[N]\n",
    "          remove B[j]\n",
    "```"
   ]
  },
  {
   "cell_type": "markdown",
   "metadata": {},
   "source": [
    "#### MergeSort \n",
    "\n",
    "MergeSort can be broken down into two parts. We first need to describe a function that will merge the sorted sublists. We call this **merge()**.\n",
    "\n",
    "The main part, though, is a recursive call to a sort function, which we call **mergesort()**. This recursive call splits lists in ever-shorter sublists down to the rudimentary size of 2 and uses the merge() function to sort pairs, then quadruples, then octets etc.\n"
   ]
  },
  {
   "cell_type": "code",
   "execution_count": 20,
   "metadata": {},
   "outputs": [],
   "source": [
    "def merge(a,b):\n",
    "    # Function to merge two arrays\n",
    "    c = []\n",
    "    while len(a) != 0 and len(b) != 0:\n",
    "        if a[0] < b[0]:\n",
    "            c.append(a[0])\n",
    "            a.remove(a[0])\n",
    "        else:\n",
    "            c.append(b[0])\n",
    "            b.remove(b[0])\n",
    "    if len(a) == 0:\n",
    "        c += b\n",
    "    else:\n",
    "        c += a\n",
    "    return c\n",
    "\n",
    "def mergesort(x):\n",
    "    # Function to sort an array using merge sort algorithm \n",
    "    if len(x) == 0 or len(x) == 1:\n",
    "        return x\n",
    "    else:\n",
    "        # print(len(x)) # use this line to get an idea how this works\n",
    "        middle = int(len(x)/2)\n",
    "        a = mergesort(x[:middle])\n",
    "        b = mergesort(x[middle:])\n",
    "        return merge(a,b)\n"
   ]
  },
  {
   "cell_type": "code",
   "execution_count": 25,
   "metadata": {},
   "outputs": [
    {
     "name": "stdout",
     "output_type": "stream",
     "text": [
      "--- 14.727187633514404 seconds ---\n"
     ]
    }
   ],
   "source": [
    "import time\n",
    "start_time = time.time()\n",
    "\n",
    "# MergeSort\n",
    "\n",
    "sortedNs = mergesort(numbers)\n",
    "\n",
    "print(\"--- %s seconds ---\" % (time.time() - start_time))\n",
    "\n"
   ]
  },
  {
   "cell_type": "markdown",
   "metadata": {},
   "source": [
    "#### Evaluating the Complexity\n",
    "Take a pause and think:\n",
    "* How many calculations did SimpleSort require?\n",
    "* How does the number of calculations scale with the size of the list N?\n",
    "  - For each element in the list we need N-1 comparisons\n",
    "  - We then shorten the list by -1 and repeat\n",
    "  - We thus need (N-1)+(N-2)+(N-3)...+1 calculations\n",
    "  - This is the sum of a series with period=1 and is equal to:((N-1)(N-2))/2\n",
    "* This means that as N increases, the number of calculations increases by N^2.\n",
    "\n",
    "#### Brute Force Approaches\n",
    "* SimpleSort belongs to a type of algorithms that are called \"Exhaustive\" or \"Brute Force\".\n",
    "* This means that they proceed with a simple \"all out\" approach that attacks the problem directly, in the hope that it is not too complex and expecting that the mere \"force\" of computation can solve it.\n",
    "* Brute Force approaches work in a satisfactory way if the problem is not very complex.\n",
    "* However they can be problematic if the problem is not simple as we will see in the following.\n",
    "\n",
    "#### Big-O, O() notation\n",
    "* O()-notation is a means to express the complexity of an algorithm, in particular the way with which the number of calculation increases with the size of the input\n",
    "* O() is shown as a function of input size (n) depending on the way processing time scales with n.\n",
    "* For example SimpleSort is O(n^2) because as we saw it scales with n-quadratic\n",
    "\n",
    "![Algorithmic Complexity Scaling](https://raw.githubusercontent.com/christoforos-nikolaou/MolBioMedClass/master/Figures/CompBio/Figure00_06.jpg)\n"
   ]
  },
  {
   "cell_type": "markdown",
   "metadata": {},
   "source": [
    "#### Big-O Notation (Merge Sort)\n",
    "* **MergeSort**: takes an array of N and splits it in half, then sorts each half by recursive calls of the merge function. Let's break this into the two components:\n",
    "    * Splitting is done into halves which means that for a list of N, log2(N) splits will be required\n",
    "    * The merging process is done by parsing the elements of A and B lists one at a time, thus for N values it takes O(n) time.  \n",
    "\n",
    "Combination of the two gives that **MergeSort is O(nlogn)**.\n",
    "\n",
    "* Question: Which is faster? SimpleSort or MergeSort?\n",
    "* Question: Can you figure out the time complexity of Euclid's algorithm?\n",
    "\n",
    "#### Divide and Conquer approaches\n",
    "* MergeSort belongs to a different type of approaches that are called \"Divide and Conquer\"\n",
    "* Divide and Conquer approaches proceed (as their name implies) by dividing a complex problem into simpler subproblems and solving them either recursively or iteratively (usually the first)\n",
    "* In many cases they are the only way to go around difficult problems that would require a prohibitive amount of calculations using Brute Force.\n",
    "\n",
    "#### Case 3: Fibonacci Series\n",
    "> Calculate a sum of N numbers where each one is produced as the sum of the two that came immediately before it.\n",
    "(the first two numbers are by definition set to 1)  \n",
    "```  \n",
    "  N[0]=0\n",
    "  N[1]=1  \n",
    "  N[2]=N[0]+N[1]=0+1=1  \n",
    "  N[3]=N[2]+N[1]=1+1=2  \n",
    "  N[4]=N[3]+N[2]=2+1=3  \n",
    "  N[5]=N[4]+N[3]=3+2=5  \n",
    "  etc  \n",
    "```\n",
    "\n",
    "![Fibonacci Sequence](figures/FibonacciSpiral.svg)\n",
    "\n",
    "The problem: Calculate the Fibonacci element number N\n",
    "\n",
    "#### Fibonnaci Take #1: Using an Array\n"
   ]
  },
  {
   "cell_type": "code",
   "execution_count": 27,
   "metadata": {},
   "outputs": [],
   "source": [
    "def SimpleFibonacci(N):\n",
    "\tfib=[]\n",
    "\tfib.append(1)\n",
    "\tfib.append(1)\n",
    "\tfor i in range(2,N):\n",
    "\t\tfib.append(fib[i-1]+fib[i-2])\n",
    "\treturn fib[i]"
   ]
  },
  {
   "cell_type": "code",
   "execution_count": 29,
   "metadata": {},
   "outputs": [
    {
     "name": "stdout",
     "output_type": "stream",
     "text": [
      "102334155\n",
      "--- 0.0004940032958984375 seconds ---\n"
     ]
    }
   ],
   "source": [
    "import time\n",
    "start_time = time.time()\n",
    "N = 40\n",
    "myFib = SimpleFibonacci(N)\n",
    "print(myFib)\n",
    "print(\"--- %s seconds ---\" % (time.time() - start_time))"
   ]
  },
  {
   "cell_type": "markdown",
   "metadata": {},
   "source": [
    "#### Fibonacci Take #2: Using Recursion"
   ]
  },
  {
   "cell_type": "code",
   "execution_count": 30,
   "metadata": {},
   "outputs": [],
   "source": [
    "def RecursiveFibonacci(N):\n",
    "    if N in {0,1}:\n",
    "        return N\n",
    "    if N > 1:\n",
    "        return RecursiveFibonacci(N-2) + RecursiveFibonacci(N-1) "
   ]
  },
  {
   "cell_type": "code",
   "execution_count": 31,
   "metadata": {},
   "outputs": [
    {
     "name": "stdout",
     "output_type": "stream",
     "text": [
      "102334155\n",
      "--- 85.16786909103394 seconds ---\n"
     ]
    }
   ],
   "source": [
    "import time\n",
    "start_time = time.time()\n",
    "N = 40\n",
    "myFib = RecursiveFibonacci(N)\n",
    "print(myFib)\n",
    "print(\"--- %s seconds ---\" % (time.time() - start_time))"
   ]
  },
  {
   "cell_type": "markdown",
   "metadata": {},
   "source": [
    "### Fibonacci: Analysis\n",
    "* Take #1\n",
    "    * We create an array of length N\n",
    "    * We go through the array calculating the i-th element with a simple addition of i-1, i-2\n",
    "* Take #2\n",
    "    * We swap the values of a, b with b and the sum of the two\n",
    "    * We recursively call the algorithm for i-1 and i-2\n",
    "\n",
    "![Recursion in Fibonacci](https://raw.githubusercontent.com/christoforos-nikolaou/BC205/master/figures/RecFib.png)\n",
    "\n",
    "### Ask yourself\n",
    "1. How does array-Fibonacci scale with N?\n",
    "2. How does recursive-Fibonacci scale with N?\n",
    "3. What is the Big-O notations of the two\n",
    "4. What do you think about recursion now?\n"
   ]
  },
  {
   "cell_type": "markdown",
   "metadata": {},
   "source": [
    "### Other cases of algorithms \n",
    "\n",
    "1. Randomized algorithmic approaches\n",
    "2. Using data structures\n",
    "\n",
    "### 4. Randomized approaches\n",
    "Sometimes using a random approach to solve a problem is much more efficient than we may think. \n",
    "A nice example to demonstrate this is the calculation of $\\pi$ with a randomized algorithm.\n",
    "\n",
    "Imagine the following \"experiment\":\n",
    "- Imagine a square with a side of length $\\alpha$=1 and\n",
    "- A circle of radius $\\alpha/2$ that is inscribed inside the square\n",
    "- Now consider a random sample of points $x$,$y$ from the square\n",
    "- The proportion of points that fall within the circle is equal to the ratio of the two areas $R$ which is a function of $\\pi$.\n",
    "- Design a randomized process that will calculate $\\pi$"
   ]
  },
  {
   "cell_type": "code",
   "execution_count": 36,
   "metadata": {},
   "outputs": [
    {
     "name": "stdout",
     "output_type": "stream",
     "text": [
      "3.1416952\n"
     ]
    }
   ],
   "source": [
    "import random\n",
    "import math\n",
    "success=0\n",
    "tries=10000000\n",
    "for i in range(tries):\n",
    "    # drawing point\n",
    "    (x,y)=(random.random(), random.random())\n",
    "    # checking if x,y are part of the circle\n",
    "    d=math.sqrt(abs(x-0.5)**2+abs(y-0.5)**2)\n",
    "    if (d <= 0.5):\n",
    "        success=success+1\n",
    "print(4*success/tries)"
   ]
  },
  {
   "cell_type": "markdown",
   "metadata": {},
   "source": [
    "### 5. Data structures\n",
    "Data structures (tables, networks, trees etc) go beyond simple entities in programming. The choice of the correct data structure can be crucial into solving a problem.\n",
    "A nice example may be found in simple question regarding multiplicity. For instance consider the following question:\n",
    "- Given a set of dates corresponding to the birthdays of all employees in a company\n",
    "- Find the date on which most birthdays occur with the fastest possible way"
   ]
  },
  {
   "cell_type": "code",
   "execution_count": 38,
   "metadata": {},
   "outputs": [
    {
     "ename": "TypeError",
     "evalue": "'int' object is not callable",
     "output_type": "error",
     "traceback": [
      "\u001b[1;31m---------------------------------------------------------------------------\u001b[0m",
      "\u001b[1;31mTypeError\u001b[0m                                 Traceback (most recent call last)",
      "\u001b[1;32m<ipython-input-38-3a480e111ecb>\u001b[0m in \u001b[0;36m<module>\u001b[1;34m\u001b[0m\n\u001b[0;32m     25\u001b[0m     \u001b[1;32mreturn\u001b[0m \u001b[1;34m\"key doesn't exist\"\u001b[0m\u001b[1;33m\u001b[0m\u001b[1;33m\u001b[0m\u001b[0m\n\u001b[0;32m     26\u001b[0m \u001b[1;33m\u001b[0m\u001b[0m\n\u001b[1;32m---> 27\u001b[1;33m \u001b[0mmostbdays\u001b[0m\u001b[1;33m=\u001b[0m\u001b[0mmax\u001b[0m\u001b[1;33m(\u001b[0m\u001b[0mbday\u001b[0m\u001b[1;33m.\u001b[0m\u001b[0mvalues\u001b[0m\u001b[1;33m(\u001b[0m\u001b[1;33m)\u001b[0m\u001b[1;33m)\u001b[0m\u001b[1;33m\u001b[0m\u001b[1;33m\u001b[0m\u001b[0m\n\u001b[0m\u001b[0;32m     28\u001b[0m \u001b[0mprint\u001b[0m\u001b[1;33m(\u001b[0m\u001b[1;34m\"The date with most birthdays is:\"\u001b[0m\u001b[1;33m,\u001b[0m \u001b[0mget_key\u001b[0m\u001b[1;33m(\u001b[0m\u001b[0mbday\u001b[0m\u001b[1;33m,\u001b[0m \u001b[0mmostbdays\u001b[0m\u001b[1;33m)\u001b[0m\u001b[1;33m,\u001b[0m \u001b[1;34m\".\\n\"\u001b[0m\u001b[1;33m,\u001b[0m \u001b[0mmostbdays\u001b[0m\u001b[1;33m,\u001b[0m \u001b[1;34m\"employees have their bday.\"\u001b[0m\u001b[1;33m)\u001b[0m\u001b[1;33m\u001b[0m\u001b[1;33m\u001b[0m\u001b[0m\n\u001b[0;32m     29\u001b[0m \u001b[1;33m\u001b[0m\u001b[0m\n",
      "\u001b[1;31mTypeError\u001b[0m: 'int' object is not callable"
     ]
    }
   ],
   "source": [
    "import datetime\n",
    "import random\n",
    "\n",
    "employees=5000\n",
    "random_dates=[]\n",
    "\n",
    "start_date = datetime.date(2020, 1, 1)\n",
    "end_date = datetime.date(2020, 12, 31)\n",
    "\n",
    "for i in range(employees):\n",
    "    time_between_dates = end_date - start_date\n",
    "    days_between_dates = time_between_dates.days\n",
    "    random_number_of_days = random.randrange(days_between_dates)\n",
    "    random_date = start_date + datetime.timedelta(days=random_number_of_days)\n",
    "    random_dates.append(random_date.strftime(\"%b %d\"))\n",
    "\n",
    "bday={}    \n",
    "for day in random_dates:\n",
    "    bday[day]=random_dates.count(day)\n",
    "\n",
    "def get_key(dictionary, val):\n",
    "    for key, value in dictionary.items():\n",
    "         if val == value:\n",
    "            return key\n",
    "    return \"key doesn't exist\"\n",
    "    \n",
    "mostbdays=max(bday.values())\n",
    "print(\"The date with most birthdays is:\", get_key(bday, mostbdays), \".\\n\", mostbdays, \"employees have their bday.\")\n",
    "    "
   ]
  },
  {
   "cell_type": "markdown",
   "metadata": {},
   "source": [
    "### Enough with this. What about Bioinformatics?\n",
    "* What we will be discussing in this class may appear detached from the above but it is _not_ so.\n",
    "* Issues like recursion, time complexity and efficiency will matter\n",
    "* The way we transform the problem into _formal sets_ of questions is crucial.\n",
    "\n",
    "### Some (not so simple) problems (coming up soon)\n",
    "- Given a long DNA sequence can you locate a given string of characters within it.\n",
    "- Can you say how many times a subsequence is found in a sequence and where?\n",
    "- Given two strings of characters can you find the longest common subsequence of \n",
    "  - a) un-interrupted characters \n",
    "  - b) characters with gaps \n",
    "  - c) characters with gaps and also some mismatches?"
   ]
  },
  {
   "cell_type": "markdown",
   "metadata": {},
   "source": [
    "### Exercises\n",
    "1. Implement a strategy to search for all possible 10-mers in the genome of E.coli and report the ones that are not found in the genome. You can download the E. coli genome from [this link](https://github.com/christoforos-nikolaou/BC205/blob/master/files/ecoli.fa).\n",
    "2. Implement the dichotomous search in the genome of E. coli for any given 10-mer, this time with the additional function of reporting the positions of the found elements.  \n",
    "3. Test both SimpleSort and MergeSort with a increasing sizes of integer numbers, record the time of execution and plot their behaviour on a graph to see differences in their complexity.  "
   ]
  }
 ],
 "metadata": {
  "kernelspec": {
   "display_name": "Python 3 (ipykernel)",
   "language": "python",
   "name": "python3"
  },
  "language_info": {
   "codemirror_mode": {
    "name": "ipython",
    "version": 3
   },
   "file_extension": ".py",
   "mimetype": "text/x-python",
   "name": "python",
   "nbconvert_exporter": "python",
   "pygments_lexer": "ipython3",
   "version": "3.8.5"
  },
  "vscode": {
   "interpreter": {
    "hash": "fb833273add3e7c60eb33c0608260b79a61e072ade6f02cc8d07b0a26eef8ab8"
   }
  }
 },
 "nbformat": 4,
 "nbformat_minor": 4
}
