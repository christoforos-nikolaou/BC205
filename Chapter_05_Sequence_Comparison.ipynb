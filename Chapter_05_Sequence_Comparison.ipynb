{
 "cells": [
  {
   "attachments": {},
   "cell_type": "markdown",
   "metadata": {},
   "source": [
    "# BC205: Algorithms for Bioinformatics.\n",
    "## V. Sequence Comparison and Alignment\n",
    "### Christoforos Nikolaou"
   ]
  },
  {
   "attachments": {},
   "cell_type": "markdown",
   "metadata": {},
   "source": [
    "### Goals for this class\n",
    "\n",
    "* To present the biological problem of Sequence Comparison\n",
    "* To define String Similarity and show how different definitions change the problem\n",
    "* To present the problem of Sequence Alignment\n",
    "* To solve the problem of Sequence Alignment using the algorithm presented by Saul B. Needleman and Christian D. Wunsch (1970)\n",
    "* To present the concept of Dynamic Programming as an algorithmic technique\n"
   ]
  },
  {
   "attachments": {},
   "cell_type": "markdown",
   "metadata": {},
   "source": [
    "### Introduction. The biological problem\n",
    "In this class we will be moving into the discussion of problems of similarity in sequence analysis. Two basic questions that we will deal with are:\n",
    "Given two sequences of comparable length, what is the best way to objectively define a measure of their of their similarity?\n",
    "\n",
    "Given two sequences with significantly different lengths, how can we identify all identical matches of the shorter within the longer one?\n"
   ]
  },
  {
   "attachments": {},
   "cell_type": "markdown",
   "metadata": {},
   "source": [
    "\n",
    "### Part A. Objectively defining the similarity between two sequences\n",
    "\n",
    "Biological Context\n",
    "\n",
    "This is one of the most primary problems of bioinformatics with its roots in the study of:   \n",
    "*   Phylogenetic relationships at the molecular level, e.g. the comparison of orthologous sequences  \n",
    "*   Evolutionary dynamics in genomes, e.g. the identification of gene duplications, rearrangements etc  \n",
    "*   Genomic variability, e.g. comparisons of the same sequence among different individuals\n"
   ]
  },
  {
   "attachments": {},
   "cell_type": "markdown",
   "metadata": {},
   "source": [
    "### Sequence Similarity. The problem\n",
    "How similar are two sequences?\n",
    "\n",
    "Let’s start by looking into a very simple example of two 10-nucleotide sequences\n",
    "```\n",
    "G G G A A T T T C C\n",
    "G G C A A T T T C C\n",
    "```\n",
    "It is obvious that they basically differ in only one nucleotide. The question is how we can quantify this?\n"
   ]
  },
  {
   "attachments": {},
   "cell_type": "markdown",
   "metadata": {},
   "source": [
    "### Measures of sequence distance\n",
    "\n",
    "In Computer Science this is a problem of “character string comparison” (or “string comparison”). There are many measures for the quantification of such similarities, the simplest of which is called “Edit Distance” or “Hamming Distance”. We can define it as following:\n",
    "\n",
    "**Edit distance is the number of residues we need to edit/substitute to obtain one sequence from the other, without re-arrangements, deletions or insertions.**\n",
    "\n",
    "### Edit Distance of two Sequences\n",
    "\n",
    "![Edit Distance 1](figures/EditDistance1.png)\n",
    "\n",
    "In the figure you see that, between the two sequences, there are 9 identical residues, meaning only one change is needed. \n",
    "\n",
    "We say that they have Distance=1. This can be scaled for the total size of the combined sequences Distance=1/10=0.1\n",
    "\n",
    "In a similar way we can quantify the distance of the following pair of sequences as Distance=3/10=0.3\n",
    "\n",
    "![Edit Distance 2](figures/EditDistance2.png)"
   ]
  },
  {
   "attachments": {},
   "cell_type": "markdown",
   "metadata": {},
   "source": [
    "### Going beyond distance measures\n",
    "What if the sequences are not so similar? In the example we see below the distance is calculated as D=9/10=0.9. \n",
    "\n",
    "![Edit Distance 3](figures/EditDistance3.png)\n",
    "\n",
    "This means that the two sequences are only 10% similar to each other. Are they though?\n",
    "\n",
    "If one “slides” the two sequences against each other we can obtain a smaller distance and higher similarity as residues become “aligned”\n",
    "\n",
    "![Edit Distance 4](figures/MatchVsSlide.png)\n",
    "\n",
    "The sequences now have a much lower distance than 0.9, even allowing for the fact that the combined length of the two sequences is 12 nucleotides D=4/12=0.33.\n",
    "\n",
    "The main point here is that we have allowed ourselves the additional liberty of displacing the two sequence against each other, without changing the order of residues in either of the two."
   ]
  },
  {
   "attachments": {},
   "cell_type": "markdown",
   "metadata": {},
   "source": [
    "### The Sequence Alignment Problem - Description\n",
    "\n",
    "The highlighted text above is a good definition of Sequence Alignment.\n",
    "\n",
    "This is:\n",
    "\n",
    "_Assuming two sequences, which is the best way we can “slide” one against the other, without altering the order of residues, in order to maximize their similarity?_\n",
    "\n",
    "In the example shown below, we see that two sequences can be “aligned” with more than one ways.\n",
    "\n",
    "![MatchVsSlide2](figures/MatchVsSlide2.png)\n",
    "\n",
    "Both of the following sequences give rise to 5 “matching” residues, but in the first there 4 more “slides” required to open a gap in the middle of the second sequence. Do we prefer the first or the second? Should we take into account the “matching” residues or also the number of “gaps” in the alignment?\n"
   ]
  },
  {
   "attachments": {},
   "cell_type": "markdown",
   "metadata": {},
   "source": [
    "### The Sequence Alignment Problem - Definition\n",
    "\n",
    "The question that arises is then related to that best way we mentioned earlier. The problem is now reduced to the following:\n",
    "\n",
    "_Given two sequences, how can we define which of their possible alignments provides the highest similarity score provided an evaluation of matches, mismatches and gaps_\n",
    "\n",
    "We will have to provide some specifications on how to score all three of them.\n",
    "\n",
    "![SequenceAlignment](figures/SequenceAlignmentSimilarity.png)\n",
    "\n",
    "So, assuming we have e.g. the DNA sequences:\n",
    "\n",
    "```\n",
    "ACACAGACATAGCATCGACTAGGAGAGA\n",
    "ACAGGGACTAGGTTGCCA\n",
    "```\n",
    "\n",
    "What is the best way to align them?"
   ]
  },
  {
   "attachments": {},
   "cell_type": "markdown",
   "metadata": {},
   "source": [
    "### The Sequence Alignment Problem - An example\n",
    "\n",
    "We will start the description of the problem with a -somewhat- strange analogy of a sailor that wants to travel the Aegean Sea. \n",
    "His problem is described [here](https://rpubs.com/ChristoforosNikolaou/MBioMedPtIIb_A) and can be found in a set of slides [here](cb_2016_lecture_04_seqcomparison.pdf)\n",
    "\n",
    "Below is the problem.\n",
    "\n",
    "A sailor is set to sail from the port of Rafina to Astypalaia.\n",
    "\n",
    "![](figures/Cruise1.png)\n",
    "\n",
    "The weather and other constraints only permit him to move to the right, to the bottom or diagonally bottom-right.   \n",
    "Before he begins he has scored all the places he may (or may not visit) in advance.  \n",
    "\n",
    "![](figures/Cruise2.png)\n",
    "\n",
    "The Question is: **Which route should he choose given the constraints and the scoring board, that will allow him to gather the maximum total score?**  \n",
    "\n",
    "![](figures/Cruise3.png)\n",
    "\n",
    "One first -and rather obvious choice- is the **greedy approach**.   \n",
    "We start from the top-left corner and always take the allowed route to the position with the maximum score.  \n",
    "\n",
    "![](figures/Cruise4.png)\n",
    "\n",
    "A different approach would be an **exhaustive, brute force approach**.   \n",
    "In this, we would calculate the score for **every possible** complete route and then choose the best.  \n",
    "The number of the possible routes is quite big and it grows exponentially. So it's not a viable option.  \n",
    "  \n",
    "So, we need **a new approach**.  \n",
    "This is what we will do:   \n",
    "\n",
    "We will start by filling the first row and the first column with the scores that can be calculated.  \n",
    "This is easy because in the case of horizontal/vertical displacements in the grid there are no options.  \n",
    "Only one choice exists.  \n",
    "\n",
    "![](figures/Cruise5.png)\n",
    "\n",
    "Now, here comes the main trick: We will then work our way **backward**.   \n",
    "Instead of asking which is the best square to _move to_ from a given point, we will ask which is the best way to _have arrived at_ a given point.  \n",
    "\n",
    "This can be done only for squares in the grid that:  \n",
    "*   lie at the bottom-right corner of a set of 4 squares  \n",
    "*   have all three other squares pre-calculated   \n",
    "\n",
    "We can, thus apply a simple choice, for the first internal square like this:  \n",
    "1. We examine our three option for arriving to this square: from the top vertically, from the left horizontally and from the upper-left diagonally  \n",
    "2. We choose the greatest score combination, by adding the score of the square of origin to the one of the destination.  \n",
    "3. We assign the **cumulative score** to the square of destination and **mark the direction of origin** with a _tracking arrow_.  \n",
    "\n",
    "![](figures/Cruise6.png)\n",
    "\n",
    "Once we do this for the first internal square, two more squares \"open up\".  \n",
    "We go on calculating this for all squares in the grid.   \n",
    "Remember: What we are actually doing is that we are calculating which is the best way to arrive to **any possible square**.  \n",
    "In this way, upon reaching the final bottom-right square, **we will have effectively solved the whole route**.   \n",
    "The score of the final square is by definition **the maximum score** we can have with the given scoring grid.  \n",
    "\n",
    "To find the route, we now only need to go back from the bottom-right to the top left, following the **tracking arrows**. This is called backtracking.  \n",
    "\n",
    "![](figures/Cruise7.png)"
   ]
  },
  {
   "attachments": {},
   "cell_type": "markdown",
   "metadata": {},
   "source": [
    "### The Needlemann-Wunsch Algorithm\n",
    "\n",
    "The basis of the NW Algorithm is breaking the bigger problem into smaller ones.   \n",
    "The pairwise sequence comparison problem is directly analogous to the one of the sailor.   \n",
    "Here is how:  \n",
    "1. The two sequences can be seen as the indexes of the rows and the columns in a grid.   \n",
    "2. We start from the top-left at the point when we have not read _any_ residue and we need to reach the bottom right when both sequences will have been read in full.  \n",
    "3. Every time we make a horizontal or a vertical move **we are introducing a gap** in the alignment since we are only reading one of the two sequences.  \n",
    "4. Every time we make a diagonal move we have to distinguish between outcomes of match/mismatch or other, more elaborate scoring schemes (see below).  \n",
    "\n",
    "In this way we can use a simple scheme of e.g. match=1, mismatch=-2, gap=-2 to implement the algorithm in the following example of two aminoacid sequences.  \n",
    "We start by filling the first row/column with cumulative gap scores, as below.\n",
    "\n",
    "![](figures/NW1.png)\n",
    "\n",
    "The choice for each square is done on the basis of the scoring scheme we are given.  \n",
    "\n",
    "![](figures/NW2.png)\n",
    "\n",
    "We work our way down and right the grid\n",
    "\n",
    "![](figures/NW3.png)\n",
    "\n",
    "As shown below\n",
    "\n",
    "![](figures/NW4.png)\n",
    "\n",
    "In the end, we simply backtrack from the bottom right corner, taking note of the tracking pointers/arrows.   \n",
    "Note how the alignment is created from the scored grid.\n",
    "\n",
    "![](figures/NW5.png)\n",
    "\n"
   ]
  },
  {
   "attachments": {},
   "cell_type": "markdown",
   "metadata": {},
   "source": [
    "### Scoring schemes and Substitution Matrices\n",
    "\n",
    "When it comes to the outcome of an alignment, the scoring scheme is of prime importance. \n",
    "Notice how the final score, but most importantly the alignment itself is changed with a slight change in the scoring schemes.\n",
    "\n",
    "![](figures/NW6.png)\n",
    "\n",
    "In reality and especially for protein sequences the align\n",
    "\n",
    "![](figures/BLOSUM.png)"
   ]
  },
  {
   "attachments": {},
   "cell_type": "markdown",
   "metadata": {},
   "source": [
    "### Dynamic Programming\n",
    "\n"
   ]
  },
  {
   "cell_type": "code",
   "execution_count": null,
   "metadata": {},
   "outputs": [],
   "source": [
    "def SimpleFibonacci(N):\n",
    "\tfib=[]\n",
    "\tfib.append(0)\n",
    "\tfib.append(1)\n",
    "\tfor i in range(2,N+1):\n",
    "\t\tfib.append(fib[i-1]+fib[i-2])\n",
    "\treturn fib[i]"
   ]
  },
  {
   "attachments": {},
   "cell_type": "markdown",
   "metadata": {},
   "source": [
    "### Recursion in Fibonacci\n",
    "\n",
    "Remember how if we want to use recursion in the calculation of the Fibonacci sequence we can deploy the following algorithm."
   ]
  },
  {
   "cell_type": "code",
   "execution_count": null,
   "metadata": {},
   "outputs": [],
   "source": [
    "def RecursiveFibonacci(N):\n",
    "    fib = {}\n",
    "    if N in {0,1}:\n",
    "        fib[N] = N\n",
    "    if N > 1:\n",
    "        fib[N] = RecursiveFibonacci(N-2) + RecursiveFibonacci(N-1)\n",
    "    return fib[N]"
   ]
  },
  {
   "attachments": {},
   "cell_type": "markdown",
   "metadata": {},
   "source": [
    "which is not efficient since a number of steps are repeated many times\n",
    "\n",
    "![](figures/FibonacciRecursion.JPG)"
   ]
  },
  {
   "attachments": {},
   "cell_type": "markdown",
   "metadata": {},
   "source": [
    "We can deploy some sort of dynamic programming approach to speed up the recursion. We can basically check if the value to be calculated is already calculated and then skip it calculation step. \n",
    "\n",
    "See below how the green steps are not calculated.\n",
    "\n",
    "![](figures/FibonacciDP.JPG)"
   ]
  },
  {
   "cell_type": "code",
   "execution_count": null,
   "metadata": {},
   "outputs": [],
   "source": [
    "def DPFibonacci(N):\n",
    "    fib = {}\n",
    "    if N in {0,1}:\n",
    "        fib[N] = N\n",
    "    if N > 1:\n",
    "        if (N not in fib):\n",
    "            fib[N] = RecursiveFibonacci(N-2) + RecursiveFibonacci(N-1)\n",
    "    return fib[N]"
   ]
  },
  {
   "cell_type": "code",
   "execution_count": null,
   "metadata": {},
   "outputs": [],
   "source": [
    "import time\n",
    "start_time = time.time()\n",
    "myFib = SimpleFibonacci(10)\n",
    "print(myFib)\n",
    "print(\"--- %s seconds ---\" % (time.time() - start_time))\n",
    "#\n",
    "start_time = time.time()\n",
    "myFib = RecursiveFibonacci(10)\n",
    "print(myFib)\n",
    "print(\"--- %s seconds ---\" % (time.time() - start_time))\n",
    "#\n",
    "start_time = time.time()\n",
    "myFib = DPFibonacci(10)\n",
    "print(myFib)\n",
    "print(\"--- %s seconds ---\" % (time.time() - start_time))\n"
   ]
  },
  {
   "cell_type": "markdown",
   "metadata": {},
   "source": [
    "## Largest common subsequence (LCS)"
   ]
  },
  {
   "cell_type": "code",
   "execution_count": null,
   "metadata": {},
   "outputs": [],
   "source": [
    "def longest_common_subsequence(str1, str2):\n",
    "    m = len(str1)\n",
    "    n = len(str2)\n",
    "\n",
    "    # Initialize a 2D array to store the lengths of the common subsequences\n",
    "    dp = [[0] * (n+1) for _ in range(m+1)]\n",
    "\n",
    "    # Fill the dp array using dynamic programming\n",
    "    for i in range(1, m+1):\n",
    "        for j in range(1, n+1):\n",
    "            if str1[i-1] == str2[j-1]:\n",
    "                dp[i][j] = dp[i-1][j-1] + 1\n",
    "            else:\n",
    "                dp[i][j] = max(dp[i-1][j], dp[i][j-1])\n",
    "\n",
    "    # Backtrack to find the longest common subsequence\n",
    "    lcs = \"\"\n",
    "    i, j = m, n\n",
    "    while i > 0 and j > 0:\n",
    "        if str1[i-1] == str2[j-1]:\n",
    "            lcs = str1[i-1] + lcs\n",
    "            i -= 1\n",
    "            j -= 1\n",
    "        elif dp[i-1][j] > dp[i][j-1]:\n",
    "            i -= 1\n",
    "        else:\n",
    "            j -= 1\n",
    "\n",
    "    return lcs\n",
    "\n",
    "# Test the function with two strings\n",
    "str1 = \"ABCBDAB\"\n",
    "str2 = \"BDCAB\"\n",
    "print(longest_common_subsequence(str1, str2))  # Output: \"BCAB\""
   ]
  },
  {
   "cell_type": "code",
   "execution_count": null,
   "metadata": {},
   "outputs": [],
   "source": [
    "def longest_common_substring(text1, text2):\n",
    "  \"\"\"\n",
    "  Finds the longest common substring between two strings.\n",
    "\n",
    "  Args:\n",
    "      text1: The first string.\n",
    "      text2: The second string.\n",
    "\n",
    "  Returns:\n",
    "      The longest common substring between the two strings.\n",
    "  \"\"\"\n",
    "  m = len(text1)\n",
    "  n = len(text2)\n",
    "  dp = [[0 for _ in range(n + 1)] for _ in range(m + 1)]\n",
    "\n",
    "  # Find the length of the longest common substring\n",
    "  for i in range(1, m + 1):\n",
    "    for j in range(1, n + 1):\n",
    "      if text1[i - 1] == text2[j - 1]:\n",
    "        dp[i][j] = dp[i - 1][j - 1] + 1\n",
    "      else:\n",
    "        dp[i][j] = 0\n",
    "\n",
    "  # Backtrack to find the actual substring\n",
    "  longest_len = max(max(row) for row in dp)\n",
    "  i, j = m, n\n",
    "  substring = \"\"\n",
    "  while i > 0 and j > 0:\n",
    "    if dp[i][j] > 0:\n",
    "      substring = text1[i - 1] + substring\n",
    "      i -= 1\n",
    "      j -= 1\n",
    "    else:\n",
    "      if dp[i][j - 1] > dp[i - 1][j]:\n",
    "        j -= 1\n",
    "      else:\n",
    "        i -= 1\n",
    "\n",
    "  return substring\n",
    "\n",
    "# Example usage\n",
    "text1 = \"ATGCCCAC\"\n",
    "text2 = \"AAATGCTTTTTT\"\n",
    "lcs = longest_common_substring(text2, text1)\n",
    "print(\"Longest Common Substring:\", lcs)"
   ]
  },
  {
   "cell_type": "markdown",
   "metadata": {},
   "source": [
    "## LCS in quadratic time"
   ]
  },
  {
   "cell_type": "code",
   "execution_count": null,
   "metadata": {},
   "outputs": [],
   "source": [
    "def longestSubstringFinder(string1, string2):\n",
    "    answer = \"\"\n",
    "    len1, len2 = len(string1), len(string2)\n",
    "    for i in range(len1):\n",
    "        match = \"\"\n",
    "        for j in range(len2):\n",
    "            if (i + j < len1 and string1[i + j] == string2[j]):\n",
    "                match += string2[j]\n",
    "            else:\n",
    "                if (len(match) > len(answer)): answer = match\n",
    "                match = \"\"\n",
    "    return answer\n",
    "\n",
    "print(longestSubstringFinder(\"grapple pie available\", \"apple pies\"))\n",
    "print(longestSubstringFinder(\"apples\", \"appleses\"))\n",
    "print(longestSubstringFinder(\"batplesx\", \"cappleses\"))"
   ]
  },
  {
   "cell_type": "code",
   "execution_count": null,
   "metadata": {},
   "outputs": [],
   "source": [
    "def LCSubStr(str1, str2):\n",
    "\n",
    "    N = len(str1)\n",
    "    M = len(str2)\n",
    "    print(N)\n",
    "    print(M)\n",
    " \n",
    "    LCSuff = [[0 for k in range(M+1)] for l in range(N+1)]\n",
    "    mx = 0\n",
    "    for i in range(N + 1):\n",
    "        for j in range(M + 1):\n",
    "            if (i == 0 or j == 0):\n",
    "                LCSuff[i][j] = 0\n",
    "            elif (str1[i-1] == str2[j-1]):\n",
    "                LCSuff[i][j] = LCSuff[i-1][j-1] + 1\n",
    "                mx = max(result, LCSuff[i][j])\n",
    "            else:\n",
    "                LCSuff[i][j] = 0\n",
    "    return mx\n",
    "\n",
    "LCSubStr(\"grapple pie available\", \"apple pies\")"
   ]
  },
  {
   "cell_type": "code",
   "execution_count": null,
   "metadata": {},
   "outputs": [],
   "source": [
    "def LCS(X, Y):\n",
    "    m = len(X)\n",
    "    n = len(Y)\n",
    "    \n",
    "    L = [[0 for x in range(n+1)] for y in range(m+1)]\n",
    "    for i in range(m+1):\n",
    "        for j in range(n+1):\n",
    "            if i == 0 or j == 0:\n",
    "                L[i][j] = 0\n",
    "            elif X[i-1] == Y[j-1]:\n",
    "                L[i][j] = L[i-1][j-1] + 1\n",
    "            else:\n",
    "                L[i][j] = max(L[i-1][j], L[i][j-1])\n",
    "    return L[m][n]\n",
    "\n",
    "LCS(\"grapple pie available\", \"apple pies\")"
   ]
  },
  {
   "cell_type": "markdown",
   "metadata": {},
   "source": [
    "## LCS with Dynamic Programming"
   ]
  },
  {
   "cell_type": "code",
   "execution_count": null,
   "metadata": {},
   "outputs": [],
   "source": [
    "def lcs_algo(S1, S2, m, n):\n",
    "    L = [[0 for x in range(n+1)] for x in range(m+1)]\n",
    "\n",
    "    # Building the mtrix in bottom-up way\n",
    "    for i in range(m+1):\n",
    "        for j in range(n+1):\n",
    "            if i == 0 or j == 0:\n",
    "                L[i][j] = 0\n",
    "            elif S1[i-1] == S2[j-1]:\n",
    "                L[i][j] = L[i-1][j-1] + 1\n",
    "            else:\n",
    "                L[i][j] = max(L[i-1][j], L[i][j-1])\n",
    "\n",
    "    index = L[m][n]\n",
    "\n",
    "    lcs_algo = [\"\"] * (index+1)\n",
    "    lcs_algo[index] = \"\"\n",
    "\n",
    "    i = m\n",
    "    j = n\n",
    "    while i > 0 and j > 0:\n",
    "\n",
    "        if S1[i-1] == S2[j-1]:\n",
    "            lcs_algo[index-1] = S1[i-1]\n",
    "            i -= 1\n",
    "            j -= 1\n",
    "            index -= 1\n",
    "\n",
    "        elif L[i-1][j] > L[i][j-1]:\n",
    "            i -= 1\n",
    "        else:\n",
    "            j -= 1\n",
    "            \n",
    "    # Printing the sub sequences\n",
    "    print(\"S1 : \" + S1 + \"\\nS2 : \" + S2)\n",
    "    print(\"LCS: \" + \"\".join(lcs_algo))\n",
    "\n",
    "\n",
    "S1 = \"grapple pie available\"\n",
    "S2 = \"apple pies\"\n",
    "m = len(S1)\n",
    "n = len(S2)\n",
    "lcs_algo(S1, S2, m, n)"
   ]
  },
  {
   "attachments": {},
   "cell_type": "markdown",
   "metadata": {},
   "source": [
    "dsadasd"
   ]
  }
 ],
 "metadata": {
  "kernelspec": {
   "display_name": "Python 3",
   "language": "python",
   "name": "python3"
  },
  "language_info": {
   "codemirror_mode": {
    "name": "ipython",
    "version": 3
   },
   "file_extension": ".py",
   "mimetype": "text/x-python",
   "name": "python",
   "nbconvert_exporter": "python",
   "pygments_lexer": "ipython3",
   "version": "3.8.10"
  },
  "orig_nbformat": 4,
  "vscode": {
   "interpreter": {
    "hash": "916dbcbb3f70747c44a77c7bcd40155683ae19c65e1c03b4aa3499c5328201f1"
   }
  }
 },
 "nbformat": 4,
 "nbformat_minor": 2
}
