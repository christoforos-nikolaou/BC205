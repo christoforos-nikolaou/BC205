{
 "cells": [
  {
   "attachments": {},
   "cell_type": "markdown",
   "metadata": {},
   "source": [
    "# BC205: Algorithms for Bioinformatics.\n",
    "## V. Sequence Comparison and Alignment\n",
    "### Christoforos Nikolaou"
   ]
  },
  {
   "attachments": {},
   "cell_type": "markdown",
   "metadata": {},
   "source": [
    "### Goals for this class\n",
    "\n",
    "* To present the biological problem of Sequence Comparison\n",
    "* To define String Similarity and show how different definitions change the problem\n",
    "* To present the problem of Sequence Alignment\n",
    "* To solve the problem of Sequence Alignment using the algorithm presented by Saul B. Needleman and Christian D. Wunsch (1970)\n",
    "* To present the concept of Dynamic Programming as an algorithmic technique\n"
   ]
  },
  {
   "attachments": {},
   "cell_type": "markdown",
   "metadata": {},
   "source": [
    "### Introduction. The biological problem\n",
    "In this class we will be moving into the discussion of problems of similarity in sequence analysis. Two basic questions that we will deal with are:\n",
    "Given two sequences of comparable length, what is the best way to objectively define a measure of their of their similarity?\n",
    "\n",
    "Given two sequences with significantly different lengths, how can we identify all identical matches of the shorter within the longer one?\n"
   ]
  },
  {
   "attachments": {},
   "cell_type": "markdown",
   "metadata": {},
   "source": [
    "\n",
    "### Part A. Objectively defining the similarity between two sequences\n",
    "\n",
    "Biological Context\n",
    "\n",
    "This is one of the most primary problems of bioinformatics with its roots in the study of:   \n",
    "*   Phylogenetic relationships at the molecular level, e.g. the comparison of orthologous sequences  \n",
    "*   Evolutionary dynamics in genomes, e.g. the identification of gene duplications, rearrangements etc  \n",
    "*   Genomic variability, e.g. comparisons of the same sequence among different individuals\n"
   ]
  },
  {
   "attachments": {},
   "cell_type": "markdown",
   "metadata": {},
   "source": [
    "### Sequence Similarity. The problem\n",
    "How similar are two sequences?\n",
    "\n",
    "Let’s start by looking into a very simple example of two 10-nucleotide sequences\n",
    "```\n",
    "G G G A A T T T C C\n",
    "G G C A A T T T C C\n",
    "```\n",
    "It is obvious that they basically differ in only one nucleotide. The question is how we can quantify this?\n"
   ]
  },
  {
   "attachments": {},
   "cell_type": "markdown",
   "metadata": {},
   "source": [
    "### Measures of sequence distance\n",
    "\n",
    "In Computer Science this is a problem of “character string comparison” (or “string comparison”). There are many measures for the quantification of such similarities, the simplest of which is called “Edit Distance” or “Hamming Distance”. We can define it as following:\n",
    "\n",
    "**Edit distance is the number of residues we need to edit/substitute to obtain one sequence from the other, without re-arrangements, deletions or insertions.**\n",
    "\n",
    "### Edit Distance of two Sequences\n",
    "\n",
    "![Edit Distance 1](figures/EditDistance1.png)\n",
    "\n",
    "In the figure you see that, between the two sequences, there are 9 identical residues, meaning only one change is needed. \n",
    "\n",
    "We say that they have Distance=1. This can be scaled for the total size of the combined sequences Distance=1/10=0.1\n",
    "\n",
    "In a similar way we can quantify the distance of the following pair of sequences as Distance=3/10=0.3\n",
    "\n",
    "![Edit Distance 2](figures/EditDistance2.png)"
   ]
  },
  {
   "attachments": {},
   "cell_type": "markdown",
   "metadata": {},
   "source": [
    "### Going beyond distance measures\n",
    "What if the sequences are not so similar? In the example we see below the distance is calculated as D=9/10=0.9. \n",
    "\n",
    "![Edit Distance 3](figures/EditDistance3.png)\n",
    "\n",
    "This means that the two sequences are only 10% similar to each other. Are they though?\n",
    "\n",
    "If one “slides” the two sequences against each other we can obtain a smaller distance and higher similarity as residues become “aligned”\n",
    "\n",
    "![Edit Distance 4](figures/MatchVsSlide.png)\n",
    "\n",
    "The sequences now have a much lower distance than 0.9, even allowing for the fact that the combined length of the two sequences is 12 nucleotides D=4/12=0.33.\n",
    "\n",
    "The main point here is that we have allowed ourselves the additional liberty of displacing the two sequence against each other, without changing the order of residues in either of the two."
   ]
  },
  {
   "attachments": {},
   "cell_type": "markdown",
   "metadata": {},
   "source": [
    "### The Sequence Alignment Problem - Description\n",
    "\n",
    "The highlighted text above is a good definition of Sequence Alignment.\n",
    "\n",
    "This is:\n",
    "\n",
    "_Assuming two sequences, which is the best way we can “slide” one against the other, without altering the order of residues, in order to maximize their similarity?_\n",
    "\n",
    "In the example shown below, we see that two sequences can be “aligned” with more than one ways.\n",
    "\n",
    "![MatchVsSlide2](figures/MatchVsSlide2.png)\n",
    "\n",
    "Both of the following sequences give rise to 5 “matching” residues, but in the first there 4 more “slides” required to open a gap in the middle of the second sequence. Do we prefer the first or the second? Should we take into account the “matching” residues or also the number of “gaps” in the alignment?\n"
   ]
  },
  {
   "attachments": {},
   "cell_type": "markdown",
   "metadata": {},
   "source": [
    "### The Sequence Alignment Problem - Definition\n",
    "\n",
    "The question that arises is then related to that best way we mentioned earlier. The problem is now reduced to the following:\n",
    "\n",
    "_Given two sequences, how can we define which of their possible alignments provides the highest similarity score provided an evaluation of matches, mismatches and gaps_\n",
    "\n",
    "We will have to provide some specifications on how to score all three of them.\n",
    "\n",
    "![SequenceAlignment](figures/SequenceAlignmentSimilarity.png)\n",
    "\n",
    "So, assuming we have e.g. the DNA sequences:\n",
    "\n",
    "```\n",
    "ACACAGACATAGCATCGACTAGGAGAGA\n",
    "ACAGGGACTAGGTTGCCA\n",
    "```\n",
    "\n",
    "What is the best way to align them?"
   ]
  },
  {
   "attachments": {},
   "cell_type": "markdown",
   "metadata": {},
   "source": [
    "### The Sequence Alignment Problem - An example\n",
    "\n",
    "We will start the description of the problem "
   ]
  },
  {
   "cell_type": "markdown",
   "metadata": {},
   "source": []
  },
  {
   "cell_type": "code",
   "execution_count": 8,
   "metadata": {},
   "outputs": [
    {
     "name": "stdout",
     "output_type": "stream",
     "text": [
      "G-ATTACA\n",
      "GCA-TGCU\n",
      "0.0\n",
      "----G-C--AGGCAAGTGGGGCACCCGTATCCT-T-T-C-C-AACTTACAAGGGT-C-CC-----CGT-T\n",
      "GTGCGCCAGAGG-AAGT----CA--C-T-T--TATATCCGCG--C--AC---GGTACTCCTTTTTC-TA-\n",
      "30.0\n",
      "GCAG-GCAAGTGG--GGCAC-CCGTATCCTTTC-CAAC-TTACAAGGGTCC-CCGT-T-\n",
      "G-TGCGCCAGAGGAAGTCACTTTATATCC--GCGC-ACGGTAC-----TCCTTTTTCTA\n",
      "-1.0\n",
      "GCAGGCAAGTGG--GGCAC-CCGTATCCTTTCCAACTTACAAGGGTCCCCGTT\n",
      "GTGCGCCAGAGGAAGTCACTTTATATCC-GCGCACGGTAC-TCCTTTTTC-TA\n",
      "-11.0\n",
      "GCAGGCAAGTGG--GGCAC-CCGTATCCTTTCCAACTTACAAGGGTCCCCGTT\n",
      "GTGCGCCAGAGGAAGTCACTTTATATCC-GCGCACGGTAC-TCCTTTTTC-TA\n",
      "-11.0\n"
     ]
    }
   ],
   "source": []
  },
  {
   "cell_type": "code",
   "execution_count": 14,
   "metadata": {},
   "outputs": [
    {
     "name": "stdout",
     "output_type": "stream",
     "text": [
      "GATTACA\n",
      "GATTGCA\n",
      "5.0\n"
     ]
    }
   ],
   "source": [
    "x = \"GATTACA\"\n",
    "y = \"GATTGCA\"\n",
    "print(nw(x, y, gap = 2))"
   ]
  }
 ],
 "metadata": {
  "kernelspec": {
   "display_name": "Python 3",
   "language": "python",
   "name": "python3"
  },
  "language_info": {
   "codemirror_mode": {
    "name": "ipython",
    "version": 3
   },
   "file_extension": ".py",
   "mimetype": "text/x-python",
   "name": "python",
   "nbconvert_exporter": "python",
   "pygments_lexer": "ipython3",
   "version": "3.8.10"
  },
  "orig_nbformat": 4,
  "vscode": {
   "interpreter": {
    "hash": "916dbcbb3f70747c44a77c7bcd40155683ae19c65e1c03b4aa3499c5328201f1"
   }
  }
 },
 "nbformat": 4,
 "nbformat_minor": 2
}
