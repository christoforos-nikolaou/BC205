{
 "cells": [
  {
   "cell_type": "code",
   "execution_count": 26,
   "metadata": {},
   "outputs": [
    {
     "name": "stdout",
     "output_type": "stream",
     "text": [
      "The posible 10-mers are ready!\n",
      "The genome of E.coli is ready!\n",
      "The 10-mers that exist in the E.coli genome are ready!\n",
      "\n",
      "The number of the posible 10-mers : \n",
      "1048576\n",
      "The total number of the 10-mers of the genome is : \n",
      "3101353 - 9 = 3101344\n",
      "The number of the 10-mers that does not exist in the E.coli genome is : \n",
      "223321\n"
     ]
    }
   ],
   "source": [
    "from itertools import product\n",
    "from itertools import chain\n",
    "from collections import Counter\n",
    "\n",
    "\n",
    "# The nucleotides udes to generate the 10-mers.\n",
    "nucleotides = ['A', 'C', 'G', 'T']\n",
    "k = 10\n",
    "\n",
    "\n",
    "# Generating all possible k-mers.\n",
    "kmers = [''.join(x) for x in product(nucleotides, repeat=k)]\n",
    "print(\"The posible 10-mers are ready!\")\n",
    "\n",
    "\n",
    "# The name of the file containing the E.coli genome. \n",
    "fn = \"Ecoli_genome.txt\"\n",
    "\n",
    "\n",
    "# Counting the lines of the file\n",
    "count=0\n",
    "with open(fn) as f:\n",
    "    for l in f:\n",
    "        count+=1\n",
    "\n",
    "\n",
    "# Reading the fasta file with the genome of E.coli and creating a string that contains the whole genome.\n",
    "ln=[]\n",
    "with open (fn) as file:\n",
    "    for y in range(count): #we need the number of the lines to stop the for loop, when the file ends\n",
    "        line = next(file)\n",
    "        lines = line.strip().split()        \n",
    "        ln.append((lines))\n",
    "\n",
    "ln=list(chain.from_iterable(ln[1:])) #we exclude the first line that has the heading\n",
    "string=(''.join(ln))\n",
    "print(\"The genome of E.coli is ready!\")\n",
    "\n",
    "\n",
    "# Creating a list that includes all the 10-mers found in the genome of E.coli.\n",
    "kmers_genome = [string[i:i+10] for i in range(len(string)-9)]\n",
    "print(\"The 10-mers that exist in the E.coli genome are ready!\"+ \"\\n\")\n",
    "\n",
    "\n",
    "# Creating a list that contains only the 10-mers that exist in the list with all the posible 10-mers, but not in the E.coli genome.\n",
    "missing_kmers = list(set(kmers).difference(kmers_genome))\n",
    "\n",
    "\n",
    "# Creating a file and write all the missing 10-mers\n",
    "with open(\"missing_kmers.txt\",\"w\") as file_missing:\n",
    "    for i in missing_kmers:\n",
    "        file_missing.write(i+'\\n')\n",
    "\n",
    "\n",
    "### RESULTS : \n",
    "print(f\"The number of the posible 10-mers : \\n{len(kmers)}\")\n",
    "print(f\"The total number of the 10-mers of the genome is : \\n{len(string)} - 9 = {len(kmers_genome)}\")\n",
    "print(f\"The number of the 10-mers that does not exist in the E.coli genome is : \\n{len(missing_kmers)}\")\n",
    "\n"
   ]
  },
  {
   "cell_type": "code",
   "execution_count": 22,
   "metadata": {},
   "outputs": [
    {
     "name": "stdout",
     "output_type": "stream",
     "text": [
      "ACCTAAGTAG\n",
      "CGGAGCTAGT\n",
      "GCTAGTCTCT\n",
      "ACGACATCAG\n",
      "TAGGTAAGCT\n",
      "CCTACTGGAT\n",
      "CCTAGCCTCG\n",
      "ATGTATGCGA\n",
      "GGGCAGACGA\n",
      "CGTAGGTCTC\n"
     ]
    }
   ],
   "source": [
    "# Print 10 random 10-mers from the list with the 10-mers that do not exist in the E.coli genome.\n",
    "import random\n",
    "random_kmers_missing=random.sample(missing_kmers, k=10)\n",
    "\n",
    "for i in random_kmers_missing:\n",
    "    print (i)"
   ]
  }
 ],
 "metadata": {
  "kernelspec": {
   "display_name": "Python 3",
   "language": "python",
   "name": "python3"
  },
  "language_info": {
   "codemirror_mode": {
    "name": "ipython",
    "version": 3
   },
   "file_extension": ".py",
   "mimetype": "text/x-python",
   "name": "python",
   "nbconvert_exporter": "python",
   "pygments_lexer": "ipython3",
   "version": "3.8.5"
  }
 },
 "nbformat": 4,
 "nbformat_minor": 4
}
