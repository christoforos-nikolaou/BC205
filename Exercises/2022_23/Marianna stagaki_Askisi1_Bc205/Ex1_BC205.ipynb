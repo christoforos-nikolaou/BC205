{
 "cells": [
  {
   "attachments": {},
   "cell_type": "markdown",
   "metadata": {},
   "source": [
    "BC_205 Exercise 1: Identifying non-mers in a bacterial genome"
   ]
  },
  {
   "attachments": {},
   "cell_type": "markdown",
   "metadata": {},
   "source": [
    "Non-mers are k-mers that don't have a single instance in a greater corpus (e.g. a genome), that is they do not exist in a genome. Search the genome of E. coli for any given 10-mer and report the 10-mers that do not exist in the genome. You may get the genome of E. coli from here."
   ]
  },
  {
   "cell_type": "code",
   "execution_count": 9,
   "metadata": {},
   "outputs": [],
   "source": [
    "import itertools\n",
    "\n",
    "def non_kmer(genome_file, k):\n",
    "    count = 0\n",
    "    ecoli = ''\n",
    "    # δημιουργία λίστας με όλα τα πιθανά 10μερη που μπορούν να δημιουργηθουν από A,T,G,C με την βιβλιο-\n",
    "    #θηκη itertools product της Python\n",
    "    all_kmers = [''.join(v) for v in list(itertools.product(['A', 'T', 'C', 'G'], repeat = k))]\n",
    "    #  Επειτα ανοιγουμε το αρχειο με το γονιδιώμα της E.coli και αποθηκεύουμε σε ενα string με το όνομα ecoli ολόκληρη \n",
    "    # την αλληλουχία χωρίς το header\n",
    "    with open(genome_file, \"r+\") as genome:\n",
    "        genome_list = genome.readlines()\n",
    "        for line in genome_list:\n",
    "            count += 1\n",
    "            if count > 1 :\n",
    "                ecoli += line.replace(\"\\n\", \"\") \n",
    "    # Βρίσκουμε ολα τα κ-μερη που βρίσκονται στο γονιδιωμα απο την αρχη μεχρι το τέλος(-9) με βημα 1\n",
    "    kmers = [ecoli[i:i+k] for i in range(len(ecoli)-k+1)]\n",
    "    # Από όλα τα κ-μερη  αφαιρούμε όλο το σετ αυτών που βρήκαμε οτι υπάρχουν στο γονιδίωμα (δηλαδη unique values) \n",
    "    non_kmers = list(set(all_kmers) - set(kmers))\n",
    "    # Επειδή το αθροοισμα αυτών που δεν υπήρχαν και αυτών που υπήρχαν ηταν μεγαλύτερο απο όλα τα 10μερη (4^10)\n",
    "    # βλέπουμε με την παρακάτω εντολη σε τι οφείλεται (τελικά πρόκειται για N, δηλαδη αγνωστα νουκλεοτίδια)\n",
    "    non_existing_at_all_kmers =  list(set(kmers).difference(all_kmers))\n",
    "    # γράφουμε σε ένα νέο αρχείο τα κ-μερη που δεν υπάρχουν \n",
    "    with open(str(k)+'_non_mers_in_Ecoli.txt', \"w\") as newfile:\n",
    "        for i in non_kmers:\n",
    "            newfile.write(i+'\\n')\n",
    "    # επιστροφη της ισότητας των κμερων που υπάρχουν και μη με όσα έχουμε βρει\n",
    "    print(non_existing_at_all_kmers)\n",
    "    return (len(set(non_kmers)) + len(set(kmers))) == (len(all_kmers) + len(non_existing_at_all_kmers))\n",
    "        \n",
    "    "
   ]
  },
  {
   "cell_type": "code",
   "execution_count": 10,
   "metadata": {},
   "outputs": [
    {
     "name": "stdout",
     "output_type": "stream",
     "text": [
      "['CCAGANNNNN', 'NAGTTCGACA', 'NNNAGTTCGA', 'TCCAGANNNN', 'GANNNNNNNN', 'NNNNNAGTTC', 'NNAGTTCGAC', 'CAGANNNNNN', 'NNNNNNAGTT', 'CATCCAGANN', 'AGANNNNNNN', 'NNNNNNNNNA', 'NNNNNNNNNN', 'GCATCCAGAN', 'NNNNNNNAGT', 'NNNNNNNNAG', 'ANNNNNNNNN', 'ATCCAGANNN', 'NNNNAGTTCG']\n"
     ]
    },
    {
     "data": {
      "text/plain": [
       "True"
      ]
     },
     "execution_count": 10,
     "metadata": {},
     "output_type": "execute_result"
    }
   ],
   "source": [
    "non_kmer(\"ecoli.fa\", 10)"
   ]
  },
  {
   "cell_type": "code",
   "execution_count": null,
   "metadata": {},
   "outputs": [],
   "source": []
  },
  {
   "cell_type": "code",
   "execution_count": null,
   "metadata": {},
   "outputs": [],
   "source": []
  }
 ],
 "metadata": {
  "kernelspec": {
   "display_name": "Python 3",
   "language": "python",
   "name": "python3"
  },
  "language_info": {
   "codemirror_mode": {
    "name": "ipython",
    "version": 3
   },
   "file_extension": ".py",
   "mimetype": "text/x-python",
   "name": "python",
   "nbconvert_exporter": "python",
   "pygments_lexer": "ipython3",
   "version": "3.10.8"
  },
  "orig_nbformat": 4,
  "vscode": {
   "interpreter": {
    "hash": "07f25d79d22bb07f853fe60dc6a8951878331861792a9e3972b395129bc8db22"
   }
  }
 },
 "nbformat": 4,
 "nbformat_minor": 2
}
