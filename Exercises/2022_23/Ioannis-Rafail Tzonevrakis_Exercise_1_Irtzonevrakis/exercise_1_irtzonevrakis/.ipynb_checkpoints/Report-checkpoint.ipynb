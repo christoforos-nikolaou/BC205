{
 "cells": [
  {
   "cell_type": "markdown",
   "metadata": {},
   "source": [
    "# Exercise 1.3 report\n",
    "\n",
    "## Introduction\n",
    "\n",
    "### Short description of the task\n",
    "\n",
    "This exercise required the identification of possible Horizontal Gene Transfer (HGT, i.e. the transfer of genetic material between phylogenetic lineages without the presence of an ancestor-descendant relationship) based on Z-transformed observed over expected ratio-normalized 2-mer counts in the *Staphylococcus aureus* genome; Specifically, we needed to accomplish the following tasks:\n",
    "\n",
    "1. Count all possible sub-sequences of length 2 within the entire *S. aureus genome*.\n",
    "2. Normalize the sequence counts by their observed-to-expected ratio: $OE_{i} = \\dfrac{Freqs_{i}}{\\prod_{j=1}^{2}F_{seq_{i, j}}}$, where $Freqs_{i}$ is an array containing the observed frequency of 2-mer $i$ given by $\\dfrac{Count_{i}}{L}$ (with L being the total sequence length), $F$ is an array containing the base frequencies, and $seq_{i, j}$ is the $j$-th certainly-called base (defined by the regular expression `[ACGT]` in the FASTA file format) in the $i$-th 2-mer. Store said normalized frequency in an array $f_{WG}$\n",
    "3. For each 1000 basepair-long window compute the observed over expected-normalized 2-mer frequency, and store the result in an array $f_{i}$. If a 2-mer is present in the whole-genome sequence, but not in a window, assume it has a frequency of zero.\n",
    "4. Compute the Euclidean distance between $f_{WG}$ and $f_{i}$ for each $i$: $Dist_{i} = sum_{1}^{j}\\sqrt{(f_{WG_{j}-f{i_{j}}})}$.\n",
    "5. Z-transform the Euclidean distance array $Dist$:\n",
    "$Z_{i} = \\dfrac{Dist_{i}-\\mu_{Dist_{i}}}{\\sigma_{Dist_{i}}}$, with $\\mu$ symbolizing the mean and $\\sigma$ the standard deviation.\n",
    "6. Get all $Z_{i}$, with $\\mid Z_{i} \\mid \\geq T$, with $T$ being an arbitrary threshold. The corresponding windows $i$ are considered putative HGT sites.\n",
    "\n",
    "For the sake of comparison, we also implemented the GC-content Z-score putative HGT site detection method, as detailed in the course notes; The procedure involved is substantially similar to the one described above, with the difference that the array being Z-transformed contains the GC-content (defined as $f_{GC, i} = \\dfrac{f_{G_{i}}+f_{C_{i}}}{L}$, with $f_G$ and $f_C$ being the frequencies of the nucleotides Guanine and Cytosine respectively, and $L$ being the sequence length.\n",
    "\n",
    "All relevant functions have been implemented in Python in the `sequence.py` file; This implements a `Sequence` class, which contains all methods required to implement the task requested in the exercise. A brief summary follows:\n",
    "\n",
    "* `get_windowed_oe_ratio_d2_zscores`: Computes the z-scores of the Euclidean distances between the observed-over-expected k-mer frequencies of partially overlapping windows and the respective frequencies for the entire genome.\n",
    "* `get_windowed_gc_content_zscores`: Computes the z-scores of the GC-content values of partially overlapping windows.\n",
    "* `get_base_freqs`: Computes the loaded sequence's base frequencies.\n",
    "* `overlapping_window_view`: Gets an iterator over partially-overlapping windows across a sequence.\n",
    "* `windowed_kmer_count`: Counts the k-mers within overlapping windows across the loaded sequence.\n",
    "* `get_oe_kmers`: Transforms a k-mer counts dictionary, as returned by count_kmers, by its observed-to-expected frequency ratio.\n",
    "* `kmer_iterator`: Creates an iterator over the k-mers of the loaded sequence.\n",
    "* `count_kmers`: Counts the sequence's distinct k-mers.\n",
    "\n",
    "For detailed information on these function's usages, return values and functionality, the reader is urged to consult `sequence.py` itself, which is exhaustively commented and annotated with docstrings and type hints."
   ]
  },
  {
   "cell_type": "markdown",
   "metadata": {},
   "source": [
    "## Detection of putative HGT sites using the odds-ratio 2-mer methodology\n",
    "\n",
    "As detailed above, we perform the detection of putative HGT sites with the odds-ratio 2-mer methodology as follows:"
   ]
  },
  {
   "cell_type": "code",
   "execution_count": 1,
   "metadata": {
    "ExecuteTime": {
     "end_time": "2023-04-07T23:53:50.879651Z",
     "start_time": "2023-04-07T23:53:46.559757Z"
    }
   },
   "outputs": [
    {
     "name": "stdout",
     "output_type": "stream",
     "text": [
      "Window start\tZ-score\n",
      "311700\t5.3031\n",
      "311800\t5.8813\n",
      "311900\t6.6985\n",
      "312000\t6.3277\n",
      "312100\t5.4057\n",
      "610300\t5.0575\n",
      "610400\t5.6479\n",
      "610500\t5.9359\n",
      "610600\t7.2819\n",
      "610700\t7.5339\n",
      "610800\t7.8037\n",
      "610900\t7.2032\n",
      "611000\t6.5831\n",
      "611100\t6.4455\n",
      "611200\t6.9192\n",
      "611300\t6.4523\n",
      "611400\t6.1337\n",
      "611500\t6.1204\n",
      "611600\t5.8372\n",
      "611700\t5.7202\n",
      "611800\t5.3438\n",
      "611900\t5.7123\n",
      "612000\t5.7203\n",
      "612100\t5.2956\n",
      "613800\t5.8655\n",
      "613900\t5.4437\n",
      "614000\t5.7453\n",
      "614100\t6.0973\n",
      "614200\t5.9318\n",
      "614300\t6.1648\n",
      "614400\t5.8170\n",
      "615500\t5.0401\n",
      "615600\t5.8298\n",
      "615700\t6.3110\n",
      "615800\t7.3241\n",
      "615900\t7.6820\n",
      "616000\t7.6751\n",
      "616100\t6.8613\n",
      "616200\t6.5333\n",
      "616300\t6.5933\n",
      "616400\t6.6137\n",
      "616500\t6.2846\n",
      "616600\t5.9952\n",
      "616700\t5.8507\n",
      "616800\t5.7324\n",
      "616900\t5.7050\n",
      "617000\t5.4330\n",
      "617100\t5.6239\n",
      "617200\t5.5615\n",
      "617300\t5.1159\n",
      "619000\t5.8735\n",
      "619100\t5.5163\n",
      "619200\t5.6175\n",
      "619300\t6.2223\n",
      "619400\t6.0338\n",
      "619500\t6.2758\n",
      "619600\t6.1254\n",
      "619900\t5.0396\n",
      "620100\t5.4832\n",
      "659800\t5.5418\n",
      "659900\t5.8254\n",
      "660000\t6.3384\n",
      "660100\t7.3621\n",
      "660200\t7.6157\n",
      "660300\t7.6794\n",
      "660400\t6.8111\n",
      "660500\t6.7449\n",
      "660600\t6.5517\n",
      "660700\t6.4178\n",
      "660800\t6.3815\n",
      "660900\t5.9739\n",
      "661000\t5.8265\n",
      "661100\t5.5748\n",
      "661200\t5.6586\n",
      "661300\t5.5443\n",
      "661400\t5.5822\n",
      "661500\t5.2845\n",
      "661600\t5.0800\n",
      "663300\t5.4486\n",
      "663400\t5.5761\n",
      "663500\t5.3589\n",
      "663600\t6.1887\n",
      "663700\t5.7689\n",
      "663800\t6.1012\n",
      "663900\t6.2956\n",
      "1211500\t5.3604\n",
      "1211600\t5.4859\n",
      "1211700\t5.1155\n",
      "1687000\t6.1288\n",
      "1687100\t6.2965\n",
      "1687200\t6.1610\n",
      "1687300\t6.2346\n",
      "1687400\t5.7210\n",
      "1687500\t5.4689\n",
      "1687600\t5.8233\n",
      "1689500\t5.7344\n",
      "1689600\t5.7583\n",
      "1689700\t5.4618\n",
      "1689800\t5.4375\n",
      "1689900\t5.4321\n",
      "1690000\t5.7451\n",
      "1690100\t6.0736\n",
      "1690200\t6.3031\n",
      "1690300\t6.5985\n",
      "1690400\t6.9291\n",
      "1690500\t6.5481\n",
      "1690600\t6.9047\n",
      "1690700\t7.6236\n",
      "1690800\t7.9635\n",
      "1690900\t7.8000\n",
      "1691000\t6.9406\n",
      "1691100\t5.9609\n",
      "1691200\t5.6611\n",
      "1691300\t5.6942\n",
      "1691400\t5.5209\n",
      "1691500\t5.4740\n",
      "1691600\t5.1947\n",
      "1802100\t6.2457\n",
      "1802200\t6.3446\n",
      "1802300\t5.8245\n",
      "1802400\t6.2988\n",
      "1802500\t5.4610\n",
      "1802600\t5.5904\n",
      "1802700\t5.8157\n",
      "1804600\t5.6582\n",
      "1804700\t5.5973\n",
      "1804800\t5.5977\n",
      "1804900\t5.4393\n",
      "1805000\t5.4394\n",
      "1805100\t5.6992\n",
      "1805200\t6.0753\n",
      "1805300\t6.2953\n",
      "1805400\t6.4619\n",
      "1805500\t6.8820\n",
      "1805600\t6.7768\n",
      "1805700\t6.8681\n",
      "1805800\t7.6660\n",
      "1805900\t8.0007\n",
      "1806000\t7.7369\n",
      "1806100\t6.8546\n",
      "1806200\t5.9518\n",
      "1806300\t5.7008\n",
      "1975200\t5.8016\n",
      "1975300\t6.2286\n",
      "1975400\t6.1426\n",
      "1975500\t6.2965\n",
      "1975600\t5.6682\n",
      "1975700\t5.0969\n",
      "1975800\t5.8720\n",
      "1976100\t5.0014\n",
      "1977700\t5.7337\n",
      "1977800\t5.9762\n",
      "1977900\t5.5233\n",
      "1978000\t5.4217\n",
      "1978100\t5.7144\n",
      "1978200\t5.8946\n",
      "1978300\t6.1316\n",
      "1978400\t6.2652\n",
      "1978500\t6.6278\n",
      "1978600\t7.0785\n",
      "1978700\t6.4710\n",
      "1978800\t6.5997\n",
      "1978900\t7.6571\n",
      "1979000\t8.0159\n",
      "1979100\t7.7677\n",
      "1979200\t7.3230\n",
      "1979300\t5.9449\n",
      "1979400\t5.7475\n",
      "1979500\t5.5402\n",
      "1979600\t5.1053\n",
      "1979700\t5.2405\n",
      "1979800\t5.3677\n",
      "1980200\t5.3868\n",
      "1980300\t6.7234\n",
      "1980400\t6.7565\n",
      "1980500\t7.3652\n",
      "1980600\t7.2698\n",
      "1980700\t7.9420\n",
      "1980800\t7.7188\n",
      "1980900\t7.5263\n",
      "1981000\t7.2247\n",
      "1981100\t7.2519\n",
      "1981200\t7.1973\n",
      "1981300\t7.2453\n",
      "1981400\t7.4381\n",
      "1981500\t7.1334\n",
      "1981600\t6.7574\n",
      "1981700\t5.8175\n",
      "1981800\t5.6597\n",
      "1981900\t5.4635\n"
     ]
    }
   ],
   "source": [
    "# Imports\n",
    "from sequence import *\n",
    "import numpy as np\n",
    "from scipy.stats import spearmanr\n",
    "import matplotlib.pyplot as plt\n",
    "import seaborn as sns\n",
    "import pandas as pd\n",
    "# To allow the user to easily change them, define hyperparameters\n",
    "# as global variables\n",
    "# HGT Z-score threshold:\n",
    "HGT_ZSCORE_THRES = 5\n",
    "# Overlapping window size\n",
    "WINDOW_SIZE = 1000\n",
    "# Consecutive window percent overlap\n",
    "WINDOW_PCT_OVERLAP = 0.1\n",
    "# Step (Window size * overlap), integer-cast\n",
    "WINDOW_STEP = int(WINDOW_SIZE*WINDOW_PCT_OVERLAP)\n",
    "\n",
    "# Create a Sequence object for the S. aureus genome\n",
    "# (bundled in this distribution)\n",
    "seq = Sequence('assets/Staaur.fa')\n",
    "# Get the Z-scores as detailed above\n",
    "oe_ratio_d2_zscores = seq.get_windowed_oe_ratio_d2_zscores(size=WINDOW_SIZE,\n",
    "                                                           pct_overlap=WINDOW_PCT_OVERLAP,\n",
    "                                                           k=2)\n",
    "\n",
    "# Find the windows over the threshold, and pretty-print them\n",
    "# (z-scores rounded to 4 decimals)\n",
    "idx_hgt_oe_d2= np.where(abs(oe_ratio_d2_zscores) >=\n",
    "                        HGT_ZSCORE_THRES)[0]\n",
    "print('Window start\\tZ-score')\n",
    "for i in idx_hgt_oe_d2:\n",
    "    print(f'{i*100}\\t{oe_ratio_d2_zscores[i]:.4f}')"
   ]
  },
  {
   "cell_type": "markdown",
   "metadata": {},
   "source": [
    "## Comparison of the odds-ratio 2-mer-based methodology with the GC content-based methodology"
   ]
  },
  {
   "cell_type": "markdown",
   "metadata": {},
   "source": [
    "A relatively straightforward way to compare the two methodologies would be to create a scatterplot of the Z-scores produced by them:"
   ]
  },
  {
   "cell_type": "code",
   "execution_count": 2,
   "metadata": {
    "ExecuteTime": {
     "end_time": "2023-04-07T23:53:51.360021Z",
     "start_time": "2023-04-07T23:53:51.218237Z"
    }
   },
   "outputs": [
    {
     "data": {
      "image/png": "[encoded data removed]",
      "text/plain": [
       "<Figure size 432x288 with 1 Axes>"
      ]
     },
     "metadata": {
      "needs_background": "light"
     },
     "output_type": "display_data"
    }
   ],
   "source": [
    "# Compute windowed GC-content Z-scores with the same parameters\n",
    "gc_zscores = seq.get_windowed_gc_content_zscores(size=WINDOW_SIZE,\n",
    "                                                 pct_overlap=WINDOW_PCT_OVERLAP)\n",
    "plt.scatter(oe_ratio_d2_zscores, gc_zscores)\n",
    "_ = plt.xlabel('Odds-ratio 2-mer-based Z-scores')\n",
    "_ = plt.ylabel('GC content-based Z-scores')\n"
   ]
  },
  {
   "cell_type": "markdown",
   "metadata": {},
   "source": [
    "From the above figure, there appear to exist two groups of windows:\n",
    "1. Those whose GC content-based Z-score correlates positively with their respective odds ratio 2-mer-based Z-score\n",
    "2. Those whose GC-content-based Z-score inversely correlates with their respective odds ratio 2-mer-based Z-score\n",
    "\n",
    "This means that there are windows whose properties would be considered roughly similar by the two metrics, windows which are considered under the norm as far as GC-content is concerned, but are considered above or within the norm with the odds ratio 2-mer-based metric, and inversely. However, it appears that, at high Z-scores (approximately above 5, which coincidentally is the Z-score threshold employed in the lecture), the two metrics correlate quite well.\n",
    "\n",
    "To get a visual overview of their values across the genome, we may also plot a heatmap of the two metrics:"
   ]
  },
  {
   "cell_type": "code",
   "execution_count": 3,
   "metadata": {
    "ExecuteTime": {
     "end_time": "2023-04-07T23:53:51.604387Z",
     "start_time": "2023-04-07T23:53:51.365574Z"
    }
   },
   "outputs": [
    {
     "data": {
      "image/png": "[encoded data removed]",
      "text/plain": [
       "<Figure size 432x288 with 2 Axes>"
      ]
     },
     "metadata": {
      "needs_background": "light"
     },
     "output_type": "display_data"
    }
   ],
   "source": [
    "# Create a pandas dataframe of the two z-scores\n",
    "# to ease decorating the plot\n",
    "da = pd.DataFrame({'Observed over Expected\\n2-mer frequency Euclidean\\ndistance-based': oe_ratio_d2_zscores,\n",
    "                   'GC content-based': gc_zscores},\n",
    "                  index=range(0,\n",
    "                              len(oe_ratio_d2_zscores)*WINDOW_STEP,\n",
    "                              WINDOW_STEP))\n",
    "# Create the heatmap\n",
    "ax = sns.heatmap(data=da, cmap='viridis',\n",
    "                 cbar_kws={'label': 'Z-score'})\n",
    "# Change the heatmap's Y axis' label to reflect its content\n",
    "# (store output in a dummy variable _ to avoid printing garbage\n",
    "# in the jupyter notebook)\n",
    "_ = ax.set_ylabel('Genomic window start')"
   ]
  },
  {
   "cell_type": "markdown",
   "metadata": {},
   "source": [
    "This plot is consistent with our observation that the two metrics correlate well at higher Z-scores, though there is less of a correlation at lower values. We can confirm this by computing the Spearman correlation metric between the two arrays:"
   ]
  },
  {
   "cell_type": "code",
   "execution_count": 4,
   "metadata": {
    "ExecuteTime": {
     "end_time": "2023-04-07T23:53:51.745426Z",
     "start_time": "2023-04-07T23:53:51.604674Z"
    }
   },
   "outputs": [
    {
     "data": {
      "text/plain": [
       "SpearmanrResult(correlation=0.1934995231467705, pvalue=2.0910536099352898e-231)"
      ]
     },
     "execution_count": 4,
     "metadata": {},
     "output_type": "execute_result"
    }
   ],
   "source": [
    "spearmanr(oe_ratio_d2_zscores, gc_zscores)"
   ]
  },
  {
   "cell_type": "markdown",
   "metadata": {},
   "source": [
    "Even though the correlation is statistically significant (at least at an $\\alpha = 0.05$), at about 0.2, it is fairly low. However, if we only compute the correlation for the windows which have a Z-score higher than 3 in both arrays..."
   ]
  },
  {
   "cell_type": "code",
   "execution_count": 5,
   "metadata": {
    "ExecuteTime": {
     "end_time": "2023-04-07T23:53:51.745670Z",
     "start_time": "2023-04-07T23:53:51.728358Z"
    }
   },
   "outputs": [
    {
     "data": {
      "text/plain": [
       "SpearmanrResult(correlation=0.9034824127818318, pvalue=1.3263333929195574e-107)"
      ]
     },
     "execution_count": 5,
     "metadata": {},
     "output_type": "execute_result"
    }
   ],
   "source": [
    "# Find indices where the Z-score is over 3 for both\n",
    "# metrics\n",
    "idx_hiz = np.where((oe_ratio_d2_zscores >= 3) &\n",
    "                   (gc_zscores >= 3))[0]\n",
    "# Compute the correlation\n",
    "spearmanr(oe_ratio_d2_zscores[idx_hiz],\n",
    "          gc_zscores[idx_hiz])"
   ]
  },
  {
   "cell_type": "markdown",
   "metadata": {},
   "source": [
    "...we see that, windows that have a relatively high Z-score in both metrics, correlate extremely well across metrics."
   ]
  },
  {
   "cell_type": "markdown",
   "metadata": {},
   "source": [
    "Finally, we will print the putative HGT sites that differ between metrics:"
   ]
  },
  {
   "cell_type": "code",
   "execution_count": 6,
   "metadata": {
    "ExecuteTime": {
     "end_time": "2023-04-07T23:53:51.745748Z",
     "start_time": "2023-04-07T23:53:51.728386Z"
    }
   },
   "outputs": [
    {
     "name": "stdout",
     "output_type": "stream",
     "text": [
      "Putative HGT sites detected by odds ratio 2-mer-based method and not by GC-content-based method:\n",
      "Window start\tZ-score (O/E ratio-based)\tZ-score (GC content-based)\n",
      "311700\t5.3031\t3.3057\n",
      "311800\t5.8813\t3.5107\n",
      "311900\t6.6985\t3.7451\n",
      "312000\t6.3277\t3.8036\n",
      "312100\t5.4057\t3.6572\n",
      "610300\t5.0575\t4.7703\n",
      "611600\t5.8372\t4.9753\n",
      "611700\t5.7202\t4.8874\n",
      "611800\t5.3438\t4.7410\n",
      "611900\t5.7123\t4.7703\n",
      "612000\t5.7203\t4.7703\n",
      "612100\t5.2956\t4.7410\n",
      "614400\t5.8170\t4.9460\n",
      "615500\t5.0401\t4.6238\n",
      "616700\t5.8507\t4.9753\n",
      "616800\t5.7324\t4.9753\n",
      "616900\t5.7050\t4.8874\n",
      "617000\t5.4330\t4.7703\n",
      "617100\t5.6239\t4.7703\n",
      "617200\t5.5615\t4.7117\n",
      "617300\t5.1159\t4.5945\n",
      "619900\t5.0396\t4.3016\n",
      "620100\t5.4832\t4.5945\n",
      "661000\t5.8265\t4.9753\n",
      "661100\t5.5748\t4.8582\n",
      "661200\t5.6586\t4.8582\n",
      "661300\t5.5443\t4.8582\n",
      "661400\t5.5822\t4.7703\n",
      "661500\t5.2845\t4.6238\n",
      "661600\t5.0800\t4.5066\n",
      "1211500\t5.3604\t3.9501\n",
      "1211600\t5.4859\t4.0673\n",
      "1211700\t5.1155\t3.3057\n",
      "1689500\t5.7344\t4.7703\n",
      "1689600\t5.7583\t4.7410\n",
      "1689700\t5.4618\t4.6824\n",
      "1689800\t5.4375\t4.7703\n",
      "1689900\t5.4321\t4.7996\n",
      "1690000\t5.7451\t4.9753\n",
      "1691500\t5.4740\t4.9167\n",
      "1691600\t5.1947\t4.7996\n",
      "1804600\t5.6582\t4.7996\n",
      "1804700\t5.5973\t4.6824\n",
      "1804800\t5.5977\t4.7410\n",
      "1804900\t5.4393\t4.7410\n",
      "1805000\t5.4394\t4.7996\n",
      "1805100\t5.6992\t4.9167\n",
      "1975200\t5.8016\t4.8289\n",
      "1976100\t5.0014\t4.8874\n",
      "1977700\t5.7337\t4.8874\n",
      "1977800\t5.9762\t4.8289\n",
      "1977900\t5.5233\t4.7117\n",
      "1978000\t5.4217\t4.7703\n",
      "1978100\t5.7144\t4.8582\n",
      "1979600\t5.1053\t4.7996\n",
      "1979700\t5.2405\t4.8874\n",
      "1979800\t5.3677\t4.9460\n",
      "1980200\t5.3868\t4.7410\n",
      "1981600\t6.7574\t4.9167\n",
      "1981700\t5.8175\t4.5066\n",
      "1981800\t5.6597\t4.4481\n",
      "1981900\t5.4635\t4.2430\n"
     ]
    }
   ],
   "source": [
    "# Get the indices of the GC-based Z-scores higher than the thershold\n",
    "idx_hgt_gc = np.where(abs(gc_zscores) >=\n",
    "                      HGT_ZSCORE_THRES)[0]\n",
    "# Find the indices in the OE-based putative sites but not in the GC-based\n",
    "# ones\n",
    "in_d2_not_in_gc = sorted(set(idx_hgt_oe_d2).difference(set(idx_hgt_gc)))\n",
    "# Find the indices in the GC-based putative sites, but not in the OE-based\n",
    "# ones\n",
    "in_gc_not_in_d2 = sorted(set(idx_hgt_gc).difference(set(idx_hgt_oe_d2)))\n",
    "\n",
    "# Pretty-print everything:\n",
    "print('Putative HGT sites detected by odds ratio 2-mer-based method and not by GC-content-based method:')\n",
    "print('Window start\\tZ-score (O/E ratio-based)\\tZ-score (GC content-based)')\n",
    "for i in in_d2_not_in_gc:\n",
    "    print(f'{i*WINDOW_STEP}\\t{oe_ratio_d2_zscores[i]:.4f}\\t{gc_zscores[i]:.4f}')"
   ]
  },
  {
   "cell_type": "code",
   "execution_count": 7,
   "metadata": {
    "ExecuteTime": {
     "end_time": "2023-04-07T23:53:51.745819Z",
     "start_time": "2023-04-07T23:53:51.728411Z"
    }
   },
   "outputs": [
    {
     "name": "stdout",
     "output_type": "stream",
     "text": [
      "Putative HGT sites detected by GC-content-based method and not by the odds ratio 2-mer-based method:\n",
      "Window start\tZ-score (O/E ratio-based)\tZ-score (GC content-based)\n",
      "2764200\t-0.3464\t-5.0425\n",
      "2764300\t0.7098\t-6.0677\n",
      "2764400\t1.2267\t-6.9464\n",
      "2764500\t1.6884\t-7.9131\n"
     ]
    }
   ],
   "source": [
    "print('Putative HGT sites detected by GC-content-based method and not by the odds ratio 2-mer-based method:')\n",
    "print('Window start\\tZ-score (O/E ratio-based)\\tZ-score (GC content-based)')\n",
    "for i in in_gc_not_in_d2:\n",
    "    print(f'{i*WINDOW_STEP}\\t{oe_ratio_d2_zscores[i]:.4f}\\t{gc_zscores[i]:.4f}')"
   ]
  },
  {
   "cell_type": "markdown",
   "metadata": {},
   "source": [
    "It appears that most putative HGT sites detected by the GC content-based method were also detected by the odds ratio 2-mer-based method. However, the latter method detects quite a few putative sites that were not detected by the GC-based method. In any case, these sites had a Z-score well above zero in both metrics, so the two metrics would agree better if a laxer Z-score threshold were to be used for the GC content-based method, which appears to be less sensitive."
   ]
  }
 ],
 "metadata": {
  "kernelspec": {
   "display_name": "Python 3",
   "language": "python",
   "name": "python3"
  },
  "language_info": {
   "codemirror_mode": {
    "name": "ipython",
    "version": 3
   },
   "file_extension": ".py",
   "mimetype": "text/x-python",
   "name": "python",
   "nbconvert_exporter": "python",
   "pygments_lexer": "ipython3",
   "version": "3.9.16"
  }
 },
 "nbformat": 4,
 "nbformat_minor": 1
}
