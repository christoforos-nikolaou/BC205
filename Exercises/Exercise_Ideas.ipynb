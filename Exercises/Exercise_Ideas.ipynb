{
 "cells": [
  {
   "cell_type": "markdown",
   "metadata": {},
   "source": [
    "### Coding Exercise Ideas"
   ]
  },
  {
   "cell_type": "markdown",
   "metadata": {},
   "source": [
    "1. Collatz Series. Start with all numbers in x, x being the series of integers from 1 to N. Calculate steps for convergence and plot them against x. Spot patterns?\n",
    "2. Code the prisoners dilemma with 3-3 for C-C, 5-0 and 0-5 for D-C and C-D respectively and 1-1 for D-D. Devise strategies and play them against each other. Great group game !!!\n",
    "3. "
   ]
  }
 ],
 "metadata": {
  "language_info": {
   "name": "python"
  }
 },
 "nbformat": 4,
 "nbformat_minor": 2
}
